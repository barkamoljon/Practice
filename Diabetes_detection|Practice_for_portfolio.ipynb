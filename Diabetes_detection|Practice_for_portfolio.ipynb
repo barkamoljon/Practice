{
  "nbformat": 4,
  "nbformat_minor": 0,
  "metadata": {
    "colab": {
      "provenance": [],
      "toc_visible": true,
      "authorship_tag": "ABX9TyPFYapJNxXbsFHTksuUphqy",
      "include_colab_link": true
    },
    "kernelspec": {
      "name": "python3",
      "display_name": "Python 3"
    },
    "language_info": {
      "name": "python"
    }
  },
  "cells": [
    {
      "cell_type": "markdown",
      "metadata": {
        "id": "view-in-github",
        "colab_type": "text"
      },
      "source": [
        "<a href=\"https://colab.research.google.com/github/barkamoljon/Practice/blob/main/Diabetes_detection%7CPractice_for_portfolio.ipynb\" target=\"_parent\"><img src=\"https://colab.research.google.com/assets/colab-badge.svg\" alt=\"Open In Colab\"/></a>"
      ]
    },
    {
      "cell_type": "markdown",
      "source": [
        "###**Bismillah.Alhamdulillah.Va Solatu va Salama a`la Rosulillah**"
      ],
      "metadata": {
        "id": "dudaWeZcqcYZ"
      }
    },
    {
      "cell_type": "markdown",
      "source": [
        "\n",
        "###**Vazifa**\n",
        "\n",
        "Quyidagi ma’lumotlar to’plami Hindistonning Qandli diabet va buyrak kasalliklari milliy institutidan olingan. Maqsad diagnostik o’lchovlar asosida bemorda diabet bor-yo’qligini taxmin qilishdir.\n",
        "###**Tarkib**\n",
        "\n",
        "Dataset ichida barcha bemorlar kamida 21 yoshli ayollari.\n",
        "###**Ustunlar**\n",
        "\n",
        "    Pregnancies: homilador bo’lish soni\n",
        "    Glucose: glyukozaga test natijasi\n",
        "    BloodPressure: diastolik qon bosimi (mm Hg)\n",
        "    SkinThickness: Triceps teri burmasining qalinligi (mm)\n",
        "    Insulin: 2 soatlik sarum insulini (mu U/ml)\n",
        "    BMI: Tana massasi indeksi (vazn kg / (m bo’yi) ^ 2)\n",
        "    DiabetesPedigreeFunction: diabetning naslchilik funktsiyasi\n",
        "    Age: Yosh (yil)\n",
        "    Outcome: Class (0 – diabet yo’q, 1 – diabet)\n",
        "\n",
        "Dataset: https://github.com/anvarnarz/praktikum_datasets/blob/main/diabetes.csv\n"
      ],
      "metadata": {
        "id": "xf5OFRjuuCLH"
      }
    },
    {
      "cell_type": "code",
      "source": [
        "#Keraklik kutubxonalarni chaqirib olamiz\n",
        "import pandas as pd\n",
        "import numpy as np\n",
        "import seaborn as sns\n",
        "import matplotlib.pyplot as plt\n",
        "\n",
        "from sklearn.preprocessing import StandardScaler\n",
        "from sklearn.model_selection import cross_val_predict\n",
        "from sklearn.model_selection import train_test_split\n",
        "from sklearn.model_selection import GridSearchCV\n",
        "from sklearn.linear_model import LogisticRegression\n",
        "from xgboost import XGBClassifier\n",
        "from sklearn.tree import DecisionTreeClassifier, plot_tree\n",
        "from sklearn.ensemble import RandomForestClassifier\n",
        "from sklearn.svm import SVC\n",
        "from sklearn.neighbors import KNeighborsClassifier\n",
        "from sklearn.metrics import classification_report\n",
        "from sklearn.metrics import confusion_matrix\n",
        "from sklearn.metrics import precision_score, recall_score, f1_score, accuracy_score\n",
        "from sklearn.metrics import jaccard_score\n",
        "from sklearn.metrics import roc_curve, roc_auc_score,auc,RocCurveDisplay"
      ],
      "metadata": {
        "id": "JHlaaQXTx2-A"
      },
      "execution_count": null,
      "outputs": []
    },
    {
      "cell_type": "code",
      "source": [
        "# Onlayn dataset joylashgan manzilini ko'rsatamiz\n",
        "URL = \"https://github.com/anvarnarz/praktikum_datasets/blob/main/diabetes.csv?raw=true\"\n",
        "df = pd.read_csv(URL)\n",
        "df.sample(10)"
      ],
      "metadata": {
        "colab": {
          "base_uri": "https://localhost:8080/",
          "height": 363
        },
        "id": "JdY8rgp5sK0Z",
        "outputId": "af2e9dbb-6ec6-4366-e359-57a783fdb1b9"
      },
      "execution_count": null,
      "outputs": [
        {
          "output_type": "execute_result",
          "data": {
            "text/plain": [
              "     Pregnancies  Glucose  BloodPressure  SkinThickness  Insulin   BMI  \\\n",
              "532            1       86             66             52       65  41.3   \n",
              "28            13      145             82             19      110  22.2   \n",
              "40             3      180             64             25       70  34.0   \n",
              "523            9      130             70              0        0  34.2   \n",
              "216            5      109             62             41      129  35.8   \n",
              "10             4      110             92              0        0  37.6   \n",
              "687            1      107             50             19        0  28.3   \n",
              "557            8      110             76              0        0  27.8   \n",
              "252            2       90             80             14       55  24.4   \n",
              "566            1       99             72             30       18  38.6   \n",
              "\n",
              "     DiabetesPedigreeFunction  Age  Outcome  \n",
              "532                     0.917   29        0  \n",
              "28                      0.245   57        0  \n",
              "40                      0.271   26        0  \n",
              "523                     0.652   45        1  \n",
              "216                     0.514   25        1  \n",
              "10                      0.191   30        0  \n",
              "687                     0.181   29        0  \n",
              "557                     0.237   58        0  \n",
              "252                     0.249   24        0  \n",
              "566                     0.412   21        0  "
            ],
            "text/html": [
              "\n",
              "  <div id=\"df-bd27a48e-5060-465f-b94f-b56cd98507ad\">\n",
              "    <div class=\"colab-df-container\">\n",
              "      <div>\n",
              "<style scoped>\n",
              "    .dataframe tbody tr th:only-of-type {\n",
              "        vertical-align: middle;\n",
              "    }\n",
              "\n",
              "    .dataframe tbody tr th {\n",
              "        vertical-align: top;\n",
              "    }\n",
              "\n",
              "    .dataframe thead th {\n",
              "        text-align: right;\n",
              "    }\n",
              "</style>\n",
              "<table border=\"1\" class=\"dataframe\">\n",
              "  <thead>\n",
              "    <tr style=\"text-align: right;\">\n",
              "      <th></th>\n",
              "      <th>Pregnancies</th>\n",
              "      <th>Glucose</th>\n",
              "      <th>BloodPressure</th>\n",
              "      <th>SkinThickness</th>\n",
              "      <th>Insulin</th>\n",
              "      <th>BMI</th>\n",
              "      <th>DiabetesPedigreeFunction</th>\n",
              "      <th>Age</th>\n",
              "      <th>Outcome</th>\n",
              "    </tr>\n",
              "  </thead>\n",
              "  <tbody>\n",
              "    <tr>\n",
              "      <th>532</th>\n",
              "      <td>1</td>\n",
              "      <td>86</td>\n",
              "      <td>66</td>\n",
              "      <td>52</td>\n",
              "      <td>65</td>\n",
              "      <td>41.3</td>\n",
              "      <td>0.917</td>\n",
              "      <td>29</td>\n",
              "      <td>0</td>\n",
              "    </tr>\n",
              "    <tr>\n",
              "      <th>28</th>\n",
              "      <td>13</td>\n",
              "      <td>145</td>\n",
              "      <td>82</td>\n",
              "      <td>19</td>\n",
              "      <td>110</td>\n",
              "      <td>22.2</td>\n",
              "      <td>0.245</td>\n",
              "      <td>57</td>\n",
              "      <td>0</td>\n",
              "    </tr>\n",
              "    <tr>\n",
              "      <th>40</th>\n",
              "      <td>3</td>\n",
              "      <td>180</td>\n",
              "      <td>64</td>\n",
              "      <td>25</td>\n",
              "      <td>70</td>\n",
              "      <td>34.0</td>\n",
              "      <td>0.271</td>\n",
              "      <td>26</td>\n",
              "      <td>0</td>\n",
              "    </tr>\n",
              "    <tr>\n",
              "      <th>523</th>\n",
              "      <td>9</td>\n",
              "      <td>130</td>\n",
              "      <td>70</td>\n",
              "      <td>0</td>\n",
              "      <td>0</td>\n",
              "      <td>34.2</td>\n",
              "      <td>0.652</td>\n",
              "      <td>45</td>\n",
              "      <td>1</td>\n",
              "    </tr>\n",
              "    <tr>\n",
              "      <th>216</th>\n",
              "      <td>5</td>\n",
              "      <td>109</td>\n",
              "      <td>62</td>\n",
              "      <td>41</td>\n",
              "      <td>129</td>\n",
              "      <td>35.8</td>\n",
              "      <td>0.514</td>\n",
              "      <td>25</td>\n",
              "      <td>1</td>\n",
              "    </tr>\n",
              "    <tr>\n",
              "      <th>10</th>\n",
              "      <td>4</td>\n",
              "      <td>110</td>\n",
              "      <td>92</td>\n",
              "      <td>0</td>\n",
              "      <td>0</td>\n",
              "      <td>37.6</td>\n",
              "      <td>0.191</td>\n",
              "      <td>30</td>\n",
              "      <td>0</td>\n",
              "    </tr>\n",
              "    <tr>\n",
              "      <th>687</th>\n",
              "      <td>1</td>\n",
              "      <td>107</td>\n",
              "      <td>50</td>\n",
              "      <td>19</td>\n",
              "      <td>0</td>\n",
              "      <td>28.3</td>\n",
              "      <td>0.181</td>\n",
              "      <td>29</td>\n",
              "      <td>0</td>\n",
              "    </tr>\n",
              "    <tr>\n",
              "      <th>557</th>\n",
              "      <td>8</td>\n",
              "      <td>110</td>\n",
              "      <td>76</td>\n",
              "      <td>0</td>\n",
              "      <td>0</td>\n",
              "      <td>27.8</td>\n",
              "      <td>0.237</td>\n",
              "      <td>58</td>\n",
              "      <td>0</td>\n",
              "    </tr>\n",
              "    <tr>\n",
              "      <th>252</th>\n",
              "      <td>2</td>\n",
              "      <td>90</td>\n",
              "      <td>80</td>\n",
              "      <td>14</td>\n",
              "      <td>55</td>\n",
              "      <td>24.4</td>\n",
              "      <td>0.249</td>\n",
              "      <td>24</td>\n",
              "      <td>0</td>\n",
              "    </tr>\n",
              "    <tr>\n",
              "      <th>566</th>\n",
              "      <td>1</td>\n",
              "      <td>99</td>\n",
              "      <td>72</td>\n",
              "      <td>30</td>\n",
              "      <td>18</td>\n",
              "      <td>38.6</td>\n",
              "      <td>0.412</td>\n",
              "      <td>21</td>\n",
              "      <td>0</td>\n",
              "    </tr>\n",
              "  </tbody>\n",
              "</table>\n",
              "</div>\n",
              "      <button class=\"colab-df-convert\" onclick=\"convertToInteractive('df-bd27a48e-5060-465f-b94f-b56cd98507ad')\"\n",
              "              title=\"Convert this dataframe to an interactive table.\"\n",
              "              style=\"display:none;\">\n",
              "        \n",
              "  <svg xmlns=\"http://www.w3.org/2000/svg\" height=\"24px\"viewBox=\"0 0 24 24\"\n",
              "       width=\"24px\">\n",
              "    <path d=\"M0 0h24v24H0V0z\" fill=\"none\"/>\n",
              "    <path d=\"M18.56 5.44l.94 2.06.94-2.06 2.06-.94-2.06-.94-.94-2.06-.94 2.06-2.06.94zm-11 1L8.5 8.5l.94-2.06 2.06-.94-2.06-.94L8.5 2.5l-.94 2.06-2.06.94zm10 10l.94 2.06.94-2.06 2.06-.94-2.06-.94-.94-2.06-.94 2.06-2.06.94z\"/><path d=\"M17.41 7.96l-1.37-1.37c-.4-.4-.92-.59-1.43-.59-.52 0-1.04.2-1.43.59L10.3 9.45l-7.72 7.72c-.78.78-.78 2.05 0 2.83L4 21.41c.39.39.9.59 1.41.59.51 0 1.02-.2 1.41-.59l7.78-7.78 2.81-2.81c.8-.78.8-2.07 0-2.86zM5.41 20L4 18.59l7.72-7.72 1.47 1.35L5.41 20z\"/>\n",
              "  </svg>\n",
              "      </button>\n",
              "      \n",
              "  <style>\n",
              "    .colab-df-container {\n",
              "      display:flex;\n",
              "      flex-wrap:wrap;\n",
              "      gap: 12px;\n",
              "    }\n",
              "\n",
              "    .colab-df-convert {\n",
              "      background-color: #E8F0FE;\n",
              "      border: none;\n",
              "      border-radius: 50%;\n",
              "      cursor: pointer;\n",
              "      display: none;\n",
              "      fill: #1967D2;\n",
              "      height: 32px;\n",
              "      padding: 0 0 0 0;\n",
              "      width: 32px;\n",
              "    }\n",
              "\n",
              "    .colab-df-convert:hover {\n",
              "      background-color: #E2EBFA;\n",
              "      box-shadow: 0px 1px 2px rgba(60, 64, 67, 0.3), 0px 1px 3px 1px rgba(60, 64, 67, 0.15);\n",
              "      fill: #174EA6;\n",
              "    }\n",
              "\n",
              "    [theme=dark] .colab-df-convert {\n",
              "      background-color: #3B4455;\n",
              "      fill: #D2E3FC;\n",
              "    }\n",
              "\n",
              "    [theme=dark] .colab-df-convert:hover {\n",
              "      background-color: #434B5C;\n",
              "      box-shadow: 0px 1px 3px 1px rgba(0, 0, 0, 0.15);\n",
              "      filter: drop-shadow(0px 1px 2px rgba(0, 0, 0, 0.3));\n",
              "      fill: #FFFFFF;\n",
              "    }\n",
              "  </style>\n",
              "\n",
              "      <script>\n",
              "        const buttonEl =\n",
              "          document.querySelector('#df-bd27a48e-5060-465f-b94f-b56cd98507ad button.colab-df-convert');\n",
              "        buttonEl.style.display =\n",
              "          google.colab.kernel.accessAllowed ? 'block' : 'none';\n",
              "\n",
              "        async function convertToInteractive(key) {\n",
              "          const element = document.querySelector('#df-bd27a48e-5060-465f-b94f-b56cd98507ad');\n",
              "          const dataTable =\n",
              "            await google.colab.kernel.invokeFunction('convertToInteractive',\n",
              "                                                     [key], {});\n",
              "          if (!dataTable) return;\n",
              "\n",
              "          const docLinkHtml = 'Like what you see? Visit the ' +\n",
              "            '<a target=\"_blank\" href=https://colab.research.google.com/notebooks/data_table.ipynb>data table notebook</a>'\n",
              "            + ' to learn more about interactive tables.';\n",
              "          element.innerHTML = '';\n",
              "          dataTable['output_type'] = 'display_data';\n",
              "          await google.colab.output.renderOutput(dataTable, element);\n",
              "          const docLink = document.createElement('div');\n",
              "          docLink.innerHTML = docLinkHtml;\n",
              "          element.appendChild(docLink);\n",
              "        }\n",
              "      </script>\n",
              "    </div>\n",
              "  </div>\n",
              "  "
            ]
          },
          "metadata": {},
          "execution_count": 3
        }
      ]
    },
    {
      "cell_type": "code",
      "execution_count": null,
      "metadata": {
        "colab": {
          "base_uri": "https://localhost:8080/"
        },
        "id": "lLfLD-6fp2t0",
        "outputId": "5a90cf37-1be5-488e-d384-5c5e2437875a"
      },
      "outputs": [
        {
          "output_type": "execute_result",
          "data": {
            "text/plain": [
              "(768, 9)"
            ]
          },
          "metadata": {},
          "execution_count": 4
        }
      ],
      "source": [
        "df.shape"
      ]
    },
    {
      "cell_type": "code",
      "source": [
        "df['Outcome'].value_counts()"
      ],
      "metadata": {
        "colab": {
          "base_uri": "https://localhost:8080/"
        },
        "id": "KCO2K0CdqZcL",
        "outputId": "7deca95b-8aaa-41b4-8b2b-a04de562be5b"
      },
      "execution_count": null,
      "outputs": [
        {
          "output_type": "execute_result",
          "data": {
            "text/plain": [
              "0    500\n",
              "1    268\n",
              "Name: Outcome, dtype: int64"
            ]
          },
          "metadata": {},
          "execution_count": 5
        }
      ]
    },
    {
      "cell_type": "code",
      "source": [
        "index = df[df['Outcome']==0].iloc[list(range(0,232))].index"
      ],
      "metadata": {
        "id": "teIn4GB7IEj4"
      },
      "execution_count": null,
      "outputs": []
    },
    {
      "cell_type": "code",
      "source": [
        "df2 = df.drop(index)"
      ],
      "metadata": {
        "id": "0tevIbKaIBiL"
      },
      "execution_count": null,
      "outputs": []
    },
    {
      "cell_type": "code",
      "source": [
        "df2['Outcome'].value_counts()"
      ],
      "metadata": {
        "colab": {
          "base_uri": "https://localhost:8080/"
        },
        "id": "_DI3jMERL9O-",
        "outputId": "c3015a54-999e-4458-e060-75b5d29d7f64"
      },
      "execution_count": null,
      "outputs": [
        {
          "output_type": "execute_result",
          "data": {
            "text/plain": [
              "1    268\n",
              "0    268\n",
              "Name: Outcome, dtype: int64"
            ]
          },
          "metadata": {},
          "execution_count": 8
        }
      ]
    },
    {
      "cell_type": "code",
      "source": [
        "corr_matrix = df2.corr().abs()\n",
        "corr_matrix.style.background_gradient(cmap='hot')"
      ],
      "metadata": {
        "colab": {
          "base_uri": "https://localhost:8080/",
          "height": 332
        },
        "id": "XNb3q-Oh07Ur",
        "outputId": "7f962243-df42-464f-f745-4b16c2b8e30a"
      },
      "execution_count": null,
      "outputs": [
        {
          "output_type": "execute_result",
          "data": {
            "text/plain": [
              "<pandas.io.formats.style.Styler at 0x7f9fd64a3b90>"
            ],
            "text/html": [
              "<style type=\"text/css\">\n",
              "#T_67260_row0_col0, #T_67260_row1_col1, #T_67260_row2_col2, #T_67260_row3_col3, #T_67260_row4_col4, #T_67260_row5_col5, #T_67260_row6_col6, #T_67260_row7_col7, #T_67260_row8_col8 {\n",
              "  background-color: #ffffff;\n",
              "  color: #000000;\n",
              "}\n",
              "#T_67260_row0_col1 {\n",
              "  background-color: #270000;\n",
              "  color: #f1f1f1;\n",
              "}\n",
              "#T_67260_row0_col2, #T_67260_row1_col2 {\n",
              "  background-color: #540000;\n",
              "  color: #f1f1f1;\n",
              "}\n",
              "#T_67260_row0_col3, #T_67260_row3_col8 {\n",
              "  background-color: #100000;\n",
              "  color: #f1f1f1;\n",
              "}\n",
              "#T_67260_row0_col4 {\n",
              "  background-color: #2f0000;\n",
              "  color: #f1f1f1;\n",
              "}\n",
              "#T_67260_row0_col5, #T_67260_row1_col3, #T_67260_row2_col8, #T_67260_row3_col1, #T_67260_row5_col0, #T_67260_row6_col2, #T_67260_row6_col7, #T_67260_row7_col4, #T_67260_row7_col6, #T_67260_row8_col3 {\n",
              "  background-color: #0b0000;\n",
              "  color: #f1f1f1;\n",
              "}\n",
              "#T_67260_row0_col6, #T_67260_row4_col7, #T_67260_row5_col7 {\n",
              "  background-color: #180000;\n",
              "  color: #f1f1f1;\n",
              "}\n",
              "#T_67260_row0_col7 {\n",
              "  background-color: #ff6600;\n",
              "  color: #f1f1f1;\n",
              "}\n",
              "#T_67260_row0_col8, #T_67260_row3_col2 {\n",
              "  background-color: #890000;\n",
              "  color: #f1f1f1;\n",
              "}\n",
              "#T_67260_row1_col0, #T_67260_row6_col8, #T_67260_row8_col4 {\n",
              "  background-color: #4f0000;\n",
              "  color: #f1f1f1;\n",
              "}\n",
              "#T_67260_row1_col4 {\n",
              "  background-color: #c20000;\n",
              "  color: #f1f1f1;\n",
              "}\n",
              "#T_67260_row1_col5, #T_67260_row7_col2 {\n",
              "  background-color: #8e0000;\n",
              "  color: #f1f1f1;\n",
              "}\n",
              "#T_67260_row1_col6, #T_67260_row3_col7 {\n",
              "  background-color: #4c0000;\n",
              "  color: #f1f1f1;\n",
              "}\n",
              "#T_67260_row1_col7, #T_67260_row8_col7 {\n",
              "  background-color: #ab0000;\n",
              "  color: #f1f1f1;\n",
              "}\n",
              "#T_67260_row1_col8 {\n",
              "  background-color: #ff3c00;\n",
              "  color: #f1f1f1;\n",
              "}\n",
              "#T_67260_row2_col0, #T_67260_row5_col1 {\n",
              "  background-color: #6c0000;\n",
              "  color: #f1f1f1;\n",
              "}\n",
              "#T_67260_row2_col1 {\n",
              "  background-color: #470000;\n",
              "  color: #f1f1f1;\n",
              "}\n",
              "#T_67260_row2_col3 {\n",
              "  background-color: #7b0000;\n",
              "  color: #f1f1f1;\n",
              "}\n",
              "#T_67260_row2_col4 {\n",
              "  background-color: #320000;\n",
              "  color: #f1f1f1;\n",
              "}\n",
              "#T_67260_row2_col5 {\n",
              "  background-color: #b00000;\n",
              "  color: #f1f1f1;\n",
              "}\n",
              "#T_67260_row2_col6 {\n",
              "  background-color: #2a0000;\n",
              "  color: #f1f1f1;\n",
              "}\n",
              "#T_67260_row2_col7, #T_67260_row4_col1 {\n",
              "  background-color: #a80000;\n",
              "  color: #f1f1f1;\n",
              "}\n",
              "#T_67260_row3_col0, #T_67260_row4_col0, #T_67260_row4_col8 {\n",
              "  background-color: #370000;\n",
              "  color: #f1f1f1;\n",
              "}\n",
              "#T_67260_row3_col4 {\n",
              "  background-color: #ff2a00;\n",
              "  color: #f1f1f1;\n",
              "}\n",
              "#T_67260_row3_col5 {\n",
              "  background-color: #ff0a00;\n",
              "  color: #f1f1f1;\n",
              "}\n",
              "#T_67260_row3_col6 {\n",
              "  background-color: #980000;\n",
              "  color: #f1f1f1;\n",
              "}\n",
              "#T_67260_row4_col2, #T_67260_row6_col1, #T_67260_row7_col3 {\n",
              "  background-color: #200000;\n",
              "  color: #f1f1f1;\n",
              "}\n",
              "#T_67260_row4_col3 {\n",
              "  background-color: #ff1700;\n",
              "  color: #f1f1f1;\n",
              "}\n",
              "#T_67260_row4_col5, #T_67260_row4_col6 {\n",
              "  background-color: #690000;\n",
              "  color: #f1f1f1;\n",
              "}\n",
              "#T_67260_row5_col2 {\n",
              "  background-color: #9b0000;\n",
              "  color: #f1f1f1;\n",
              "}\n",
              "#T_67260_row5_col3 {\n",
              "  background-color: #ef0000;\n",
              "  color: #f1f1f1;\n",
              "}\n",
              "#T_67260_row5_col4 {\n",
              "  background-color: #640000;\n",
              "  color: #f1f1f1;\n",
              "}\n",
              "#T_67260_row5_col6 {\n",
              "  background-color: #790000;\n",
              "  color: #f1f1f1;\n",
              "}\n",
              "#T_67260_row5_col8 {\n",
              "  background-color: #ba0000;\n",
              "  color: #f1f1f1;\n",
              "}\n",
              "#T_67260_row6_col0, #T_67260_row7_col5, #T_67260_row8_col2 {\n",
              "  background-color: #120000;\n",
              "  color: #f1f1f1;\n",
              "}\n",
              "#T_67260_row6_col3 {\n",
              "  background-color: #710000;\n",
              "  color: #f1f1f1;\n",
              "}\n",
              "#T_67260_row6_col4 {\n",
              "  background-color: #5c0000;\n",
              "  color: #f1f1f1;\n",
              "}\n",
              "#T_67260_row6_col5, #T_67260_row8_col6 {\n",
              "  background-color: #740000;\n",
              "  color: #f1f1f1;\n",
              "}\n",
              "#T_67260_row7_col0 {\n",
              "  background-color: #ff6400;\n",
              "  color: #f1f1f1;\n",
              "}\n",
              "#T_67260_row7_col1 {\n",
              "  background-color: #830000;\n",
              "  color: #f1f1f1;\n",
              "}\n",
              "#T_67260_row7_col8 {\n",
              "  background-color: #8b0000;\n",
              "  color: #f1f1f1;\n",
              "}\n",
              "#T_67260_row8_col0 {\n",
              "  background-color: #a30000;\n",
              "  color: #f1f1f1;\n",
              "}\n",
              "#T_67260_row8_col1 {\n",
              "  background-color: #ff3a00;\n",
              "  color: #f1f1f1;\n",
              "}\n",
              "#T_67260_row8_col5 {\n",
              "  background-color: #d20000;\n",
              "  color: #f1f1f1;\n",
              "}\n",
              "</style>\n",
              "<table id=\"T_67260_\" class=\"dataframe\">\n",
              "  <thead>\n",
              "    <tr>\n",
              "      <th class=\"blank level0\" >&nbsp;</th>\n",
              "      <th class=\"col_heading level0 col0\" >Pregnancies</th>\n",
              "      <th class=\"col_heading level0 col1\" >Glucose</th>\n",
              "      <th class=\"col_heading level0 col2\" >BloodPressure</th>\n",
              "      <th class=\"col_heading level0 col3\" >SkinThickness</th>\n",
              "      <th class=\"col_heading level0 col4\" >Insulin</th>\n",
              "      <th class=\"col_heading level0 col5\" >BMI</th>\n",
              "      <th class=\"col_heading level0 col6\" >DiabetesPedigreeFunction</th>\n",
              "      <th class=\"col_heading level0 col7\" >Age</th>\n",
              "      <th class=\"col_heading level0 col8\" >Outcome</th>\n",
              "    </tr>\n",
              "  </thead>\n",
              "  <tbody>\n",
              "    <tr>\n",
              "      <th id=\"T_67260_level0_row0\" class=\"row_heading level0 row0\" >Pregnancies</th>\n",
              "      <td id=\"T_67260_row0_col0\" class=\"data row0 col0\" >1.000000</td>\n",
              "      <td id=\"T_67260_row0_col1\" class=\"data row0 col1\" >0.116842</td>\n",
              "      <td id=\"T_67260_row0_col2\" class=\"data row0 col2\" >0.159803</td>\n",
              "      <td id=\"T_67260_row0_col3\" class=\"data row0 col3\" >0.083924</td>\n",
              "      <td id=\"T_67260_row0_col4\" class=\"data row0 col4\" >0.082762</td>\n",
              "      <td id=\"T_67260_row0_col5\" class=\"data row0 col5\" >0.016063</td>\n",
              "      <td id=\"T_67260_row0_col6\" class=\"data row0 col6\" >0.029127</td>\n",
              "      <td id=\"T_67260_row0_col7\" class=\"data row0 col7\" >0.520104</td>\n",
              "      <td id=\"T_67260_row0_col8\" class=\"data row0 col8\" >0.241824</td>\n",
              "    </tr>\n",
              "    <tr>\n",
              "      <th id=\"T_67260_level0_row1\" class=\"row_heading level0 row1\" >Glucose</th>\n",
              "      <td id=\"T_67260_row1_col0\" class=\"data row1 col0\" >0.116842</td>\n",
              "      <td id=\"T_67260_row1_col1\" class=\"data row1 col1\" >1.000000</td>\n",
              "      <td id=\"T_67260_row1_col2\" class=\"data row1 col2\" >0.158317</td>\n",
              "      <td id=\"T_67260_row1_col3\" class=\"data row1 col3\" >0.074128</td>\n",
              "      <td id=\"T_67260_row1_col4\" class=\"data row1 col4\" >0.294478</td>\n",
              "      <td id=\"T_67260_row1_col5\" class=\"data row1 col5\" >0.210858</td>\n",
              "      <td id=\"T_67260_row1_col6\" class=\"data row1 col6\" >0.106079</td>\n",
              "      <td id=\"T_67260_row1_col7\" class=\"data row1 col7\" >0.244039</td>\n",
              "      <td id=\"T_67260_row1_col8\" class=\"data row1 col8\" >0.491366</td>\n",
              "    </tr>\n",
              "    <tr>\n",
              "      <th id=\"T_67260_level0_row2\" class=\"row_heading level0 row2\" >BloodPressure</th>\n",
              "      <td id=\"T_67260_row2_col0\" class=\"data row2 col0\" >0.159803</td>\n",
              "      <td id=\"T_67260_row2_col1\" class=\"data row2 col1\" >0.158317</td>\n",
              "      <td id=\"T_67260_row2_col2\" class=\"data row2 col2\" >1.000000</td>\n",
              "      <td id=\"T_67260_row2_col3\" class=\"data row2 col3\" >0.232032</td>\n",
              "      <td id=\"T_67260_row2_col4\" class=\"data row2 col4\" >0.087081</td>\n",
              "      <td id=\"T_67260_row2_col5\" class=\"data row2 col5\" >0.258736</td>\n",
              "      <td id=\"T_67260_row2_col6\" class=\"data row2 col6\" >0.053976</td>\n",
              "      <td id=\"T_67260_row2_col7\" class=\"data row2 col7\" >0.241785</td>\n",
              "      <td id=\"T_67260_row2_col8\" class=\"data row2 col8\" >0.065895</td>\n",
              "    </tr>\n",
              "    <tr>\n",
              "      <th id=\"T_67260_level0_row3\" class=\"row_heading level0 row3\" >SkinThickness</th>\n",
              "      <td id=\"T_67260_row3_col0\" class=\"data row3 col0\" >0.083924</td>\n",
              "      <td id=\"T_67260_row3_col1\" class=\"data row3 col1\" >0.074128</td>\n",
              "      <td id=\"T_67260_row3_col2\" class=\"data row3 col2\" >0.232032</td>\n",
              "      <td id=\"T_67260_row3_col3\" class=\"data row3 col3\" >1.000000</td>\n",
              "      <td id=\"T_67260_row3_col4\" class=\"data row3 col4\" >0.444784</td>\n",
              "      <td id=\"T_67260_row3_col5\" class=\"data row3 col5\" >0.390406</td>\n",
              "      <td id=\"T_67260_row3_col6\" class=\"data row3 col6\" >0.218321</td>\n",
              "      <td id=\"T_67260_row3_col7\" class=\"data row3 col7\" >0.104389</td>\n",
              "      <td id=\"T_67260_row3_col8\" class=\"data row3 col8\" >0.076800</td>\n",
              "    </tr>\n",
              "    <tr>\n",
              "      <th id=\"T_67260_level0_row4\" class=\"row_heading level0 row4\" >Insulin</th>\n",
              "      <td id=\"T_67260_row4_col0\" class=\"data row4 col0\" >0.082762</td>\n",
              "      <td id=\"T_67260_row4_col1\" class=\"data row4 col1\" >0.294478</td>\n",
              "      <td id=\"T_67260_row4_col2\" class=\"data row4 col2\" >0.087081</td>\n",
              "      <td id=\"T_67260_row4_col3\" class=\"data row4 col3\" >0.444784</td>\n",
              "      <td id=\"T_67260_row4_col4\" class=\"data row4 col4\" >1.000000</td>\n",
              "      <td id=\"T_67260_row4_col5\" class=\"data row4 col5\" >0.157707</td>\n",
              "      <td id=\"T_67260_row4_col6\" class=\"data row4 col6\" >0.147377</td>\n",
              "      <td id=\"T_67260_row4_col7\" class=\"data row4 col7\" >0.027845</td>\n",
              "      <td id=\"T_67260_row4_col8\" class=\"data row4 col8\" >0.128273</td>\n",
              "    </tr>\n",
              "    <tr>\n",
              "      <th id=\"T_67260_level0_row5\" class=\"row_heading level0 row5\" >BMI</th>\n",
              "      <td id=\"T_67260_row5_col0\" class=\"data row5 col0\" >0.016063</td>\n",
              "      <td id=\"T_67260_row5_col1\" class=\"data row5 col1\" >0.210858</td>\n",
              "      <td id=\"T_67260_row5_col2\" class=\"data row5 col2\" >0.258736</td>\n",
              "      <td id=\"T_67260_row5_col3\" class=\"data row5 col3\" >0.390406</td>\n",
              "      <td id=\"T_67260_row5_col4\" class=\"data row5 col4\" >0.157707</td>\n",
              "      <td id=\"T_67260_row5_col5\" class=\"data row5 col5\" >1.000000</td>\n",
              "      <td id=\"T_67260_row5_col6\" class=\"data row5 col6\" >0.172149</td>\n",
              "      <td id=\"T_67260_row5_col7\" class=\"data row5 col7\" >0.028617</td>\n",
              "      <td id=\"T_67260_row5_col8\" class=\"data row5 col8\" >0.310419</td>\n",
              "    </tr>\n",
              "    <tr>\n",
              "      <th id=\"T_67260_level0_row6\" class=\"row_heading level0 row6\" >DiabetesPedigreeFunction</th>\n",
              "      <td id=\"T_67260_row6_col0\" class=\"data row6 col0\" >0.029127</td>\n",
              "      <td id=\"T_67260_row6_col1\" class=\"data row6 col1\" >0.106079</td>\n",
              "      <td id=\"T_67260_row6_col2\" class=\"data row6 col2\" >0.053976</td>\n",
              "      <td id=\"T_67260_row6_col3\" class=\"data row6 col3\" >0.218321</td>\n",
              "      <td id=\"T_67260_row6_col4\" class=\"data row6 col4\" >0.147377</td>\n",
              "      <td id=\"T_67260_row6_col5\" class=\"data row6 col5\" >0.172149</td>\n",
              "      <td id=\"T_67260_row6_col6\" class=\"data row6 col6\" >1.000000</td>\n",
              "      <td id=\"T_67260_row6_col7\" class=\"data row6 col7\" >0.007160</td>\n",
              "      <td id=\"T_67260_row6_col8\" class=\"data row6 col8\" >0.164030</td>\n",
              "    </tr>\n",
              "    <tr>\n",
              "      <th id=\"T_67260_level0_row7\" class=\"row_heading level0 row7\" >Age</th>\n",
              "      <td id=\"T_67260_row7_col0\" class=\"data row7 col0\" >0.520104</td>\n",
              "      <td id=\"T_67260_row7_col1\" class=\"data row7 col1\" >0.244039</td>\n",
              "      <td id=\"T_67260_row7_col2\" class=\"data row7 col2\" >0.241785</td>\n",
              "      <td id=\"T_67260_row7_col3\" class=\"data row7 col3\" >0.104389</td>\n",
              "      <td id=\"T_67260_row7_col4\" class=\"data row7 col4\" >0.027845</td>\n",
              "      <td id=\"T_67260_row7_col5\" class=\"data row7 col5\" >0.028617</td>\n",
              "      <td id=\"T_67260_row7_col6\" class=\"data row7 col6\" >0.007160</td>\n",
              "      <td id=\"T_67260_row7_col7\" class=\"data row7 col7\" >1.000000</td>\n",
              "      <td id=\"T_67260_row7_col8\" class=\"data row7 col8\" >0.245027</td>\n",
              "    </tr>\n",
              "    <tr>\n",
              "      <th id=\"T_67260_level0_row8\" class=\"row_heading level0 row8\" >Outcome</th>\n",
              "      <td id=\"T_67260_row8_col0\" class=\"data row8 col0\" >0.241824</td>\n",
              "      <td id=\"T_67260_row8_col1\" class=\"data row8 col1\" >0.491366</td>\n",
              "      <td id=\"T_67260_row8_col2\" class=\"data row8 col2\" >0.065895</td>\n",
              "      <td id=\"T_67260_row8_col3\" class=\"data row8 col3\" >0.076800</td>\n",
              "      <td id=\"T_67260_row8_col4\" class=\"data row8 col4\" >0.128273</td>\n",
              "      <td id=\"T_67260_row8_col5\" class=\"data row8 col5\" >0.310419</td>\n",
              "      <td id=\"T_67260_row8_col6\" class=\"data row8 col6\" >0.164030</td>\n",
              "      <td id=\"T_67260_row8_col7\" class=\"data row8 col7\" >0.245027</td>\n",
              "      <td id=\"T_67260_row8_col8\" class=\"data row8 col8\" >1.000000</td>\n",
              "    </tr>\n",
              "  </tbody>\n",
              "</table>\n"
            ]
          },
          "metadata": {},
          "execution_count": 9
        }
      ]
    },
    {
      "cell_type": "code",
      "source": [
        "df2.corrwith(df['Outcome']).abs().sort_values(ascending=False)"
      ],
      "metadata": {
        "colab": {
          "base_uri": "https://localhost:8080/"
        },
        "id": "Nc0K8iCb1bUq",
        "outputId": "08798c1e-ff66-474f-8147-f922cd10530f"
      },
      "execution_count": null,
      "outputs": [
        {
          "output_type": "execute_result",
          "data": {
            "text/plain": [
              "Outcome                     1.000000\n",
              "Glucose                     0.491366\n",
              "BMI                         0.310419\n",
              "Age                         0.245027\n",
              "Pregnancies                 0.241824\n",
              "DiabetesPedigreeFunction    0.164030\n",
              "Insulin                     0.128273\n",
              "SkinThickness               0.076800\n",
              "BloodPressure               0.065895\n",
              "dtype: float64"
            ]
          },
          "metadata": {},
          "execution_count": 10
        }
      ]
    },
    {
      "cell_type": "markdown",
      "source": [
        "### ML ga tayyorlaymiz"
      ],
      "metadata": {
        "id": "fv5pBR0Tqbj9"
      }
    },
    {
      "cell_type": "code",
      "source": [
        "X = df2[['Glucose','BMI','Age']].values\n",
        "y = df2['Outcome']"
      ],
      "metadata": {
        "id": "TsHMZk85Ar3n"
      },
      "execution_count": null,
      "outputs": []
    },
    {
      "cell_type": "code",
      "source": [
        "scaler = StandardScaler()\n",
        "X = scaler.fit_transform(X)"
      ],
      "metadata": {
        "id": "NQY4MriRBZ4_"
      },
      "execution_count": null,
      "outputs": []
    },
    {
      "cell_type": "code",
      "source": [
        "#Train/Test split\n",
        "X_train, X_test, y_train, y_test = train_test_split(X,y, test_size=0.2, random_state=42)"
      ],
      "metadata": {
        "id": "PQ01b2GFMeZl"
      },
      "execution_count": null,
      "outputs": []
    },
    {
      "cell_type": "markdown",
      "source": [
        "##**Eng yaxshi k ni topish**\n",
        "\n",
        "###**`for` yordamida**"
      ],
      "metadata": {
        "id": "1Y1KUiKKNHLX"
      }
    },
    {
      "cell_type": "code",
      "source": [
        "f1 = []\n",
        "for k in range(1,268):\n",
        "  knn = KNeighborsClassifier(n_neighbors=k)\n",
        "  knn.fit(X_train, y_train)\n",
        "  y_predict = knn.predict(X_test)\n",
        "  f1.append(f1_score(y_test, y_predict))\n",
        "\n",
        "plt.figure(figsize=(10,6))\n",
        "plt.plot(range(1,268),f1)\n",
        "plt.grid()\n",
        "plt.show()"
      ],
      "metadata": {
        "colab": {
          "base_uri": "https://localhost:8080/",
          "height": 374
        },
        "id": "8wRwYY31NhPM",
        "outputId": "3c64947d-638f-465b-af63-29296add5148"
      },
      "execution_count": null,
      "outputs": [
        {
          "output_type": "display_data",
          "data": {
            "text/plain": [
              "<Figure size 720x432 with 1 Axes>"
            ],
            "image/png": "[encoded data removed]"
          },
          "metadata": {
            "needs_background": "light"
          }
        }
      ]
    },
    {
      "cell_type": "code",
      "source": [
        "# Yaqinlashtirib ko`ramiz\n",
        "f1 = []\n",
        "for k in range(1,10):\n",
        "  knn = KNeighborsClassifier(n_neighbors=k)\n",
        "  knn.fit(X_train, y_train)\n",
        "  y_predict = knn.predict(X_test)\n",
        "  f1.append(f1_score(y_test, y_predict))\n",
        "\n",
        "plt.figure(figsize=(10,6))\n",
        "plt.plot(range(1,10),f1)\n",
        "plt.grid()\n",
        "plt.show()"
      ],
      "metadata": {
        "colab": {
          "base_uri": "https://localhost:8080/",
          "height": 374
        },
        "id": "Yrbw1-BMNJjj",
        "outputId": "e9bb690d-d912-4602-9031-bc6e4978854d"
      },
      "execution_count": null,
      "outputs": [
        {
          "output_type": "display_data",
          "data": {
            "text/plain": [
              "<Figure size 720x432 with 1 Axes>"
            ],
            "image/png": "[encoded data removed]"
          },
          "metadata": {
            "needs_background": "light"
          }
        }
      ]
    },
    {
      "cell_type": "markdown",
      "source": [
        "###**Grid Search yordamida**"
      ],
      "metadata": {
        "id": "qOEUJ8vWCF2Z"
      }
    },
    {
      "cell_type": "code",
      "source": [
        "knn = KNeighborsClassifier()\n",
        "\n",
        "param_grid ={'n_neighbors' : np.arange(1,25)}\n",
        "\n",
        "knn_gscv = GridSearchCV(knn, param_grid, cv=5)\n",
        "\n",
        "knn_gscv.fit(X , y)"
      ],
      "metadata": {
        "colab": {
          "base_uri": "https://localhost:8080/"
        },
        "id": "eGMyapVbCEnN",
        "outputId": "ccef5f6d-f391-4b36-ddf8-08427e1f167c"
      },
      "execution_count": null,
      "outputs": [
        {
          "output_type": "execute_result",
          "data": {
            "text/plain": [
              "GridSearchCV(cv=5, estimator=KNeighborsClassifier(),\n",
              "             param_grid={'n_neighbors': array([ 1,  2,  3,  4,  5,  6,  7,  8,  9, 10, 11, 12, 13, 14, 15, 16, 17,\n",
              "       18, 19, 20, 21, 22, 23, 24])})"
            ]
          },
          "metadata": {},
          "execution_count": 16
        }
      ]
    },
    {
      "cell_type": "code",
      "source": [
        "knn_gscv.best_params_"
      ],
      "metadata": {
        "colab": {
          "base_uri": "https://localhost:8080/"
        },
        "id": "SR2voUsICUl8",
        "outputId": "ca3b1c43-d99d-40a2-82e7-9fd02c74f6d1"
      },
      "execution_count": null,
      "outputs": [
        {
          "output_type": "execute_result",
          "data": {
            "text/plain": [
              "{'n_neighbors': 8}"
            ]
          },
          "metadata": {},
          "execution_count": 17
        }
      ]
    },
    {
      "cell_type": "code",
      "source": [
        "knn_gscv.best_score_"
      ],
      "metadata": {
        "colab": {
          "base_uri": "https://localhost:8080/"
        },
        "id": "gXgJO_hfC9ol",
        "outputId": "53223967-1671-4efd-9e8f-4f9b58dd962a"
      },
      "execution_count": null,
      "outputs": [
        {
          "output_type": "execute_result",
          "data": {
            "text/plain": [
              "0.7928868120456906"
            ]
          },
          "metadata": {},
          "execution_count": 18
        }
      ]
    },
    {
      "cell_type": "code",
      "source": [
        "plt.figure(figsize=(10,6))\n",
        "plt.plot(param_grid['n_neighbors'], knn_gscv.cv_results_['rank_test_score'])\n",
        "plt.xticks(param_grid['n_neighbors'])\n",
        "plt.xlabel(\"k\")\n",
        "plt.ylabel(\"Xatolik reytingi\")\n",
        "plt.grid()\n",
        "plt.show()"
      ],
      "metadata": {
        "colab": {
          "base_uri": "https://localhost:8080/",
          "height": 390
        },
        "id": "u_xk0joDPfuM",
        "outputId": "ff4b32ed-7252-4094-b087-767327a55c5f"
      },
      "execution_count": null,
      "outputs": [
        {
          "output_type": "display_data",
          "data": {
            "text/plain": [
              "<Figure size 720x432 with 1 Axes>"
            ],
            "image/png": "[encoded data removed]"
          },
          "metadata": {
            "needs_background": "light"
          }
        }
      ]
    },
    {
      "cell_type": "markdown",
      "source": [
        "###ML"
      ],
      "metadata": {
        "id": "VtYUTKwtC3FR"
      }
    },
    {
      "cell_type": "code",
      "source": [
        "#k-NN\n",
        "knn = KNeighborsClassifier(n_neighbors=3)#k ni qiymati\n",
        "\n",
        "knn.fit(X_train, y_train)"
      ],
      "metadata": {
        "colab": {
          "base_uri": "https://localhost:8080/"
        },
        "id": "MioMX7EeCnBw",
        "outputId": "18a639d4-edcc-41f4-d203-7d34b0dbc854"
      },
      "execution_count": null,
      "outputs": [
        {
          "output_type": "execute_result",
          "data": {
            "text/plain": [
              "KNeighborsClassifier(n_neighbors=3)"
            ]
          },
          "metadata": {},
          "execution_count": 20
        }
      ]
    },
    {
      "cell_type": "code",
      "source": [
        "y_predict = knn.predict(X_test)"
      ],
      "metadata": {
        "id": "l7iR1TQbFQkL"
      },
      "execution_count": null,
      "outputs": []
    },
    {
      "cell_type": "markdown",
      "source": [
        "###**Baholash**"
      ],
      "metadata": {
        "id": "D0g9LXW9E3eZ"
      }
    },
    {
      "cell_type": "markdown",
      "source": [
        "##**Jaccard index**\n"
      ],
      "metadata": {
        "id": "qb6Lu3iQE9Pf"
      }
    },
    {
      "cell_type": "code",
      "source": [
        "jaccard_score(y_test, y_predict)"
      ],
      "metadata": {
        "colab": {
          "base_uri": "https://localhost:8080/"
        },
        "id": "N1dUsqKdE0du",
        "outputId": "e2bd31e1-f49c-4c2e-cec0-fe527f8efe0d"
      },
      "execution_count": null,
      "outputs": [
        {
          "output_type": "execute_result",
          "data": {
            "text/plain": [
              "0.6578947368421053"
            ]
          },
          "metadata": {},
          "execution_count": 23
        }
      ]
    },
    {
      "cell_type": "markdown",
      "source": [
        "###**Confusion matrix**"
      ],
      "metadata": {
        "id": "lvEY57M7FVl5"
      }
    },
    {
      "cell_type": "code",
      "source": [
        "sns.heatmap(confusion_matrix(y_test,y_predict), annot=True)\n",
        "print(\"Model aniqligi:\", accuracy_score(y_test,y_predict))\n",
        "plt.show()"
      ],
      "metadata": {
        "colab": {
          "base_uri": "https://localhost:8080/",
          "height": 287
        },
        "id": "eIexqE10FBEF",
        "outputId": "366e17be-5fa7-4419-ae0e-63826ecbc254"
      },
      "execution_count": null,
      "outputs": [
        {
          "output_type": "stream",
          "name": "stdout",
          "text": [
            "Model aniqligi: 0.7592592592592593\n"
          ]
        },
        {
          "output_type": "display_data",
          "data": {
            "text/plain": [
              "<Figure size 432x288 with 2 Axes>"
            ],
            "image/png": "[encoded data removed]"
          },
          "metadata": {
            "needs_background": "light"
          }
        }
      ]
    },
    {
      "cell_type": "markdown",
      "source": [
        "###**Random Forect**"
      ],
      "metadata": {
        "id": "4TN8hnbNO5fr"
      }
    },
    {
      "cell_type": "code",
      "source": [
        "# Modelni tuzamiz (training)\n",
        "RF_model = RandomForestClassifier(n_estimators=9)\n",
        "RF_model.fit(X_train, y_train)\n",
        "\n",
        "# Modelni baholaymiz\n",
        "y_pred = RF_model.predict(X_test)\n",
        "print(classification_report(y_test, y_pred))\n",
        "print(\"Model aniqligi:\", accuracy_score(y_test,y_pred))\n",
        "\n",
        "## confusion matrix\n",
        "conf_mat = confusion_matrix(y_test, y_pred)\n",
        "sns.heatmap(conf_mat, annot=True,fmt=\"g\")\n",
        "plt.show()\n",
        "\n",
        "## ROC curve\n",
        "fpr, tpr, thresholds = roc_curve(y_test, y_pred)\n",
        "roc_auc = auc(fpr, tpr)\n",
        "display = RocCurveDisplay(fpr=fpr, tpr=tpr, roc_auc=roc_auc, estimator_name='ROC curve')\n",
        "display.plot()\n",
        "plt.show()"
      ],
      "metadata": {
        "colab": {
          "base_uri": "https://localhost:8080/",
          "height": 707
        },
        "id": "rOlKq2yfO4_X",
        "outputId": "3ebcfc30-138e-4d49-d9c0-19152c8ea851"
      },
      "execution_count": null,
      "outputs": [
        {
          "output_type": "stream",
          "name": "stdout",
          "text": [
            "              precision    recall  f1-score   support\n",
            "\n",
            "           0       0.66      0.62      0.64        47\n",
            "           1       0.72      0.75      0.74        61\n",
            "\n",
            "    accuracy                           0.69       108\n",
            "   macro avg       0.69      0.69      0.69       108\n",
            "weighted avg       0.69      0.69      0.69       108\n",
            "\n",
            "Model aniqligi: 0.6944444444444444\n"
          ]
        },
        {
          "output_type": "display_data",
          "data": {
            "text/plain": [
              "<Figure size 432x288 with 2 Axes>"
            ],
            "image/png": "[encoded data removed]"
          },
          "metadata": {
            "needs_background": "light"
          }
        },
        {
          "output_type": "display_data",
          "data": {
            "text/plain": [
              "<Figure size 432x288 with 1 Axes>"
            ],
            "image/png": "[encoded data removed]"
          },
          "metadata": {
            "needs_background": "light"
          }
        }
      ]
    },
    {
      "cell_type": "markdown",
      "source": [
        "###**Precision, recall, F1**"
      ],
      "metadata": {
        "id": "LD8Ic1taFpMV"
      }
    },
    {
      "cell_type": "code",
      "source": [
        "precision = precision_score(y_test,y_predict)\n",
        "recall = recall_score(y_test,y_predict)\n",
        "f1 = f1_score(y_test,y_predict)\n",
        "accuracy = accuracy_score(y_test,y_predict)\n",
        "print('precision:',precision)\n",
        "print('recall:',recall)\n",
        "print('f1:',f1)\n",
        "print('accuracy:',accuracy)"
      ],
      "metadata": {
        "colab": {
          "base_uri": "https://localhost:8080/"
        },
        "id": "-RfblgP_JLEe",
        "outputId": "2e73858a-d420-4570-905c-8a61df1c8ac5"
      },
      "execution_count": null,
      "outputs": [
        {
          "output_type": "stream",
          "name": "stdout",
          "text": [
            "precision: 0.7692307692307693\n",
            "recall: 0.819672131147541\n",
            "f1: 0.7936507936507937\n",
            "accuracy: 0.7592592592592593\n"
          ]
        }
      ]
    },
    {
      "cell_type": "code",
      "source": [
        "print(classification_report(y_test,y_predict))"
      ],
      "metadata": {
        "colab": {
          "base_uri": "https://localhost:8080/"
        },
        "id": "nvPidLEdKvG6",
        "outputId": "8fd7aa32-deaf-49f9-9c16-a4988bd6f620"
      },
      "execution_count": null,
      "outputs": [
        {
          "output_type": "stream",
          "name": "stdout",
          "text": [
            "              precision    recall  f1-score   support\n",
            "\n",
            "           0       0.74      0.68      0.71        47\n",
            "           1       0.77      0.82      0.79        61\n",
            "\n",
            "    accuracy                           0.76       108\n",
            "   macro avg       0.76      0.75      0.75       108\n",
            "weighted avg       0.76      0.76      0.76       108\n",
            "\n"
          ]
        }
      ]
    },
    {
      "cell_type": "markdown",
      "source": [
        "###**Cross-validation yordamida tekshiramiz**"
      ],
      "metadata": {
        "id": "UaSpfE9UF4CB"
      }
    },
    {
      "cell_type": "code",
      "source": [
        "# Cross validation\n",
        "predict = cross_val_predict(estimator = knn, X = X, y = y, cv = 5)\n",
        "\n",
        "\n",
        "#Modelni baholash\n",
        "print(\"Model aniqligi:\", accuracy_score(y_test,y_pred))\n",
        "print('Classification Report: \\n', classification_report(y, predict))"
      ],
      "metadata": {
        "colab": {
          "base_uri": "https://localhost:8080/"
        },
        "id": "cQoaOIlMFx8_",
        "outputId": "d14282f2-4463-45fe-eb16-c1fd0ba81e66"
      },
      "execution_count": null,
      "outputs": [
        {
          "output_type": "stream",
          "name": "stdout",
          "text": [
            "Model aniqligi: 0.6944444444444444\n",
            "Classification Report: \n",
            "               precision    recall  f1-score   support\n",
            "\n",
            "           0       0.74      0.75      0.74       268\n",
            "           1       0.75      0.73      0.74       268\n",
            "\n",
            "    accuracy                           0.74       536\n",
            "   macro avg       0.74      0.74      0.74       536\n",
            "weighted avg       0.74      0.74      0.74       536\n",
            "\n"
          ]
        }
      ]
    },
    {
      "cell_type": "markdown",
      "source": [
        "##**Decision Tree**"
      ],
      "metadata": {
        "id": "QWbOLe_ILUqq"
      }
    },
    {
      "cell_type": "code",
      "source": [
        "# Modelni yaratamiz (training)\n",
        "tree_model = DecisionTreeClassifier()\n",
        "tree_model.fit(X_train, y_train)\n",
        "\n",
        "# Modelni baholaymiz\n",
        "y_pred = tree_model.predict(X_test)\n",
        "print(classification_report(y_test, y_pred))\n",
        "print(\"Model aniqligi:\", accuracy_score(y_test,y_pred))\n",
        "\n",
        "## confusion matrix\n",
        "conf_mat = confusion_matrix(y_test, y_pred)\n",
        "sns.heatmap(conf_mat, annot=True,fmt=\"g\")\n",
        "plt.show()\n",
        "\n",
        "## ROC curve\n",
        "fpr, tpr, thresholds = roc_curve(y_test, y_pred)\n",
        "roc_auc = auc(fpr, tpr)\n",
        "display = RocCurveDisplay(fpr=fpr, tpr=tpr, roc_auc=roc_auc, estimator_name='ROC curve')\n",
        "display.plot()\n",
        "plt.show()"
      ],
      "metadata": {
        "colab": {
          "base_uri": "https://localhost:8080/",
          "height": 711
        },
        "id": "TXWlTbahLTxv",
        "outputId": "e7c2ac9d-05ee-4f61-9051-c15ef2d964ab"
      },
      "execution_count": null,
      "outputs": [
        {
          "output_type": "stream",
          "name": "stdout",
          "text": [
            "              precision    recall  f1-score   support\n",
            "\n",
            "           0       0.67      0.68      0.67        47\n",
            "           1       0.75      0.74      0.74        61\n",
            "\n",
            "    accuracy                           0.71       108\n",
            "   macro avg       0.71      0.71      0.71       108\n",
            "weighted avg       0.71      0.71      0.71       108\n",
            "\n",
            "Model aniqligi: 0.7129629629629629\n"
          ]
        },
        {
          "output_type": "display_data",
          "data": {
            "text/plain": [
              "<Figure size 432x288 with 2 Axes>"
            ],
            "image/png": "[encoded data removed]"
          },
          "metadata": {
            "needs_background": "light"
          }
        },
        {
          "output_type": "display_data",
          "data": {
            "text/plain": [
              "<Figure size 432x288 with 1 Axes>"
            ],
            "image/png": "[encoded data removed]"
          },
          "metadata": {
            "needs_background": "light"
          }
        }
      ]
    },
    {
      "cell_type": "markdown",
      "source": [
        "###**XGBoost**"
      ],
      "metadata": {
        "id": "8jYJ5GsIP1o0"
      }
    },
    {
      "cell_type": "code",
      "source": [
        "# Modelni yaratamiz (training)\n",
        "xgb_model = XGBClassifier()\n",
        "xgb_model.fit(X_train, y_train)\n",
        "\n",
        "# Modelni baholaymiz\n",
        "y_pred = xgb_model.predict(X_test)\n",
        "print(classification_report(y_test, y_pred))\n",
        "print(\"Model aniqligi:\", accuracy_score(y_test,y_pred))\n",
        "\n",
        "## confusion matrix\n",
        "conf_mat = confusion_matrix(y_test, y_pred)\n",
        "sns.heatmap(conf_mat, annot=True,fmt=\"g\")\n",
        "plt.show()\n",
        "\n",
        "## ROC curve\n",
        "fpr, tpr, thresholds = roc_curve(y_test, y_pred)\n",
        "roc_auc = auc(fpr, tpr)\n",
        "display = RocCurveDisplay(fpr=fpr, tpr=tpr, roc_auc=roc_auc, estimator_name='ROC curve')\n",
        "display.plot()\n",
        "plt.show()"
      ],
      "metadata": {
        "id": "XhrhxRrEF6_W",
        "colab": {
          "base_uri": "https://localhost:8080/",
          "height": 707
        },
        "outputId": "915360bc-01b7-4842-af2d-474e12d90733"
      },
      "execution_count": null,
      "outputs": [
        {
          "output_type": "stream",
          "name": "stdout",
          "text": [
            "              precision    recall  f1-score   support\n",
            "\n",
            "           0       0.67      0.60      0.63        47\n",
            "           1       0.71      0.77      0.74        61\n",
            "\n",
            "    accuracy                           0.69       108\n",
            "   macro avg       0.69      0.68      0.68       108\n",
            "weighted avg       0.69      0.69      0.69       108\n",
            "\n",
            "Model aniqligi: 0.6944444444444444\n"
          ]
        },
        {
          "output_type": "display_data",
          "data": {
            "text/plain": [
              "<Figure size 432x288 with 2 Axes>"
            ],
            "image/png": "[encoded data removed]"
          },
          "metadata": {
            "needs_background": "light"
          }
        },
        {
          "output_type": "display_data",
          "data": {
            "text/plain": [
              "<Figure size 432x288 with 1 Axes>"
            ],
            "image/png": "[encoded data removed]"
          },
          "metadata": {
            "needs_background": "light"
          }
        }
      ]
    },
    {
      "cell_type": "code",
      "source": [],
      "metadata": {
        "id": "JFfzoN9XP-zT"
      },
      "execution_count": null,
      "outputs": []
    }
  ]
}