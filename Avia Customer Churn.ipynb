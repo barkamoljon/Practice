{
 "cells": [
  {
   "cell_type": "code",
   "execution_count": 1,
   "id": "2ac7ce8e",
   "metadata": {
    "_cell_guid": "b1076dfc-b9ad-4769-8c92-a6c4dae69d19",
    "_uuid": "8f2839f25d086af736a60e9eeb907d3b93b6e0e5",
    "execution": {
     "iopub.execute_input": "2022-09-25T07:55:46.446665Z",
     "iopub.status.busy": "2022-09-25T07:55:46.445630Z",
     "iopub.status.idle": "2022-09-25T07:55:48.037469Z",
     "shell.execute_reply": "2022-09-25T07:55:48.036004Z"
    },
    "papermill": {
     "duration": 1.610724,
     "end_time": "2022-09-25T07:55:48.040297",
     "exception": false,
     "start_time": "2022-09-25T07:55:46.429573",
     "status": "completed"
    },
    "tags": []
   },
   "outputs": [
    {
     "name": "stdout",
     "output_type": "stream",
     "text": [
      "/kaggle/input/aviakompaniya/sample_submission.csv\n",
      "/kaggle/input/aviakompaniya/train_dataset.csv\n",
      "/kaggle/input/aviakompaniya/test_dataset.csv\n"
     ]
    }
   ],
   "source": [
    "# This Python 3 environment comes with many helpful analytics libraries installed\n",
    "# It is defined by the kaggle/python Docker image: https://github.com/kaggle/docker-python\n",
    "# For example, here's several helpful packages to load\n",
    "\n",
    "import numpy as np # linear algebra\n",
    "import pandas as pd # data processing, CSV file I/O (e.g. pd.read_csv)\n",
    "import matplotlib.pyplot as plt\n",
    "import seaborn as sns\n",
    "\n",
    "from sklearn.preprocessing import StandardScaler\n",
    "from sklearn.model_selection import train_test_split\n",
    "\n",
    "from sklearn.linear_model import LogisticRegression\n",
    "from sklearn.tree import DecisionTreeClassifier, plot_tree\n",
    "from sklearn.ensemble import RandomForestClassifier\n",
    "from sklearn.svm import SVC\n",
    "from xgboost import XGBClassifier\n",
    "from sklearn.naive_bayes import GaussianNB\n",
    "from sklearn.neighbors import KNeighborsClassifier\n",
    "\n",
    "from sklearn.pipeline import Pipeline\n",
    "from sklearn import metrics\n",
    "\n",
    "from sklearn.metrics import classification_report\n",
    "from sklearn.metrics import confusion_matrix\n",
    "from sklearn.metrics import precision_score, recall_score, f1_score, accuracy_score\n",
    "from sklearn.metrics import jaccard_score\n",
    "from sklearn.metrics import roc_curve, roc_auc_score,auc,RocCurveDisplay\n",
    "\n",
    "# Input data files are available in the read-only \"../input/\" directory\n",
    "# For example, running this (by clicking run or pressing Shift+Enter) will list all files under the input directory\n",
    "\n",
    "import os\n",
    "for dirname, _, filenames in os.walk('/kaggle/input'):\n",
    "    for filename in filenames:\n",
    "        print(os.path.join(dirname, filename))\n",
    "\n",
    "# You can write up to 20GB to the current directory (/kaggle/working/) that gets preserved as output when you create a version using \"Save & Run All\" \n",
    "# You can also write temporary files to /kaggle/temp/, but they won't be saved outside of the current session"
   ]
  },
  {
   "cell_type": "code",
   "execution_count": 2,
   "id": "f1425101",
   "metadata": {
    "execution": {
     "iopub.execute_input": "2022-09-25T07:55:48.068786Z",
     "iopub.status.busy": "2022-09-25T07:55:48.068291Z",
     "iopub.status.idle": "2022-09-25T07:55:48.187210Z",
     "shell.execute_reply": "2022-09-25T07:55:48.186028Z"
    },
    "papermill": {
     "duration": 0.135689,
     "end_time": "2022-09-25T07:55:48.189569",
     "exception": false,
     "start_time": "2022-09-25T07:55:48.053880",
     "status": "completed"
    },
    "tags": []
   },
   "outputs": [
    {
     "data": {
      "text/html": [
       "<div>\n",
       "<style scoped>\n",
       "    .dataframe tbody tr th:only-of-type {\n",
       "        vertical-align: middle;\n",
       "    }\n",
       "\n",
       "    .dataframe tbody tr th {\n",
       "        vertical-align: top;\n",
       "    }\n",
       "\n",
       "    .dataframe thead th {\n",
       "        text-align: right;\n",
       "    }\n",
       "</style>\n",
       "<table border=\"1\" class=\"dataframe\">\n",
       "  <thead>\n",
       "    <tr style=\"text-align: right;\">\n",
       "      <th></th>\n",
       "      <th>id</th>\n",
       "      <th>Gender</th>\n",
       "      <th>Customer Type</th>\n",
       "      <th>Age</th>\n",
       "      <th>Type of Travel</th>\n",
       "      <th>Class</th>\n",
       "      <th>Flight Distance</th>\n",
       "      <th>Inflight wifi service</th>\n",
       "      <th>Departure/Arrival time convenient</th>\n",
       "      <th>Ease of Online booking</th>\n",
       "      <th>...</th>\n",
       "      <th>Inflight entertainment</th>\n",
       "      <th>On-board service</th>\n",
       "      <th>Leg room service</th>\n",
       "      <th>Baggage handling</th>\n",
       "      <th>Checkin service</th>\n",
       "      <th>Inflight service</th>\n",
       "      <th>Cleanliness</th>\n",
       "      <th>Departure Delay in Minutes</th>\n",
       "      <th>Arrival Delay in Minutes</th>\n",
       "      <th>satisfaction</th>\n",
       "    </tr>\n",
       "  </thead>\n",
       "  <tbody>\n",
       "    <tr>\n",
       "      <th>0</th>\n",
       "      <td>1</td>\n",
       "      <td>Male</td>\n",
       "      <td>disloyal Customer</td>\n",
       "      <td>33</td>\n",
       "      <td>Business travel</td>\n",
       "      <td>Eco</td>\n",
       "      <td>571</td>\n",
       "      <td>2</td>\n",
       "      <td>3</td>\n",
       "      <td>2</td>\n",
       "      <td>...</td>\n",
       "      <td>4</td>\n",
       "      <td>3</td>\n",
       "      <td>1</td>\n",
       "      <td>3</td>\n",
       "      <td>4</td>\n",
       "      <td>3</td>\n",
       "      <td>4</td>\n",
       "      <td>10</td>\n",
       "      <td>3.0</td>\n",
       "      <td>0</td>\n",
       "    </tr>\n",
       "    <tr>\n",
       "      <th>1</th>\n",
       "      <td>2</td>\n",
       "      <td>Female</td>\n",
       "      <td>Loyal Customer</td>\n",
       "      <td>49</td>\n",
       "      <td>Business travel</td>\n",
       "      <td>Business</td>\n",
       "      <td>1431</td>\n",
       "      <td>4</td>\n",
       "      <td>1</td>\n",
       "      <td>4</td>\n",
       "      <td>...</td>\n",
       "      <td>5</td>\n",
       "      <td>5</td>\n",
       "      <td>5</td>\n",
       "      <td>5</td>\n",
       "      <td>3</td>\n",
       "      <td>5</td>\n",
       "      <td>3</td>\n",
       "      <td>0</td>\n",
       "      <td>0.0</td>\n",
       "      <td>1</td>\n",
       "    </tr>\n",
       "    <tr>\n",
       "      <th>2</th>\n",
       "      <td>3</td>\n",
       "      <td>Female</td>\n",
       "      <td>Loyal Customer</td>\n",
       "      <td>43</td>\n",
       "      <td>Business travel</td>\n",
       "      <td>Eco</td>\n",
       "      <td>867</td>\n",
       "      <td>1</td>\n",
       "      <td>4</td>\n",
       "      <td>4</td>\n",
       "      <td>...</td>\n",
       "      <td>1</td>\n",
       "      <td>1</td>\n",
       "      <td>1</td>\n",
       "      <td>1</td>\n",
       "      <td>1</td>\n",
       "      <td>1</td>\n",
       "      <td>2</td>\n",
       "      <td>0</td>\n",
       "      <td>18.0</td>\n",
       "      <td>0</td>\n",
       "    </tr>\n",
       "    <tr>\n",
       "      <th>3</th>\n",
       "      <td>4</td>\n",
       "      <td>Female</td>\n",
       "      <td>Loyal Customer</td>\n",
       "      <td>27</td>\n",
       "      <td>Business travel</td>\n",
       "      <td>Business</td>\n",
       "      <td>1550</td>\n",
       "      <td>3</td>\n",
       "      <td>3</td>\n",
       "      <td>3</td>\n",
       "      <td>...</td>\n",
       "      <td>2</td>\n",
       "      <td>4</td>\n",
       "      <td>4</td>\n",
       "      <td>5</td>\n",
       "      <td>5</td>\n",
       "      <td>4</td>\n",
       "      <td>2</td>\n",
       "      <td>0</td>\n",
       "      <td>0.0</td>\n",
       "      <td>1</td>\n",
       "    </tr>\n",
       "    <tr>\n",
       "      <th>4</th>\n",
       "      <td>5</td>\n",
       "      <td>Male</td>\n",
       "      <td>Loyal Customer</td>\n",
       "      <td>11</td>\n",
       "      <td>Personal Travel</td>\n",
       "      <td>Eco</td>\n",
       "      <td>526</td>\n",
       "      <td>3</td>\n",
       "      <td>4</td>\n",
       "      <td>3</td>\n",
       "      <td>...</td>\n",
       "      <td>4</td>\n",
       "      <td>5</td>\n",
       "      <td>2</td>\n",
       "      <td>5</td>\n",
       "      <td>3</td>\n",
       "      <td>5</td>\n",
       "      <td>4</td>\n",
       "      <td>0</td>\n",
       "      <td>10.0</td>\n",
       "      <td>0</td>\n",
       "    </tr>\n",
       "  </tbody>\n",
       "</table>\n",
       "<p>5 rows × 24 columns</p>\n",
       "</div>"
      ],
      "text/plain": [
       "   id  Gender      Customer Type  Age   Type of Travel     Class  \\\n",
       "0   1    Male  disloyal Customer   33  Business travel       Eco   \n",
       "1   2  Female     Loyal Customer   49  Business travel  Business   \n",
       "2   3  Female     Loyal Customer   43  Business travel       Eco   \n",
       "3   4  Female     Loyal Customer   27  Business travel  Business   \n",
       "4   5    Male     Loyal Customer   11  Personal Travel       Eco   \n",
       "\n",
       "   Flight Distance  Inflight wifi service  Departure/Arrival time convenient  \\\n",
       "0              571                      2                                  3   \n",
       "1             1431                      4                                  1   \n",
       "2              867                      1                                  4   \n",
       "3             1550                      3                                  3   \n",
       "4              526                      3                                  4   \n",
       "\n",
       "   Ease of Online booking  ...  Inflight entertainment  On-board service  \\\n",
       "0                       2  ...                       4                 3   \n",
       "1                       4  ...                       5                 5   \n",
       "2                       4  ...                       1                 1   \n",
       "3                       3  ...                       2                 4   \n",
       "4                       3  ...                       4                 5   \n",
       "\n",
       "   Leg room service  Baggage handling  Checkin service  Inflight service  \\\n",
       "0                 1                 3                4                 3   \n",
       "1                 5                 5                3                 5   \n",
       "2                 1                 1                1                 1   \n",
       "3                 4                 5                5                 4   \n",
       "4                 2                 5                3                 5   \n",
       "\n",
       "   Cleanliness  Departure Delay in Minutes  Arrival Delay in Minutes  \\\n",
       "0            4                          10                       3.0   \n",
       "1            3                           0                       0.0   \n",
       "2            2                           0                      18.0   \n",
       "3            2                           0                       0.0   \n",
       "4            4                           0                      10.0   \n",
       "\n",
       "   satisfaction  \n",
       "0             0  \n",
       "1             1  \n",
       "2             0  \n",
       "3             1  \n",
       "4             0  \n",
       "\n",
       "[5 rows x 24 columns]"
      ]
     },
     "execution_count": 2,
     "metadata": {},
     "output_type": "execute_result"
    }
   ],
   "source": [
    "df = pd.read_csv(\"../input/aviakompaniya/train_dataset.csv\")\n",
    "df2 = pd.read_csv(\"../input/aviakompaniya/test_dataset.csv\")\n",
    "sample_submission = pd.read_csv('../input/aviakompaniya/sample_submission.csv')\n",
    "df.head()"
   ]
  },
  {
   "cell_type": "code",
   "execution_count": 3,
   "id": "eb16516e",
   "metadata": {
    "execution": {
     "iopub.execute_input": "2022-09-25T07:55:48.219267Z",
     "iopub.status.busy": "2022-09-25T07:55:48.218382Z",
     "iopub.status.idle": "2022-09-25T07:55:48.251043Z",
     "shell.execute_reply": "2022-09-25T07:55:48.249972Z"
    },
    "papermill": {
     "duration": 0.050731,
     "end_time": "2022-09-25T07:55:48.253353",
     "exception": false,
     "start_time": "2022-09-25T07:55:48.202622",
     "status": "completed"
    },
    "tags": []
   },
   "outputs": [
    {
     "data": {
      "text/html": [
       "<div>\n",
       "<style scoped>\n",
       "    .dataframe tbody tr th:only-of-type {\n",
       "        vertical-align: middle;\n",
       "    }\n",
       "\n",
       "    .dataframe tbody tr th {\n",
       "        vertical-align: top;\n",
       "    }\n",
       "\n",
       "    .dataframe thead th {\n",
       "        text-align: right;\n",
       "    }\n",
       "</style>\n",
       "<table border=\"1\" class=\"dataframe\">\n",
       "  <thead>\n",
       "    <tr style=\"text-align: right;\">\n",
       "      <th></th>\n",
       "      <th>id</th>\n",
       "      <th>Gender</th>\n",
       "      <th>Customer Type</th>\n",
       "      <th>Age</th>\n",
       "      <th>Type of Travel</th>\n",
       "      <th>Class</th>\n",
       "      <th>Flight Distance</th>\n",
       "      <th>Inflight wifi service</th>\n",
       "      <th>Departure/Arrival time convenient</th>\n",
       "      <th>Ease of Online booking</th>\n",
       "      <th>...</th>\n",
       "      <th>Inflight entertainment</th>\n",
       "      <th>On-board service</th>\n",
       "      <th>Leg room service</th>\n",
       "      <th>Baggage handling</th>\n",
       "      <th>Checkin service</th>\n",
       "      <th>Inflight service</th>\n",
       "      <th>Cleanliness</th>\n",
       "      <th>Departure Delay in Minutes</th>\n",
       "      <th>Arrival Delay in Minutes</th>\n",
       "      <th>satisfaction</th>\n",
       "    </tr>\n",
       "  </thead>\n",
       "  <tbody>\n",
       "    <tr>\n",
       "      <th>0</th>\n",
       "      <td>1</td>\n",
       "      <td>Male</td>\n",
       "      <td>disloyal Customer</td>\n",
       "      <td>33</td>\n",
       "      <td>Business travel</td>\n",
       "      <td>Eco</td>\n",
       "      <td>571</td>\n",
       "      <td>2</td>\n",
       "      <td>3</td>\n",
       "      <td>2</td>\n",
       "      <td>...</td>\n",
       "      <td>4</td>\n",
       "      <td>3</td>\n",
       "      <td>1</td>\n",
       "      <td>3</td>\n",
       "      <td>4</td>\n",
       "      <td>3</td>\n",
       "      <td>4</td>\n",
       "      <td>10</td>\n",
       "      <td>3.0</td>\n",
       "      <td>0</td>\n",
       "    </tr>\n",
       "    <tr>\n",
       "      <th>1</th>\n",
       "      <td>2</td>\n",
       "      <td>Female</td>\n",
       "      <td>Loyal Customer</td>\n",
       "      <td>49</td>\n",
       "      <td>Business travel</td>\n",
       "      <td>Business</td>\n",
       "      <td>1431</td>\n",
       "      <td>4</td>\n",
       "      <td>1</td>\n",
       "      <td>4</td>\n",
       "      <td>...</td>\n",
       "      <td>5</td>\n",
       "      <td>5</td>\n",
       "      <td>5</td>\n",
       "      <td>5</td>\n",
       "      <td>3</td>\n",
       "      <td>5</td>\n",
       "      <td>3</td>\n",
       "      <td>0</td>\n",
       "      <td>0.0</td>\n",
       "      <td>1</td>\n",
       "    </tr>\n",
       "    <tr>\n",
       "      <th>2</th>\n",
       "      <td>3</td>\n",
       "      <td>Female</td>\n",
       "      <td>Loyal Customer</td>\n",
       "      <td>43</td>\n",
       "      <td>Business travel</td>\n",
       "      <td>Eco</td>\n",
       "      <td>867</td>\n",
       "      <td>1</td>\n",
       "      <td>4</td>\n",
       "      <td>4</td>\n",
       "      <td>...</td>\n",
       "      <td>1</td>\n",
       "      <td>1</td>\n",
       "      <td>1</td>\n",
       "      <td>1</td>\n",
       "      <td>1</td>\n",
       "      <td>1</td>\n",
       "      <td>2</td>\n",
       "      <td>0</td>\n",
       "      <td>18.0</td>\n",
       "      <td>0</td>\n",
       "    </tr>\n",
       "    <tr>\n",
       "      <th>3</th>\n",
       "      <td>4</td>\n",
       "      <td>Female</td>\n",
       "      <td>Loyal Customer</td>\n",
       "      <td>27</td>\n",
       "      <td>Business travel</td>\n",
       "      <td>Business</td>\n",
       "      <td>1550</td>\n",
       "      <td>3</td>\n",
       "      <td>3</td>\n",
       "      <td>3</td>\n",
       "      <td>...</td>\n",
       "      <td>2</td>\n",
       "      <td>4</td>\n",
       "      <td>4</td>\n",
       "      <td>5</td>\n",
       "      <td>5</td>\n",
       "      <td>4</td>\n",
       "      <td>2</td>\n",
       "      <td>0</td>\n",
       "      <td>0.0</td>\n",
       "      <td>1</td>\n",
       "    </tr>\n",
       "    <tr>\n",
       "      <th>4</th>\n",
       "      <td>5</td>\n",
       "      <td>Male</td>\n",
       "      <td>Loyal Customer</td>\n",
       "      <td>11</td>\n",
       "      <td>Personal Travel</td>\n",
       "      <td>Eco</td>\n",
       "      <td>526</td>\n",
       "      <td>3</td>\n",
       "      <td>4</td>\n",
       "      <td>3</td>\n",
       "      <td>...</td>\n",
       "      <td>4</td>\n",
       "      <td>5</td>\n",
       "      <td>2</td>\n",
       "      <td>5</td>\n",
       "      <td>3</td>\n",
       "      <td>5</td>\n",
       "      <td>4</td>\n",
       "      <td>0</td>\n",
       "      <td>10.0</td>\n",
       "      <td>0</td>\n",
       "    </tr>\n",
       "    <tr>\n",
       "      <th>...</th>\n",
       "      <td>...</td>\n",
       "      <td>...</td>\n",
       "      <td>...</td>\n",
       "      <td>...</td>\n",
       "      <td>...</td>\n",
       "      <td>...</td>\n",
       "      <td>...</td>\n",
       "      <td>...</td>\n",
       "      <td>...</td>\n",
       "      <td>...</td>\n",
       "      <td>...</td>\n",
       "      <td>...</td>\n",
       "      <td>...</td>\n",
       "      <td>...</td>\n",
       "      <td>...</td>\n",
       "      <td>...</td>\n",
       "      <td>...</td>\n",
       "      <td>...</td>\n",
       "      <td>...</td>\n",
       "      <td>...</td>\n",
       "      <td>...</td>\n",
       "    </tr>\n",
       "    <tr>\n",
       "      <th>9995</th>\n",
       "      <td>9996</td>\n",
       "      <td>Female</td>\n",
       "      <td>Loyal Customer</td>\n",
       "      <td>54</td>\n",
       "      <td>Personal Travel</td>\n",
       "      <td>Eco</td>\n",
       "      <td>1068</td>\n",
       "      <td>1</td>\n",
       "      <td>4</td>\n",
       "      <td>1</td>\n",
       "      <td>...</td>\n",
       "      <td>4</td>\n",
       "      <td>4</td>\n",
       "      <td>1</td>\n",
       "      <td>4</td>\n",
       "      <td>4</td>\n",
       "      <td>4</td>\n",
       "      <td>3</td>\n",
       "      <td>21</td>\n",
       "      <td>12.0</td>\n",
       "      <td>0</td>\n",
       "    </tr>\n",
       "    <tr>\n",
       "      <th>9996</th>\n",
       "      <td>9997</td>\n",
       "      <td>Female</td>\n",
       "      <td>Loyal Customer</td>\n",
       "      <td>54</td>\n",
       "      <td>Business travel</td>\n",
       "      <td>Eco Plus</td>\n",
       "      <td>1399</td>\n",
       "      <td>4</td>\n",
       "      <td>1</td>\n",
       "      <td>1</td>\n",
       "      <td>...</td>\n",
       "      <td>4</td>\n",
       "      <td>4</td>\n",
       "      <td>4</td>\n",
       "      <td>4</td>\n",
       "      <td>1</td>\n",
       "      <td>4</td>\n",
       "      <td>4</td>\n",
       "      <td>34</td>\n",
       "      <td>21.0</td>\n",
       "      <td>0</td>\n",
       "    </tr>\n",
       "    <tr>\n",
       "      <th>9997</th>\n",
       "      <td>9998</td>\n",
       "      <td>Male</td>\n",
       "      <td>Loyal Customer</td>\n",
       "      <td>46</td>\n",
       "      <td>Business travel</td>\n",
       "      <td>Business</td>\n",
       "      <td>1440</td>\n",
       "      <td>3</td>\n",
       "      <td>3</td>\n",
       "      <td>2</td>\n",
       "      <td>...</td>\n",
       "      <td>4</td>\n",
       "      <td>4</td>\n",
       "      <td>4</td>\n",
       "      <td>4</td>\n",
       "      <td>3</td>\n",
       "      <td>4</td>\n",
       "      <td>3</td>\n",
       "      <td>37</td>\n",
       "      <td>38.0</td>\n",
       "      <td>1</td>\n",
       "    </tr>\n",
       "    <tr>\n",
       "      <th>9998</th>\n",
       "      <td>9999</td>\n",
       "      <td>Female</td>\n",
       "      <td>Loyal Customer</td>\n",
       "      <td>41</td>\n",
       "      <td>Business travel</td>\n",
       "      <td>Business</td>\n",
       "      <td>90</td>\n",
       "      <td>4</td>\n",
       "      <td>1</td>\n",
       "      <td>4</td>\n",
       "      <td>...</td>\n",
       "      <td>3</td>\n",
       "      <td>4</td>\n",
       "      <td>5</td>\n",
       "      <td>5</td>\n",
       "      <td>5</td>\n",
       "      <td>4</td>\n",
       "      <td>5</td>\n",
       "      <td>64</td>\n",
       "      <td>210.0</td>\n",
       "      <td>1</td>\n",
       "    </tr>\n",
       "    <tr>\n",
       "      <th>9999</th>\n",
       "      <td>10000</td>\n",
       "      <td>Male</td>\n",
       "      <td>Loyal Customer</td>\n",
       "      <td>41</td>\n",
       "      <td>Business travel</td>\n",
       "      <td>Business</td>\n",
       "      <td>1747</td>\n",
       "      <td>3</td>\n",
       "      <td>3</td>\n",
       "      <td>3</td>\n",
       "      <td>...</td>\n",
       "      <td>4</td>\n",
       "      <td>4</td>\n",
       "      <td>4</td>\n",
       "      <td>4</td>\n",
       "      <td>3</td>\n",
       "      <td>4</td>\n",
       "      <td>5</td>\n",
       "      <td>2</td>\n",
       "      <td>0.0</td>\n",
       "      <td>1</td>\n",
       "    </tr>\n",
       "  </tbody>\n",
       "</table>\n",
       "<p>10000 rows × 24 columns</p>\n",
       "</div>"
      ],
      "text/plain": [
       "         id  Gender      Customer Type  Age   Type of Travel     Class  \\\n",
       "0         1    Male  disloyal Customer   33  Business travel       Eco   \n",
       "1         2  Female     Loyal Customer   49  Business travel  Business   \n",
       "2         3  Female     Loyal Customer   43  Business travel       Eco   \n",
       "3         4  Female     Loyal Customer   27  Business travel  Business   \n",
       "4         5    Male     Loyal Customer   11  Personal Travel       Eco   \n",
       "...     ...     ...                ...  ...              ...       ...   \n",
       "9995   9996  Female     Loyal Customer   54  Personal Travel       Eco   \n",
       "9996   9997  Female     Loyal Customer   54  Business travel  Eco Plus   \n",
       "9997   9998    Male     Loyal Customer   46  Business travel  Business   \n",
       "9998   9999  Female     Loyal Customer   41  Business travel  Business   \n",
       "9999  10000    Male     Loyal Customer   41  Business travel  Business   \n",
       "\n",
       "      Flight Distance  Inflight wifi service  \\\n",
       "0                 571                      2   \n",
       "1                1431                      4   \n",
       "2                 867                      1   \n",
       "3                1550                      3   \n",
       "4                 526                      3   \n",
       "...               ...                    ...   \n",
       "9995             1068                      1   \n",
       "9996             1399                      4   \n",
       "9997             1440                      3   \n",
       "9998               90                      4   \n",
       "9999             1747                      3   \n",
       "\n",
       "      Departure/Arrival time convenient  Ease of Online booking  ...  \\\n",
       "0                                     3                       2  ...   \n",
       "1                                     1                       4  ...   \n",
       "2                                     4                       4  ...   \n",
       "3                                     3                       3  ...   \n",
       "4                                     4                       3  ...   \n",
       "...                                 ...                     ...  ...   \n",
       "9995                                  4                       1  ...   \n",
       "9996                                  1                       1  ...   \n",
       "9997                                  3                       2  ...   \n",
       "9998                                  1                       4  ...   \n",
       "9999                                  3                       3  ...   \n",
       "\n",
       "      Inflight entertainment  On-board service  Leg room service  \\\n",
       "0                          4                 3                 1   \n",
       "1                          5                 5                 5   \n",
       "2                          1                 1                 1   \n",
       "3                          2                 4                 4   \n",
       "4                          4                 5                 2   \n",
       "...                      ...               ...               ...   \n",
       "9995                       4                 4                 1   \n",
       "9996                       4                 4                 4   \n",
       "9997                       4                 4                 4   \n",
       "9998                       3                 4                 5   \n",
       "9999                       4                 4                 4   \n",
       "\n",
       "      Baggage handling  Checkin service  Inflight service  Cleanliness  \\\n",
       "0                    3                4                 3            4   \n",
       "1                    5                3                 5            3   \n",
       "2                    1                1                 1            2   \n",
       "3                    5                5                 4            2   \n",
       "4                    5                3                 5            4   \n",
       "...                ...              ...               ...          ...   \n",
       "9995                 4                4                 4            3   \n",
       "9996                 4                1                 4            4   \n",
       "9997                 4                3                 4            3   \n",
       "9998                 5                5                 4            5   \n",
       "9999                 4                3                 4            5   \n",
       "\n",
       "      Departure Delay in Minutes  Arrival Delay in Minutes  satisfaction  \n",
       "0                             10                       3.0             0  \n",
       "1                              0                       0.0             1  \n",
       "2                              0                      18.0             0  \n",
       "3                              0                       0.0             1  \n",
       "4                              0                      10.0             0  \n",
       "...                          ...                       ...           ...  \n",
       "9995                          21                      12.0             0  \n",
       "9996                          34                      21.0             0  \n",
       "9997                          37                      38.0             1  \n",
       "9998                          64                     210.0             1  \n",
       "9999                           2                       0.0             1  \n",
       "\n",
       "[10000 rows x 24 columns]"
      ]
     },
     "execution_count": 3,
     "metadata": {},
     "output_type": "execute_result"
    }
   ],
   "source": [
    "df"
   ]
  },
  {
   "cell_type": "markdown",
   "id": "1eb1b03f",
   "metadata": {
    "papermill": {
     "duration": 0.013075,
     "end_time": "2022-09-25T07:55:48.280125",
     "exception": false,
     "start_time": "2022-09-25T07:55:48.267050",
     "status": "completed"
    },
    "tags": []
   },
   "source": [
    "## Ma'lumotlarni tahlil qilamiz"
   ]
  },
  {
   "cell_type": "code",
   "execution_count": 4,
   "id": "22b0619e",
   "metadata": {
    "execution": {
     "iopub.execute_input": "2022-09-25T07:55:48.308931Z",
     "iopub.status.busy": "2022-09-25T07:55:48.308236Z",
     "iopub.status.idle": "2022-09-25T07:55:48.339506Z",
     "shell.execute_reply": "2022-09-25T07:55:48.338022Z"
    },
    "papermill": {
     "duration": 0.048572,
     "end_time": "2022-09-25T07:55:48.342193",
     "exception": false,
     "start_time": "2022-09-25T07:55:48.293621",
     "status": "completed"
    },
    "tags": []
   },
   "outputs": [
    {
     "name": "stdout",
     "output_type": "stream",
     "text": [
      "<class 'pandas.core.frame.DataFrame'>\n",
      "RangeIndex: 10000 entries, 0 to 9999\n",
      "Data columns (total 24 columns):\n",
      " #   Column                             Non-Null Count  Dtype  \n",
      "---  ------                             --------------  -----  \n",
      " 0   id                                 10000 non-null  int64  \n",
      " 1   Gender                             10000 non-null  object \n",
      " 2   Customer Type                      10000 non-null  object \n",
      " 3   Age                                10000 non-null  int64  \n",
      " 4   Type of Travel                     10000 non-null  object \n",
      " 5   Class                              10000 non-null  object \n",
      " 6   Flight Distance                    10000 non-null  int64  \n",
      " 7   Inflight wifi service              10000 non-null  int64  \n",
      " 8   Departure/Arrival time convenient  10000 non-null  int64  \n",
      " 9   Ease of Online booking             10000 non-null  int64  \n",
      " 10  Gate location                      10000 non-null  int64  \n",
      " 11  Food and drink                     10000 non-null  int64  \n",
      " 12  Online boarding                    10000 non-null  int64  \n",
      " 13  Seat comfort                       10000 non-null  int64  \n",
      " 14  Inflight entertainment             10000 non-null  int64  \n",
      " 15  On-board service                   10000 non-null  int64  \n",
      " 16  Leg room service                   10000 non-null  int64  \n",
      " 17  Baggage handling                   10000 non-null  int64  \n",
      " 18  Checkin service                    10000 non-null  int64  \n",
      " 19  Inflight service                   10000 non-null  int64  \n",
      " 20  Cleanliness                        10000 non-null  int64  \n",
      " 21  Departure Delay in Minutes         10000 non-null  int64  \n",
      " 22  Arrival Delay in Minutes           9972 non-null   float64\n",
      " 23  satisfaction                       10000 non-null  int64  \n",
      "dtypes: float64(1), int64(19), object(4)\n",
      "memory usage: 1.8+ MB\n"
     ]
    }
   ],
   "source": [
    "df.info()"
   ]
  },
  {
   "cell_type": "code",
   "execution_count": 5,
   "id": "3899edea",
   "metadata": {
    "execution": {
     "iopub.execute_input": "2022-09-25T07:55:48.370975Z",
     "iopub.status.busy": "2022-09-25T07:55:48.370547Z",
     "iopub.status.idle": "2022-09-25T07:55:48.379981Z",
     "shell.execute_reply": "2022-09-25T07:55:48.378626Z"
    },
    "papermill": {
     "duration": 0.026612,
     "end_time": "2022-09-25T07:55:48.382392",
     "exception": false,
     "start_time": "2022-09-25T07:55:48.355780",
     "status": "completed"
    },
    "tags": []
   },
   "outputs": [
    {
     "data": {
      "text/plain": [
       "Business    5048\n",
       "Eco         4251\n",
       "Eco Plus     701\n",
       "Name: Class, dtype: int64"
      ]
     },
     "execution_count": 5,
     "metadata": {},
     "output_type": "execute_result"
    }
   ],
   "source": [
    "df['Class'].value_counts()"
   ]
  },
  {
   "cell_type": "code",
   "execution_count": 6,
   "id": "9822253c",
   "metadata": {
    "execution": {
     "iopub.execute_input": "2022-09-25T07:55:48.411612Z",
     "iopub.status.busy": "2022-09-25T07:55:48.410863Z",
     "iopub.status.idle": "2022-09-25T07:55:48.419948Z",
     "shell.execute_reply": "2022-09-25T07:55:48.419043Z"
    },
    "papermill": {
     "duration": 0.026016,
     "end_time": "2022-09-25T07:55:48.422073",
     "exception": false,
     "start_time": "2022-09-25T07:55:48.396057",
     "status": "completed"
    },
    "tags": []
   },
   "outputs": [
    {
     "data": {
      "text/plain": [
       "Female    5169\n",
       "Male      4831\n",
       "Name: Gender, dtype: int64"
      ]
     },
     "execution_count": 6,
     "metadata": {},
     "output_type": "execute_result"
    }
   ],
   "source": [
    "df['Gender'].value_counts()"
   ]
  },
  {
   "cell_type": "code",
   "execution_count": 7,
   "id": "63f977ed",
   "metadata": {
    "execution": {
     "iopub.execute_input": "2022-09-25T07:55:48.451391Z",
     "iopub.status.busy": "2022-09-25T07:55:48.450968Z",
     "iopub.status.idle": "2022-09-25T07:55:48.459912Z",
     "shell.execute_reply": "2022-09-25T07:55:48.458851Z"
    },
    "papermill": {
     "duration": 0.02621,
     "end_time": "2022-09-25T07:55:48.462150",
     "exception": false,
     "start_time": "2022-09-25T07:55:48.435940",
     "status": "completed"
    },
    "tags": []
   },
   "outputs": [
    {
     "data": {
      "text/plain": [
       "Loyal Customer       8307\n",
       "disloyal Customer    1693\n",
       "Name: Customer Type, dtype: int64"
      ]
     },
     "execution_count": 7,
     "metadata": {},
     "output_type": "execute_result"
    }
   ],
   "source": [
    "df['Customer Type'].value_counts()"
   ]
  },
  {
   "cell_type": "code",
   "execution_count": 8,
   "id": "273bc924",
   "metadata": {
    "execution": {
     "iopub.execute_input": "2022-09-25T07:55:48.492432Z",
     "iopub.status.busy": "2022-09-25T07:55:48.492026Z",
     "iopub.status.idle": "2022-09-25T07:55:48.500012Z",
     "shell.execute_reply": "2022-09-25T07:55:48.499209Z"
    },
    "papermill": {
     "duration": 0.026179,
     "end_time": "2022-09-25T07:55:48.502043",
     "exception": false,
     "start_time": "2022-09-25T07:55:48.475864",
     "status": "completed"
    },
    "tags": []
   },
   "outputs": [
    {
     "data": {
      "text/plain": [
       "Business travel    7079\n",
       "Personal Travel    2921\n",
       "Name: Type of Travel, dtype: int64"
      ]
     },
     "execution_count": 8,
     "metadata": {},
     "output_type": "execute_result"
    }
   ],
   "source": [
    "df['Type of Travel'].value_counts()"
   ]
  },
  {
   "cell_type": "code",
   "execution_count": 9,
   "id": "93ded275",
   "metadata": {
    "execution": {
     "iopub.execute_input": "2022-09-25T07:55:48.532370Z",
     "iopub.status.busy": "2022-09-25T07:55:48.531974Z",
     "iopub.status.idle": "2022-09-25T07:55:48.547973Z",
     "shell.execute_reply": "2022-09-25T07:55:48.546553Z"
    },
    "papermill": {
     "duration": 0.033872,
     "end_time": "2022-09-25T07:55:48.550436",
     "exception": false,
     "start_time": "2022-09-25T07:55:48.516564",
     "status": "completed"
    },
    "tags": []
   },
   "outputs": [
    {
     "name": "stdout",
     "output_type": "stream",
     "text": [
      "<class 'pandas.core.frame.DataFrame'>\n",
      "RangeIndex: 4000 entries, 0 to 3999\n",
      "Data columns (total 23 columns):\n",
      " #   Column                             Non-Null Count  Dtype  \n",
      "---  ------                             --------------  -----  \n",
      " 0   id                                 4000 non-null   int64  \n",
      " 1   Gender                             4000 non-null   object \n",
      " 2   Customer Type                      4000 non-null   object \n",
      " 3   Age                                4000 non-null   int64  \n",
      " 4   Type of Travel                     4000 non-null   object \n",
      " 5   Class                              4000 non-null   object \n",
      " 6   Flight Distance                    4000 non-null   int64  \n",
      " 7   Inflight wifi service              4000 non-null   int64  \n",
      " 8   Departure/Arrival time convenient  4000 non-null   int64  \n",
      " 9   Ease of Online booking             4000 non-null   int64  \n",
      " 10  Gate location                      4000 non-null   int64  \n",
      " 11  Food and drink                     4000 non-null   int64  \n",
      " 12  Online boarding                    4000 non-null   int64  \n",
      " 13  Seat comfort                       4000 non-null   int64  \n",
      " 14  Inflight entertainment             4000 non-null   int64  \n",
      " 15  On-board service                   4000 non-null   int64  \n",
      " 16  Leg room service                   4000 non-null   int64  \n",
      " 17  Baggage handling                   4000 non-null   int64  \n",
      " 18  Checkin service                    4000 non-null   int64  \n",
      " 19  Inflight service                   4000 non-null   int64  \n",
      " 20  Cleanliness                        4000 non-null   int64  \n",
      " 21  Departure Delay in Minutes         4000 non-null   int64  \n",
      " 22  Arrival Delay in Minutes           3981 non-null   float64\n",
      "dtypes: float64(1), int64(18), object(4)\n",
      "memory usage: 718.9+ KB\n"
     ]
    }
   ],
   "source": [
    "df2.info()"
   ]
  },
  {
   "cell_type": "code",
   "execution_count": 10,
   "id": "4feff440",
   "metadata": {
    "execution": {
     "iopub.execute_input": "2022-09-25T07:55:48.580069Z",
     "iopub.status.busy": "2022-09-25T07:55:48.579613Z",
     "iopub.status.idle": "2022-09-25T07:55:48.601181Z",
     "shell.execute_reply": "2022-09-25T07:55:48.600184Z"
    },
    "papermill": {
     "duration": 0.038959,
     "end_time": "2022-09-25T07:55:48.603353",
     "exception": false,
     "start_time": "2022-09-25T07:55:48.564394",
     "status": "completed"
    },
    "tags": []
   },
   "outputs": [
    {
     "data": {
      "text/plain": [
       "satisfaction                         1.000000\n",
       "Online boarding                      0.504986\n",
       "Inflight entertainment               0.400900\n",
       "Seat comfort                         0.342294\n",
       "On-board service                     0.326426\n",
       "Leg room service                     0.324368\n",
       "Cleanliness                          0.310338\n",
       "Flight Distance                      0.298703\n",
       "Inflight wifi service                0.277395\n",
       "Baggage handling                     0.247965\n",
       "Inflight service                     0.240584\n",
       "Checkin service                      0.232359\n",
       "Food and drink                       0.207854\n",
       "Ease of Online booking               0.164662\n",
       "Age                                  0.144302\n",
       "Departure/Arrival time convenient    0.067638\n",
       "Arrival Delay in Minutes             0.048650\n",
       "Departure Delay in Minutes           0.042960\n",
       "Gate location                        0.007169\n",
       "id                                   0.002931\n",
       "dtype: float64"
      ]
     },
     "execution_count": 10,
     "metadata": {},
     "output_type": "execute_result"
    }
   ],
   "source": [
    "df.corrwith(df['satisfaction']).abs().sort_values(ascending=False)"
   ]
  },
  {
   "cell_type": "markdown",
   "id": "b353b6ec",
   "metadata": {
    "papermill": {
     "duration": 0.014576,
     "end_time": "2022-09-25T07:55:48.632289",
     "exception": false,
     "start_time": "2022-09-25T07:55:48.617713",
     "status": "completed"
    },
    "tags": []
   },
   "source": [
    "## Ma'lumotlarga ishlov berish"
   ]
  },
  {
   "cell_type": "code",
   "execution_count": 11,
   "id": "13569831",
   "metadata": {
    "execution": {
     "iopub.execute_input": "2022-09-25T07:55:48.663118Z",
     "iopub.status.busy": "2022-09-25T07:55:48.662710Z",
     "iopub.status.idle": "2022-09-25T07:55:48.671088Z",
     "shell.execute_reply": "2022-09-25T07:55:48.670108Z"
    },
    "papermill": {
     "duration": 0.026092,
     "end_time": "2022-09-25T07:55:48.673163",
     "exception": false,
     "start_time": "2022-09-25T07:55:48.647071",
     "status": "completed"
    },
    "tags": []
   },
   "outputs": [
    {
     "data": {
      "text/plain": [
       "0    0.5\n",
       "1    0.5\n",
       "Name: satisfaction, dtype: float64"
      ]
     },
     "execution_count": 11,
     "metadata": {},
     "output_type": "execute_result"
    }
   ],
   "source": [
    "df['satisfaction'].value_counts()/len(df)"
   ]
  },
  {
   "cell_type": "markdown",
   "id": "06aa252d",
   "metadata": {
    "papermill": {
     "duration": 0.013871,
     "end_time": "2022-09-25T07:55:48.701541",
     "exception": false,
     "start_time": "2022-09-25T07:55:48.687670",
     "status": "completed"
    },
    "tags": []
   },
   "source": [
    "Ma'lumotlar juda yaxshi.\n"
   ]
  },
  {
   "cell_type": "code",
   "execution_count": 12,
   "id": "7a76d94d",
   "metadata": {
    "execution": {
     "iopub.execute_input": "2022-09-25T07:55:48.732360Z",
     "iopub.status.busy": "2022-09-25T07:55:48.731961Z",
     "iopub.status.idle": "2022-09-25T07:55:48.740210Z",
     "shell.execute_reply": "2022-09-25T07:55:48.738913Z"
    },
    "papermill": {
     "duration": 0.026703,
     "end_time": "2022-09-25T07:55:48.742498",
     "exception": false,
     "start_time": "2022-09-25T07:55:48.715795",
     "status": "completed"
    },
    "tags": []
   },
   "outputs": [],
   "source": [
    "df = df.drop(columns=['id','Gate location','Departure Delay in Minutes'],axis=1)\n",
    "df2 = df2.drop(columns=['id','Gate location','Departure Delay in Minutes'],axis=1)\n"
   ]
  },
  {
   "cell_type": "code",
   "execution_count": 13,
   "id": "0b77844f",
   "metadata": {
    "execution": {
     "iopub.execute_input": "2022-09-25T07:55:48.773704Z",
     "iopub.status.busy": "2022-09-25T07:55:48.773280Z",
     "iopub.status.idle": "2022-09-25T07:55:48.786669Z",
     "shell.execute_reply": "2022-09-25T07:55:48.785470Z"
    },
    "papermill": {
     "duration": 0.031859,
     "end_time": "2022-09-25T07:55:48.789211",
     "exception": false,
     "start_time": "2022-09-25T07:55:48.757352",
     "status": "completed"
    },
    "tags": []
   },
   "outputs": [
    {
     "name": "stdout",
     "output_type": "stream",
     "text": [
      "2    5048\n",
      "0    4251\n",
      "1     701\n",
      "Name: Class, dtype: int64\n",
      "2    2030\n",
      "0    1691\n",
      "1     279\n",
      "Name: Class, dtype: int64\n"
     ]
    }
   ],
   "source": [
    "dict = {'Eco':0, 'Eco Plus':1, 'Business':2}\n",
    "df['Class']=df['Class'].map(dict)\n",
    "print(df['Class'].value_counts())\n",
    "\n",
    "dict = {'Eco':0, 'Eco Plus':1, 'Business':2}\n",
    "df2['Class']=df2['Class'].map(dict)\n",
    "print(df2['Class'].value_counts())\n"
   ]
  },
  {
   "cell_type": "code",
   "execution_count": 14,
   "id": "55f72ab1",
   "metadata": {
    "execution": {
     "iopub.execute_input": "2022-09-25T07:55:48.819908Z",
     "iopub.status.busy": "2022-09-25T07:55:48.819506Z",
     "iopub.status.idle": "2022-09-25T07:55:48.832041Z",
     "shell.execute_reply": "2022-09-25T07:55:48.830964Z"
    },
    "papermill": {
     "duration": 0.031176,
     "end_time": "2022-09-25T07:55:48.834793",
     "exception": false,
     "start_time": "2022-09-25T07:55:48.803617",
     "status": "completed"
    },
    "tags": []
   },
   "outputs": [
    {
     "name": "stdout",
     "output_type": "stream",
     "text": [
      "0    5169\n",
      "1    4831\n",
      "Name: Gender, dtype: int64\n",
      "1    2013\n",
      "0    1987\n",
      "Name: Gender, dtype: int64\n"
     ]
    }
   ],
   "source": [
    "dict = {'Female':0, 'Male':1}\n",
    "df['Gender']=df['Gender'].map(dict)\n",
    "print(df['Gender'].value_counts())\n",
    "\n",
    "dict = {'Female':0, 'Male':1}\n",
    "df2['Gender']=df2['Gender'].map(dict)\n",
    "print(df2['Gender'].value_counts())"
   ]
  },
  {
   "cell_type": "code",
   "execution_count": 15,
   "id": "019fbf8d",
   "metadata": {
    "execution": {
     "iopub.execute_input": "2022-09-25T07:55:48.866983Z",
     "iopub.status.busy": "2022-09-25T07:55:48.865871Z",
     "iopub.status.idle": "2022-09-25T07:55:48.878679Z",
     "shell.execute_reply": "2022-09-25T07:55:48.877499Z"
    },
    "papermill": {
     "duration": 0.031532,
     "end_time": "2022-09-25T07:55:48.881484",
     "exception": false,
     "start_time": "2022-09-25T07:55:48.849952",
     "status": "completed"
    },
    "tags": []
   },
   "outputs": [
    {
     "name": "stdout",
     "output_type": "stream",
     "text": [
      "1    8307\n",
      "0    1693\n",
      "Name: Customer Type, dtype: int64\n",
      "1    3264\n",
      "0     736\n",
      "Name: Customer Type, dtype: int64\n"
     ]
    }
   ],
   "source": [
    "dict = {'disloyal Customer':0, 'Loyal Customer':1}\n",
    "df['Customer Type'] = df['Customer Type'].map(dict)\n",
    "print(df['Customer Type'].value_counts())\n",
    "\n",
    "dict = {'disloyal Customer':0, 'Loyal Customer':1}\n",
    "df2['Customer Type'] = df2['Customer Type'].map(dict)\n",
    "print(df2['Customer Type'].value_counts())"
   ]
  },
  {
   "cell_type": "code",
   "execution_count": 16,
   "id": "1ffd16d5",
   "metadata": {
    "execution": {
     "iopub.execute_input": "2022-09-25T07:55:48.913070Z",
     "iopub.status.busy": "2022-09-25T07:55:48.912222Z",
     "iopub.status.idle": "2022-09-25T07:55:48.924207Z",
     "shell.execute_reply": "2022-09-25T07:55:48.923306Z"
    },
    "papermill": {
     "duration": 0.029782,
     "end_time": "2022-09-25T07:55:48.926371",
     "exception": false,
     "start_time": "2022-09-25T07:55:48.896589",
     "status": "completed"
    },
    "tags": []
   },
   "outputs": [
    {
     "name": "stdout",
     "output_type": "stream",
     "text": [
      "1    7079\n",
      "0    2921\n",
      "Name: Type of Travel, dtype: int64\n",
      "1    2871\n",
      "0    1129\n",
      "Name: Type of Travel, dtype: int64\n"
     ]
    }
   ],
   "source": [
    "dict = {'Personal Travel':0, 'Business travel':1}\n",
    "df['Type of Travel'] = df['Type of Travel'].map(dict)\n",
    "print(df['Type of Travel'].value_counts())\n",
    "\n",
    "dict = {'Personal Travel':0, 'Business travel':1}\n",
    "df2['Type of Travel'] = df2['Type of Travel'].map(dict)\n",
    "print(df2['Type of Travel'].value_counts())"
   ]
  },
  {
   "cell_type": "code",
   "execution_count": 17,
   "id": "005dba41",
   "metadata": {
    "execution": {
     "iopub.execute_input": "2022-09-25T07:55:48.957669Z",
     "iopub.status.busy": "2022-09-25T07:55:48.956537Z",
     "iopub.status.idle": "2022-09-25T07:55:48.967940Z",
     "shell.execute_reply": "2022-09-25T07:55:48.966856Z"
    },
    "papermill": {
     "duration": 0.029428,
     "end_time": "2022-09-25T07:55:48.970323",
     "exception": false,
     "start_time": "2022-09-25T07:55:48.940895",
     "status": "completed"
    },
    "tags": []
   },
   "outputs": [
    {
     "data": {
      "text/plain": [
       "Gender                                0\n",
       "Customer Type                         0\n",
       "Age                                   0\n",
       "Type of Travel                        0\n",
       "Class                                 0\n",
       "Flight Distance                       0\n",
       "Inflight wifi service                 0\n",
       "Departure/Arrival time convenient     0\n",
       "Ease of Online booking                0\n",
       "Food and drink                        0\n",
       "Online boarding                       0\n",
       "Seat comfort                          0\n",
       "Inflight entertainment                0\n",
       "On-board service                      0\n",
       "Leg room service                      0\n",
       "Baggage handling                      0\n",
       "Checkin service                       0\n",
       "Inflight service                      0\n",
       "Cleanliness                           0\n",
       "Arrival Delay in Minutes             28\n",
       "satisfaction                          0\n",
       "dtype: int64"
      ]
     },
     "execution_count": 17,
     "metadata": {},
     "output_type": "execute_result"
    }
   ],
   "source": [
    "df.isnull().sum()"
   ]
  },
  {
   "cell_type": "code",
   "execution_count": 18,
   "id": "d00fb97c",
   "metadata": {
    "execution": {
     "iopub.execute_input": "2022-09-25T07:55:49.001460Z",
     "iopub.status.busy": "2022-09-25T07:55:49.001077Z",
     "iopub.status.idle": "2022-09-25T07:55:49.010918Z",
     "shell.execute_reply": "2022-09-25T07:55:49.009729Z"
    },
    "papermill": {
     "duration": 0.02828,
     "end_time": "2022-09-25T07:55:49.013209",
     "exception": false,
     "start_time": "2022-09-25T07:55:48.984929",
     "status": "completed"
    },
    "tags": []
   },
   "outputs": [
    {
     "data": {
      "text/plain": [
       "Gender                                0\n",
       "Customer Type                         0\n",
       "Age                                   0\n",
       "Type of Travel                        0\n",
       "Class                                 0\n",
       "Flight Distance                       0\n",
       "Inflight wifi service                 0\n",
       "Departure/Arrival time convenient     0\n",
       "Ease of Online booking                0\n",
       "Food and drink                        0\n",
       "Online boarding                       0\n",
       "Seat comfort                          0\n",
       "Inflight entertainment                0\n",
       "On-board service                      0\n",
       "Leg room service                      0\n",
       "Baggage handling                      0\n",
       "Checkin service                       0\n",
       "Inflight service                      0\n",
       "Cleanliness                           0\n",
       "Arrival Delay in Minutes             19\n",
       "dtype: int64"
      ]
     },
     "execution_count": 18,
     "metadata": {},
     "output_type": "execute_result"
    }
   ],
   "source": [
    "df2.isnull().sum()"
   ]
  },
  {
   "cell_type": "markdown",
   "id": "515b7392",
   "metadata": {
    "papermill": {
     "duration": 0.014413,
     "end_time": "2022-09-25T07:55:49.042390",
     "exception": false,
     "start_time": "2022-09-25T07:55:49.027977",
     "status": "completed"
    },
    "tags": []
   },
   "source": [
    "## ML ga tayyorgarlik"
   ]
  },
  {
   "cell_type": "code",
   "execution_count": 19,
   "id": "82ac5ec2",
   "metadata": {
    "execution": {
     "iopub.execute_input": "2022-09-25T07:55:49.073666Z",
     "iopub.status.busy": "2022-09-25T07:55:49.073249Z",
     "iopub.status.idle": "2022-09-25T07:55:49.091974Z",
     "shell.execute_reply": "2022-09-25T07:55:49.090847Z"
    },
    "papermill": {
     "duration": 0.037335,
     "end_time": "2022-09-25T07:55:49.094527",
     "exception": false,
     "start_time": "2022-09-25T07:55:49.057192",
     "status": "completed"
    },
    "tags": []
   },
   "outputs": [],
   "source": [
    "from sklearn.model_selection import StratifiedShuffleSplit\n",
    "stratified_split = StratifiedShuffleSplit(n_splits=1, test_size=0.4, random_state=42)\n",
    "# stratified_split.split funksiyasi indekslar qaytaradi\n",
    "for train_index,test_index in stratified_split.split(df, df['Gender']):\n",
    "  strat_train = df.loc[train_index]\n",
    "  strat_test = df.loc[test_index]\n",
    "\n",
    "X_train = strat_train.drop('satisfaction',axis=1)\n",
    "y = strat_train['satisfaction'].copy()\n",
    "X_test = strat_test.drop('satisfaction', axis=1)\n",
    "y_test = strat_test['satisfaction'].copy()"
   ]
  },
  {
   "cell_type": "code",
   "execution_count": 20,
   "id": "0d2b5eac",
   "metadata": {
    "execution": {
     "iopub.execute_input": "2022-09-25T07:55:49.126711Z",
     "iopub.status.busy": "2022-09-25T07:55:49.126289Z",
     "iopub.status.idle": "2022-09-25T07:55:49.147888Z",
     "shell.execute_reply": "2022-09-25T07:55:49.146939Z"
    },
    "papermill": {
     "duration": 0.03997,
     "end_time": "2022-09-25T07:55:49.149915",
     "exception": false,
     "start_time": "2022-09-25T07:55:49.109945",
     "status": "completed"
    },
    "tags": []
   },
   "outputs": [
    {
     "data": {
      "text/html": [
       "<div>\n",
       "<style scoped>\n",
       "    .dataframe tbody tr th:only-of-type {\n",
       "        vertical-align: middle;\n",
       "    }\n",
       "\n",
       "    .dataframe tbody tr th {\n",
       "        vertical-align: top;\n",
       "    }\n",
       "\n",
       "    .dataframe thead th {\n",
       "        text-align: right;\n",
       "    }\n",
       "</style>\n",
       "<table border=\"1\" class=\"dataframe\">\n",
       "  <thead>\n",
       "    <tr style=\"text-align: right;\">\n",
       "      <th></th>\n",
       "      <th>Gender</th>\n",
       "      <th>Customer Type</th>\n",
       "      <th>Age</th>\n",
       "      <th>Type of Travel</th>\n",
       "      <th>Class</th>\n",
       "      <th>Flight Distance</th>\n",
       "      <th>Inflight wifi service</th>\n",
       "      <th>Departure/Arrival time convenient</th>\n",
       "      <th>Ease of Online booking</th>\n",
       "      <th>Food and drink</th>\n",
       "      <th>Online boarding</th>\n",
       "      <th>Seat comfort</th>\n",
       "      <th>Inflight entertainment</th>\n",
       "      <th>On-board service</th>\n",
       "      <th>Leg room service</th>\n",
       "      <th>Baggage handling</th>\n",
       "      <th>Checkin service</th>\n",
       "      <th>Inflight service</th>\n",
       "      <th>Cleanliness</th>\n",
       "      <th>Arrival Delay in Minutes</th>\n",
       "    </tr>\n",
       "  </thead>\n",
       "  <tbody>\n",
       "    <tr>\n",
       "      <th>5489</th>\n",
       "      <td>0</td>\n",
       "      <td>1</td>\n",
       "      <td>22</td>\n",
       "      <td>1</td>\n",
       "      <td>0</td>\n",
       "      <td>351</td>\n",
       "      <td>1</td>\n",
       "      <td>5</td>\n",
       "      <td>5</td>\n",
       "      <td>1</td>\n",
       "      <td>1</td>\n",
       "      <td>2</td>\n",
       "      <td>1</td>\n",
       "      <td>2</td>\n",
       "      <td>5</td>\n",
       "      <td>2</td>\n",
       "      <td>2</td>\n",
       "      <td>2</td>\n",
       "      <td>1</td>\n",
       "      <td>0.0</td>\n",
       "    </tr>\n",
       "    <tr>\n",
       "      <th>1961</th>\n",
       "      <td>0</td>\n",
       "      <td>1</td>\n",
       "      <td>44</td>\n",
       "      <td>1</td>\n",
       "      <td>1</td>\n",
       "      <td>216</td>\n",
       "      <td>1</td>\n",
       "      <td>2</td>\n",
       "      <td>2</td>\n",
       "      <td>5</td>\n",
       "      <td>3</td>\n",
       "      <td>2</td>\n",
       "      <td>1</td>\n",
       "      <td>1</td>\n",
       "      <td>1</td>\n",
       "      <td>1</td>\n",
       "      <td>2</td>\n",
       "      <td>1</td>\n",
       "      <td>4</td>\n",
       "      <td>0.0</td>\n",
       "    </tr>\n",
       "    <tr>\n",
       "      <th>8502</th>\n",
       "      <td>0</td>\n",
       "      <td>1</td>\n",
       "      <td>43</td>\n",
       "      <td>1</td>\n",
       "      <td>2</td>\n",
       "      <td>3487</td>\n",
       "      <td>5</td>\n",
       "      <td>5</td>\n",
       "      <td>5</td>\n",
       "      <td>5</td>\n",
       "      <td>5</td>\n",
       "      <td>4</td>\n",
       "      <td>4</td>\n",
       "      <td>4</td>\n",
       "      <td>4</td>\n",
       "      <td>4</td>\n",
       "      <td>5</td>\n",
       "      <td>4</td>\n",
       "      <td>3</td>\n",
       "      <td>0.0</td>\n",
       "    </tr>\n",
       "    <tr>\n",
       "      <th>1014</th>\n",
       "      <td>0</td>\n",
       "      <td>1</td>\n",
       "      <td>50</td>\n",
       "      <td>0</td>\n",
       "      <td>0</td>\n",
       "      <td>164</td>\n",
       "      <td>3</td>\n",
       "      <td>1</td>\n",
       "      <td>3</td>\n",
       "      <td>1</td>\n",
       "      <td>1</td>\n",
       "      <td>2</td>\n",
       "      <td>1</td>\n",
       "      <td>1</td>\n",
       "      <td>3</td>\n",
       "      <td>1</td>\n",
       "      <td>3</td>\n",
       "      <td>1</td>\n",
       "      <td>1</td>\n",
       "      <td>0.0</td>\n",
       "    </tr>\n",
       "    <tr>\n",
       "      <th>4709</th>\n",
       "      <td>1</td>\n",
       "      <td>1</td>\n",
       "      <td>29</td>\n",
       "      <td>1</td>\n",
       "      <td>2</td>\n",
       "      <td>2566</td>\n",
       "      <td>1</td>\n",
       "      <td>1</td>\n",
       "      <td>1</td>\n",
       "      <td>5</td>\n",
       "      <td>5</td>\n",
       "      <td>5</td>\n",
       "      <td>5</td>\n",
       "      <td>3</td>\n",
       "      <td>5</td>\n",
       "      <td>5</td>\n",
       "      <td>5</td>\n",
       "      <td>4</td>\n",
       "      <td>5</td>\n",
       "      <td>0.0</td>\n",
       "    </tr>\n",
       "    <tr>\n",
       "      <th>...</th>\n",
       "      <td>...</td>\n",
       "      <td>...</td>\n",
       "      <td>...</td>\n",
       "      <td>...</td>\n",
       "      <td>...</td>\n",
       "      <td>...</td>\n",
       "      <td>...</td>\n",
       "      <td>...</td>\n",
       "      <td>...</td>\n",
       "      <td>...</td>\n",
       "      <td>...</td>\n",
       "      <td>...</td>\n",
       "      <td>...</td>\n",
       "      <td>...</td>\n",
       "      <td>...</td>\n",
       "      <td>...</td>\n",
       "      <td>...</td>\n",
       "      <td>...</td>\n",
       "      <td>...</td>\n",
       "      <td>...</td>\n",
       "    </tr>\n",
       "    <tr>\n",
       "      <th>9183</th>\n",
       "      <td>1</td>\n",
       "      <td>1</td>\n",
       "      <td>48</td>\n",
       "      <td>1</td>\n",
       "      <td>0</td>\n",
       "      <td>954</td>\n",
       "      <td>5</td>\n",
       "      <td>4</td>\n",
       "      <td>4</td>\n",
       "      <td>5</td>\n",
       "      <td>5</td>\n",
       "      <td>5</td>\n",
       "      <td>5</td>\n",
       "      <td>5</td>\n",
       "      <td>5</td>\n",
       "      <td>1</td>\n",
       "      <td>1</td>\n",
       "      <td>3</td>\n",
       "      <td>5</td>\n",
       "      <td>0.0</td>\n",
       "    </tr>\n",
       "    <tr>\n",
       "      <th>199</th>\n",
       "      <td>1</td>\n",
       "      <td>1</td>\n",
       "      <td>58</td>\n",
       "      <td>1</td>\n",
       "      <td>1</td>\n",
       "      <td>160</td>\n",
       "      <td>5</td>\n",
       "      <td>1</td>\n",
       "      <td>1</td>\n",
       "      <td>5</td>\n",
       "      <td>5</td>\n",
       "      <td>5</td>\n",
       "      <td>5</td>\n",
       "      <td>5</td>\n",
       "      <td>3</td>\n",
       "      <td>3</td>\n",
       "      <td>4</td>\n",
       "      <td>3</td>\n",
       "      <td>5</td>\n",
       "      <td>0.0</td>\n",
       "    </tr>\n",
       "    <tr>\n",
       "      <th>2436</th>\n",
       "      <td>0</td>\n",
       "      <td>1</td>\n",
       "      <td>10</td>\n",
       "      <td>1</td>\n",
       "      <td>1</td>\n",
       "      <td>2419</td>\n",
       "      <td>2</td>\n",
       "      <td>4</td>\n",
       "      <td>4</td>\n",
       "      <td>2</td>\n",
       "      <td>4</td>\n",
       "      <td>2</td>\n",
       "      <td>2</td>\n",
       "      <td>5</td>\n",
       "      <td>3</td>\n",
       "      <td>3</td>\n",
       "      <td>2</td>\n",
       "      <td>4</td>\n",
       "      <td>2</td>\n",
       "      <td>0.0</td>\n",
       "    </tr>\n",
       "    <tr>\n",
       "      <th>2486</th>\n",
       "      <td>0</td>\n",
       "      <td>1</td>\n",
       "      <td>15</td>\n",
       "      <td>0</td>\n",
       "      <td>0</td>\n",
       "      <td>254</td>\n",
       "      <td>2</td>\n",
       "      <td>3</td>\n",
       "      <td>0</td>\n",
       "      <td>3</td>\n",
       "      <td>0</td>\n",
       "      <td>3</td>\n",
       "      <td>3</td>\n",
       "      <td>3</td>\n",
       "      <td>3</td>\n",
       "      <td>3</td>\n",
       "      <td>3</td>\n",
       "      <td>3</td>\n",
       "      <td>3</td>\n",
       "      <td>40.0</td>\n",
       "    </tr>\n",
       "    <tr>\n",
       "      <th>3190</th>\n",
       "      <td>1</td>\n",
       "      <td>1</td>\n",
       "      <td>51</td>\n",
       "      <td>1</td>\n",
       "      <td>2</td>\n",
       "      <td>1182</td>\n",
       "      <td>2</td>\n",
       "      <td>2</td>\n",
       "      <td>2</td>\n",
       "      <td>2</td>\n",
       "      <td>5</td>\n",
       "      <td>4</td>\n",
       "      <td>2</td>\n",
       "      <td>2</td>\n",
       "      <td>2</td>\n",
       "      <td>2</td>\n",
       "      <td>4</td>\n",
       "      <td>2</td>\n",
       "      <td>4</td>\n",
       "      <td>27.0</td>\n",
       "    </tr>\n",
       "  </tbody>\n",
       "</table>\n",
       "<p>6000 rows × 20 columns</p>\n",
       "</div>"
      ],
      "text/plain": [
       "      Gender  Customer Type  Age  Type of Travel  Class  Flight Distance  \\\n",
       "5489       0              1   22               1      0              351   \n",
       "1961       0              1   44               1      1              216   \n",
       "8502       0              1   43               1      2             3487   \n",
       "1014       0              1   50               0      0              164   \n",
       "4709       1              1   29               1      2             2566   \n",
       "...      ...            ...  ...             ...    ...              ...   \n",
       "9183       1              1   48               1      0              954   \n",
       "199        1              1   58               1      1              160   \n",
       "2436       0              1   10               1      1             2419   \n",
       "2486       0              1   15               0      0              254   \n",
       "3190       1              1   51               1      2             1182   \n",
       "\n",
       "      Inflight wifi service  Departure/Arrival time convenient  \\\n",
       "5489                      1                                  5   \n",
       "1961                      1                                  2   \n",
       "8502                      5                                  5   \n",
       "1014                      3                                  1   \n",
       "4709                      1                                  1   \n",
       "...                     ...                                ...   \n",
       "9183                      5                                  4   \n",
       "199                       5                                  1   \n",
       "2436                      2                                  4   \n",
       "2486                      2                                  3   \n",
       "3190                      2                                  2   \n",
       "\n",
       "      Ease of Online booking  Food and drink  Online boarding  Seat comfort  \\\n",
       "5489                       5               1                1             2   \n",
       "1961                       2               5                3             2   \n",
       "8502                       5               5                5             4   \n",
       "1014                       3               1                1             2   \n",
       "4709                       1               5                5             5   \n",
       "...                      ...             ...              ...           ...   \n",
       "9183                       4               5                5             5   \n",
       "199                        1               5                5             5   \n",
       "2436                       4               2                4             2   \n",
       "2486                       0               3                0             3   \n",
       "3190                       2               2                5             4   \n",
       "\n",
       "      Inflight entertainment  On-board service  Leg room service  \\\n",
       "5489                       1                 2                 5   \n",
       "1961                       1                 1                 1   \n",
       "8502                       4                 4                 4   \n",
       "1014                       1                 1                 3   \n",
       "4709                       5                 3                 5   \n",
       "...                      ...               ...               ...   \n",
       "9183                       5                 5                 5   \n",
       "199                        5                 5                 3   \n",
       "2436                       2                 5                 3   \n",
       "2486                       3                 3                 3   \n",
       "3190                       2                 2                 2   \n",
       "\n",
       "      Baggage handling  Checkin service  Inflight service  Cleanliness  \\\n",
       "5489                 2                2                 2            1   \n",
       "1961                 1                2                 1            4   \n",
       "8502                 4                5                 4            3   \n",
       "1014                 1                3                 1            1   \n",
       "4709                 5                5                 4            5   \n",
       "...                ...              ...               ...          ...   \n",
       "9183                 1                1                 3            5   \n",
       "199                  3                4                 3            5   \n",
       "2436                 3                2                 4            2   \n",
       "2486                 3                3                 3            3   \n",
       "3190                 2                4                 2            4   \n",
       "\n",
       "      Arrival Delay in Minutes  \n",
       "5489                       0.0  \n",
       "1961                       0.0  \n",
       "8502                       0.0  \n",
       "1014                       0.0  \n",
       "4709                       0.0  \n",
       "...                        ...  \n",
       "9183                       0.0  \n",
       "199                        0.0  \n",
       "2436                       0.0  \n",
       "2486                      40.0  \n",
       "3190                      27.0  \n",
       "\n",
       "[6000 rows x 20 columns]"
      ]
     },
     "execution_count": 20,
     "metadata": {},
     "output_type": "execute_result"
    }
   ],
   "source": [
    "X_train"
   ]
  },
  {
   "cell_type": "markdown",
   "id": "78df7f61",
   "metadata": {
    "papermill": {
     "duration": 0.018,
     "end_time": "2022-09-25T07:55:49.183289",
     "exception": false,
     "start_time": "2022-09-25T07:55:49.165289",
     "status": "completed"
    },
    "tags": []
   },
   "source": [
    "## **Pipeline**"
   ]
  },
  {
   "cell_type": "markdown",
   "id": "4f8c4b57",
   "metadata": {
    "papermill": {
     "duration": 0.021172,
     "end_time": "2022-09-25T07:55:49.223746",
     "exception": false,
     "start_time": "2022-09-25T07:55:49.202574",
     "status": "completed"
    },
    "tags": []
   },
   "source": [
    "### **To'liq pipeline**"
   ]
  },
  {
   "cell_type": "code",
   "execution_count": 21,
   "id": "367d9ad5",
   "metadata": {
    "execution": {
     "iopub.execute_input": "2022-09-25T07:55:49.260296Z",
     "iopub.status.busy": "2022-09-25T07:55:49.259762Z",
     "iopub.status.idle": "2022-09-25T07:55:49.275965Z",
     "shell.execute_reply": "2022-09-25T07:55:49.274899Z"
    },
    "papermill": {
     "duration": 0.037098,
     "end_time": "2022-09-25T07:55:49.278411",
     "exception": false,
     "start_time": "2022-09-25T07:55:49.241313",
     "status": "completed"
    },
    "tags": []
   },
   "outputs": [],
   "source": [
    "from sklearn.compose import ColumnTransformer\n",
    "from sklearn.pipeline import Pipeline\n",
    "from sklearn.impute import SimpleImputer\n",
    "from sklearn.preprocessing import OneHotEncoder, StandardScaler\n",
    "\n",
    "pipeline = Pipeline([\n",
    "          ('std_scaler', StandardScaler()),\n",
    "          ('imputer', SimpleImputer(strategy='median'))])\n",
    "    \n",
    "#full_pipeline = ColumnTransformer([\n",
    "#   ('num', num_pipeline)])\n",
    "\n",
    "        "
   ]
  },
  {
   "cell_type": "code",
   "execution_count": 22,
   "id": "df05e939",
   "metadata": {
    "execution": {
     "iopub.execute_input": "2022-09-25T07:55:49.311220Z",
     "iopub.status.busy": "2022-09-25T07:55:49.310825Z",
     "iopub.status.idle": "2022-09-25T07:55:49.347111Z",
     "shell.execute_reply": "2022-09-25T07:55:49.346128Z"
    },
    "papermill": {
     "duration": 0.055472,
     "end_time": "2022-09-25T07:55:49.349608",
     "exception": false,
     "start_time": "2022-09-25T07:55:49.294136",
     "status": "completed"
    },
    "tags": []
   },
   "outputs": [
    {
     "data": {
      "text/plain": [
       "array([[-0.96688144,  0.45256964, -1.16723006, ..., -1.42912895,\n",
       "        -1.76534147, -0.38219285],\n",
       "       [-0.96688144,  0.45256964,  0.31730897, ..., -2.27803239,\n",
       "         0.52433618, -0.38219285],\n",
       "       [-0.96688144,  0.45256964,  0.24982992, ...,  0.26867794,\n",
       "        -0.2388897 , -0.38219285],\n",
       "       ...,\n",
       "       [-0.96688144,  0.45256964, -1.97697862, ...,  0.26867794,\n",
       "        -1.00211559, -0.38219285],\n",
       "       [-0.96688144,  0.45256964, -1.63958339, ..., -0.5802255 ,\n",
       "        -0.2388897 ,  0.66189386],\n",
       "       [ 1.03425297,  0.45256964,  0.7896623 , ..., -1.42912895,\n",
       "         0.52433618,  0.32256568]])"
      ]
     },
     "execution_count": 22,
     "metadata": {},
     "output_type": "execute_result"
    }
   ],
   "source": [
    "X_prepared = pipeline.fit_transform(X_train)\n",
    "X_test_prepared = pipeline.fit_transform(X_test)\n",
    "\n",
    "X_prepared"
   ]
  },
  {
   "cell_type": "markdown",
   "id": "5f4dc2a9",
   "metadata": {
    "papermill": {
     "duration": 0.015406,
     "end_time": "2022-09-25T07:55:49.380785",
     "exception": false,
     "start_time": "2022-09-25T07:55:49.365379",
     "status": "completed"
    },
    "tags": []
   },
   "source": [
    "## **Eng yaxshi k ni topish**\n",
    "\n",
    "### **`for` yordamida**"
   ]
  },
  {
   "cell_type": "code",
   "execution_count": 23,
   "id": "d5f9f8c9",
   "metadata": {
    "execution": {
     "iopub.execute_input": "2022-09-25T07:55:49.413912Z",
     "iopub.status.busy": "2022-09-25T07:55:49.413391Z",
     "iopub.status.idle": "2022-09-25T07:56:52.764887Z",
     "shell.execute_reply": "2022-09-25T07:56:52.763610Z"
    },
    "papermill": {
     "duration": 63.386486,
     "end_time": "2022-09-25T07:56:52.782746",
     "exception": false,
     "start_time": "2022-09-25T07:55:49.396260",
     "status": "completed"
    },
    "tags": []
   },
   "outputs": [
    {
     "data": {
      "image/png": "[encoded data removed]",
      "text/plain": [
       "<Figure size 720x432 with 1 Axes>"
      ]
     },
     "metadata": {
      "needs_background": "light"
     },
     "output_type": "display_data"
    }
   ],
   "source": [
    "f1 = []\n",
    "for k in range(1,100):\n",
    "  knn = KNeighborsClassifier(n_neighbors=k)\n",
    "  knn.fit(X_prepared, y)\n",
    "  y_predict = knn.predict(X_test_prepared)\n",
    "  f1.append(f1_score(y_test, y_predict))\n",
    "\n",
    "plt.figure(figsize=(10,6))\n",
    "plt.plot(range(1,100),f1)\n",
    "plt.grid()\n",
    "plt.show()"
   ]
  },
  {
   "cell_type": "code",
   "execution_count": 24,
   "id": "f680802c",
   "metadata": {
    "execution": {
     "iopub.execute_input": "2022-09-25T07:56:52.817494Z",
     "iopub.status.busy": "2022-09-25T07:56:52.817066Z",
     "iopub.status.idle": "2022-09-25T07:57:02.333521Z",
     "shell.execute_reply": "2022-09-25T07:57:02.332709Z"
    },
    "papermill": {
     "duration": 9.537104,
     "end_time": "2022-09-25T07:57:02.335908",
     "exception": false,
     "start_time": "2022-09-25T07:56:52.798804",
     "status": "completed"
    },
    "tags": []
   },
   "outputs": [
    {
     "data": {
      "image/png": "[encoded data removed]",
      "text/plain": [
       "<Figure size 720x432 with 1 Axes>"
      ]
     },
     "metadata": {
      "needs_background": "light"
     },
     "output_type": "display_data"
    }
   ],
   "source": [
    "# Yaqinlashtirib ko'ramiz\n",
    "f1 = []\n",
    "for k in range(5,20):\n",
    "  knn = KNeighborsClassifier(n_neighbors=k)\n",
    "  knn.fit(X_prepared, y)\n",
    "  y_predict = knn.predict(X_test_prepared)\n",
    "  f1.append(f1_score(y_test, y_predict))\n",
    "\n",
    "plt.figure(figsize=(10,6))\n",
    "plt.plot(range(5,20),f1)\n",
    "plt.grid()\n",
    "plt.show()"
   ]
  },
  {
   "cell_type": "markdown",
   "id": "9c151b86",
   "metadata": {
    "papermill": {
     "duration": 0.016818,
     "end_time": "2022-09-25T07:57:02.369512",
     "exception": false,
     "start_time": "2022-09-25T07:57:02.352694",
     "status": "completed"
    },
    "tags": []
   },
   "source": [
    "## **ML**"
   ]
  },
  {
   "cell_type": "markdown",
   "id": "ab6a7150",
   "metadata": {
    "papermill": {
     "duration": 0.015882,
     "end_time": "2022-09-25T07:57:02.401778",
     "exception": false,
     "start_time": "2022-09-25T07:57:02.385896",
     "status": "completed"
    },
    "tags": []
   },
   "source": [
    "### **KNN**"
   ]
  },
  {
   "cell_type": "code",
   "execution_count": 25,
   "id": "0180a1d0",
   "metadata": {
    "execution": {
     "iopub.execute_input": "2022-09-25T07:57:02.436402Z",
     "iopub.status.busy": "2022-09-25T07:57:02.435611Z",
     "iopub.status.idle": "2022-09-25T07:57:03.463597Z",
     "shell.execute_reply": "2022-09-25T07:57:03.462722Z"
    },
    "papermill": {
     "duration": 1.047702,
     "end_time": "2022-09-25T07:57:03.465738",
     "exception": false,
     "start_time": "2022-09-25T07:57:02.418036",
     "status": "completed"
    },
    "tags": []
   },
   "outputs": [
    {
     "name": "stdout",
     "output_type": "stream",
     "text": [
      "              precision    recall  f1-score   support\n",
      "\n",
      "           0       0.88      0.94      0.91      2004\n",
      "           1       0.94      0.87      0.91      1996\n",
      "\n",
      "    accuracy                           0.91      4000\n",
      "   macro avg       0.91      0.91      0.91      4000\n",
      "weighted avg       0.91      0.91      0.91      4000\n",
      "\n",
      "Model aniqligi: 0.90925\n"
     ]
    },
    {
     "data": {
      "image/png": "[encoded data removed]",
      "text/plain": [
       "<Figure size 432x288 with 2 Axes>"
      ]
     },
     "metadata": {
      "needs_background": "light"
     },
     "output_type": "display_data"
    },
    {
     "data": {
      "image/png": "[encoded data removed]",
      "text/plain": [
       "<Figure size 432x288 with 1 Axes>"
      ]
     },
     "metadata": {
      "needs_background": "light"
     },
     "output_type": "display_data"
    }
   ],
   "source": [
    "#k-NN\n",
    "knn = KNeighborsClassifier(n_neighbors=7)#k ni qiymati\n",
    "knn.fit(X_prepared, y)\n",
    "X_test_prepared = pipeline.transform(X_test)\n",
    "y_pred = knn.predict(X_test_prepared)\n",
    "print(classification_report(y_test, y_pred))\n",
    "print(\"Model aniqligi:\", accuracy_score(y_test,y_pred))\n",
    "\n",
    "## confusion matrix\n",
    "conf_mat = confusion_matrix(y_test, y_pred)\n",
    "sns.heatmap(conf_mat, annot=True,fmt=\"g\")\n",
    "plt.show()\n",
    "\n",
    "## ROC curve\n",
    "fpr, tpr, thresholds = roc_curve(y_test, y_pred)\n",
    "roc_auc = auc(fpr, tpr)\n",
    "display = RocCurveDisplay(fpr=fpr, tpr=tpr, roc_auc=roc_auc, estimator_name='ROC curve')\n",
    "display.plot()\n",
    "plt.show()\n",
    "\n"
   ]
  },
  {
   "cell_type": "markdown",
   "id": "26020161",
   "metadata": {
    "papermill": {
     "duration": 0.01708,
     "end_time": "2022-09-25T07:57:03.500304",
     "exception": false,
     "start_time": "2022-09-25T07:57:03.483224",
     "status": "completed"
    },
    "tags": []
   },
   "source": [
    "### **Logistic Regression**"
   ]
  },
  {
   "cell_type": "code",
   "execution_count": 26,
   "id": "edde1c95",
   "metadata": {
    "execution": {
     "iopub.execute_input": "2022-09-25T07:57:03.536754Z",
     "iopub.status.busy": "2022-09-25T07:57:03.536077Z",
     "iopub.status.idle": "2022-09-25T07:57:03.987626Z",
     "shell.execute_reply": "2022-09-25T07:57:03.986789Z"
    },
    "papermill": {
     "duration": 0.472247,
     "end_time": "2022-09-25T07:57:03.989857",
     "exception": false,
     "start_time": "2022-09-25T07:57:03.517610",
     "status": "completed"
    },
    "tags": []
   },
   "outputs": [
    {
     "name": "stdout",
     "output_type": "stream",
     "text": [
      "              precision    recall  f1-score   support\n",
      "\n",
      "           0       0.86      0.87      0.86      2004\n",
      "           1       0.87      0.85      0.86      1996\n",
      "\n",
      "    accuracy                           0.86      4000\n",
      "   macro avg       0.86      0.86      0.86      4000\n",
      "weighted avg       0.86      0.86      0.86      4000\n",
      "\n",
      "Model aniqligi: 0.863\n"
     ]
    },
    {
     "data": {
      "image/png": "[encoded data removed]",
      "text/plain": [
       "<Figure size 432x288 with 2 Axes>"
      ]
     },
     "metadata": {
      "needs_background": "light"
     },
     "output_type": "display_data"
    },
    {
     "data": {
      "image/png": "[encoded data removed]",
      "text/plain": [
       "<Figure size 432x288 with 1 Axes>"
      ]
     },
     "metadata": {
      "needs_background": "light"
     },
     "output_type": "display_data"
    }
   ],
   "source": [
    "# Modelni tuzamiz (training)\n",
    "LR_model = LogisticRegression()\n",
    "LR_model.fit(X_prepared, y)\n",
    "\n",
    "# Modelni baholaymiz\n",
    "y_pred = LR_model.predict(X_test_prepared)\n",
    "print(classification_report(y_test, y_pred))\n",
    "print(\"Model aniqligi:\", metrics.accuracy_score(y_test,y_pred))\n",
    "\n",
    "## confusion matrix\n",
    "conf_mat = metrics.confusion_matrix(y_test, y_pred)\n",
    "sns.heatmap(conf_mat, annot=True,fmt=\"g\")\n",
    "plt.show()\n",
    "\n",
    "## ROC curve\n",
    "fpr, tpr, thresholds = metrics.roc_curve(y_test, y_pred)\n",
    "roc_auc = metrics.auc(fpr, tpr)\n",
    "display = metrics.RocCurveDisplay(fpr=fpr, tpr=tpr, roc_auc=roc_auc, estimator_name='ROC curve')\n",
    "display.plot()\n",
    "plt.show()"
   ]
  },
  {
   "cell_type": "markdown",
   "id": "1711575e",
   "metadata": {
    "papermill": {
     "duration": 0.017469,
     "end_time": "2022-09-25T07:57:04.025472",
     "exception": false,
     "start_time": "2022-09-25T07:57:04.008003",
     "status": "completed"
    },
    "tags": []
   },
   "source": [
    "### **Support Vector Machines**"
   ]
  },
  {
   "cell_type": "code",
   "execution_count": 27,
   "id": "042ba733",
   "metadata": {
    "execution": {
     "iopub.execute_input": "2022-09-25T07:57:04.062514Z",
     "iopub.status.busy": "2022-09-25T07:57:04.061905Z",
     "iopub.status.idle": "2022-09-25T07:57:05.513603Z",
     "shell.execute_reply": "2022-09-25T07:57:05.512701Z"
    },
    "papermill": {
     "duration": 1.47291,
     "end_time": "2022-09-25T07:57:05.515814",
     "exception": false,
     "start_time": "2022-09-25T07:57:04.042904",
     "status": "completed"
    },
    "tags": []
   },
   "outputs": [
    {
     "name": "stdout",
     "output_type": "stream",
     "text": [
      "              precision    recall  f1-score   support\n",
      "\n",
      "           0       0.93      0.94      0.94      2004\n",
      "           1       0.94      0.93      0.93      1996\n",
      "\n",
      "    accuracy                           0.94      4000\n",
      "   macro avg       0.94      0.94      0.94      4000\n",
      "weighted avg       0.94      0.94      0.94      4000\n",
      "\n",
      "Model aniqligi: 0.9355\n"
     ]
    },
    {
     "data": {
      "image/png": "[encoded data removed]",
      "text/plain": [
       "<Figure size 432x288 with 2 Axes>"
      ]
     },
     "metadata": {
      "needs_background": "light"
     },
     "output_type": "display_data"
    },
    {
     "data": {
      "image/png": "[encoded data removed]",
      "text/plain": [
       "<Figure size 432x288 with 1 Axes>"
      ]
     },
     "metadata": {
      "needs_background": "light"
     },
     "output_type": "display_data"
    }
   ],
   "source": [
    "svm_model = SVC()\n",
    "svm_model.fit(X_prepared, y)\n",
    "\n",
    "# Modelni baholaymiz\n",
    "y_pred = svm_model.predict(X_test_prepared)\n",
    "print(classification_report(y_test, y_pred))\n",
    "print(\"Model aniqligi:\", accuracy_score(y_test,y_pred))\n",
    "\n",
    "## confusion matrix\n",
    "conf_mat = confusion_matrix(y_test, y_pred)\n",
    "sns.heatmap(conf_mat, annot=True,fmt=\"g\")\n",
    "plt.show()\n",
    "\n",
    "## ROC curve\n",
    "fpr, tpr, thresholds = metrics.roc_curve(y_test, y_pred)\n",
    "roc_auc = metrics.auc(fpr, tpr)\n",
    "display = metrics.RocCurveDisplay(fpr=fpr, tpr=tpr, roc_auc=roc_auc, estimator_name='ROC curve')\n",
    "display.plot()\n",
    "plt.show()"
   ]
  },
  {
   "cell_type": "markdown",
   "id": "c455f115",
   "metadata": {
    "papermill": {
     "duration": 0.018091,
     "end_time": "2022-09-25T07:57:05.552755",
     "exception": false,
     "start_time": "2022-09-25T07:57:05.534664",
     "status": "completed"
    },
    "tags": []
   },
   "source": [
    "### **Decision Tree**"
   ]
  },
  {
   "cell_type": "code",
   "execution_count": 28,
   "id": "2af09bac",
   "metadata": {
    "execution": {
     "iopub.execute_input": "2022-09-25T07:57:05.591898Z",
     "iopub.status.busy": "2022-09-25T07:57:05.591180Z",
     "iopub.status.idle": "2022-09-25T07:57:06.031021Z",
     "shell.execute_reply": "2022-09-25T07:57:06.030131Z"
    },
    "papermill": {
     "duration": 0.462182,
     "end_time": "2022-09-25T07:57:06.033296",
     "exception": false,
     "start_time": "2022-09-25T07:57:05.571114",
     "status": "completed"
    },
    "tags": []
   },
   "outputs": [
    {
     "name": "stdout",
     "output_type": "stream",
     "text": [
      "              precision    recall  f1-score   support\n",
      "\n",
      "           0       0.93      0.92      0.92      2004\n",
      "           1       0.92      0.93      0.92      1996\n",
      "\n",
      "    accuracy                           0.92      4000\n",
      "   macro avg       0.92      0.92      0.92      4000\n",
      "weighted avg       0.92      0.92      0.92      4000\n",
      "\n",
      "Model aniqligi: 0.9235\n"
     ]
    },
    {
     "data": {
      "image/png": "[encoded data removed]",
      "text/plain": [
       "<Figure size 432x288 with 2 Axes>"
      ]
     },
     "metadata": {
      "needs_background": "light"
     },
     "output_type": "display_data"
    },
    {
     "data": {
      "image/png": "[encoded data removed]",
      "text/plain": [
       "<Figure size 432x288 with 1 Axes>"
      ]
     },
     "metadata": {
      "needs_background": "light"
     },
     "output_type": "display_data"
    }
   ],
   "source": [
    "# Model tuzamiz (training)\n",
    "tree_model = DecisionTreeClassifier()\n",
    "tree_model.fit(X_prepared, y)\n",
    "\n",
    "# Modelni baholaymiz\n",
    "y_pred = tree_model.predict(X_test_prepared)\n",
    "print(classification_report(y_test, y_pred))\n",
    "print(\"Model aniqligi:\", accuracy_score(y_test,y_pred))\n",
    "\n",
    "## confusion matrix\n",
    "conf_mat = confusion_matrix(y_test, y_pred)\n",
    "sns.heatmap(conf_mat, annot=True,fmt=\"g\")\n",
    "plt.show()\n",
    "\n",
    "## ROC curve\n",
    "fpr, tpr, thresholds = roc_curve(y_test, y_pred)\n",
    "roc_auc = auc(fpr, tpr)\n",
    "display = RocCurveDisplay(fpr=fpr, tpr=tpr, roc_auc=roc_auc, estimator_name='ROC curve')\n",
    "display.plot()\n",
    "plt.show()"
   ]
  },
  {
   "cell_type": "markdown",
   "id": "9541cb1a",
   "metadata": {
    "papermill": {
     "duration": 0.018999,
     "end_time": "2022-09-25T07:57:06.071759",
     "exception": false,
     "start_time": "2022-09-25T07:57:06.052760",
     "status": "completed"
    },
    "tags": []
   },
   "source": [
    "### **Random Forest**"
   ]
  },
  {
   "cell_type": "code",
   "execution_count": 29,
   "id": "4d95d097",
   "metadata": {
    "execution": {
     "iopub.execute_input": "2022-09-25T07:57:06.112309Z",
     "iopub.status.busy": "2022-09-25T07:57:06.111908Z",
     "iopub.status.idle": "2022-09-25T07:57:06.742844Z",
     "shell.execute_reply": "2022-09-25T07:57:06.741657Z"
    },
    "papermill": {
     "duration": 0.654483,
     "end_time": "2022-09-25T07:57:06.745267",
     "exception": false,
     "start_time": "2022-09-25T07:57:06.090784",
     "status": "completed"
    },
    "tags": []
   },
   "outputs": [
    {
     "name": "stdout",
     "output_type": "stream",
     "text": [
      "              precision    recall  f1-score   support\n",
      "\n",
      "           0       0.93      0.94      0.93      2004\n",
      "           1       0.93      0.93      0.93      1996\n",
      "\n",
      "    accuracy                           0.93      4000\n",
      "   macro avg       0.93      0.93      0.93      4000\n",
      "weighted avg       0.93      0.93      0.93      4000\n",
      "\n",
      "Model aniqligi: 0.93175\n"
     ]
    },
    {
     "data": {
      "image/png": "[encoded data removed]",
      "text/plain": [
       "<Figure size 432x288 with 2 Axes>"
      ]
     },
     "metadata": {
      "needs_background": "light"
     },
     "output_type": "display_data"
    },
    {
     "data": {
      "image/png": "[encoded data removed]",
      "text/plain": [
       "<Figure size 432x288 with 1 Axes>"
      ]
     },
     "metadata": {
      "needs_background": "light"
     },
     "output_type": "display_data"
    }
   ],
   "source": [
    "# Modelni tuzamiz (training)\n",
    "RF_model = RandomForestClassifier(n_estimators=9)\n",
    "RF_model.fit(X_prepared, y)\n",
    "\n",
    "# Modelni baholaymiz\n",
    "y_pred = RF_model.predict(X_test_prepared)\n",
    "print(classification_report(y_test, y_pred))\n",
    "print(\"Model aniqligi:\", accuracy_score(y_test,y_pred))\n",
    "\n",
    "## confusion matrix\n",
    "conf_mat = confusion_matrix(y_test, y_pred)\n",
    "sns.heatmap(conf_mat, annot=True,fmt=\"g\")\n",
    "plt.show()\n",
    "\n",
    "## ROC curve\n",
    "fpr, tpr, thresholds = roc_curve(y_test, y_pred)\n",
    "roc_auc = auc(fpr, tpr)\n",
    "display = RocCurveDisplay(fpr=fpr, tpr=tpr, roc_auc=roc_auc, estimator_name='ROC curve')\n",
    "display.plot()\n",
    "plt.show()"
   ]
  },
  {
   "cell_type": "markdown",
   "id": "647c1233",
   "metadata": {
    "papermill": {
     "duration": 0.01949,
     "end_time": "2022-09-25T07:57:06.784340",
     "exception": false,
     "start_time": "2022-09-25T07:57:06.764850",
     "status": "completed"
    },
    "tags": []
   },
   "source": [
    "### **Navie Bayes**"
   ]
  },
  {
   "cell_type": "code",
   "execution_count": 30,
   "id": "b7322339",
   "metadata": {
    "execution": {
     "iopub.execute_input": "2022-09-25T07:57:06.827636Z",
     "iopub.status.busy": "2022-09-25T07:57:06.826427Z",
     "iopub.status.idle": "2022-09-25T07:57:07.141517Z",
     "shell.execute_reply": "2022-09-25T07:57:07.140367Z"
    },
    "papermill": {
     "duration": 0.3396,
     "end_time": "2022-09-25T07:57:07.144233",
     "exception": false,
     "start_time": "2022-09-25T07:57:06.804633",
     "status": "completed"
    },
    "tags": []
   },
   "outputs": [
    {
     "name": "stdout",
     "output_type": "stream",
     "text": [
      "              precision    recall  f1-score   support\n",
      "\n",
      "           0       0.84      0.89      0.86      2004\n",
      "           1       0.88      0.83      0.85      1996\n",
      "\n",
      "    accuracy                           0.86      4000\n",
      "   macro avg       0.86      0.86      0.86      4000\n",
      "weighted avg       0.86      0.86      0.86      4000\n",
      "\n",
      "Model aniqligi: 0.85625\n"
     ]
    },
    {
     "data": {
      "image/png": "[encoded data removed]",
      "text/plain": [
       "<Figure size 432x288 with 2 Axes>"
      ]
     },
     "metadata": {
      "needs_background": "light"
     },
     "output_type": "display_data"
    },
    {
     "data": {
      "image/png": "[encoded data removed]",
      "text/plain": [
       "<Figure size 432x288 with 1 Axes>"
      ]
     },
     "metadata": {
      "needs_background": "light"
     },
     "output_type": "display_data"
    }
   ],
   "source": [
    "# Modelni tuzamiz\n",
    "nb_model = GaussianNB()\n",
    "nb_model.fit(X_prepared,y)\n",
    "\n",
    "# Modelni baholaymiz\n",
    "y_pred = nb_model.predict(X_test_prepared)\n",
    "print(classification_report(y_test, y_pred))\n",
    "print(\"Model aniqligi:\", accuracy_score(y_test,y_pred))\n",
    "\n",
    "## confusion matrix\n",
    "conf_mat = confusion_matrix(y_test, y_pred)\n",
    "sns.heatmap(conf_mat, annot=True,fmt=\"g\")\n",
    "plt.show()\n",
    "\n",
    "## ROC curve\n",
    "fpr, tpr, thresholds = roc_curve(y_test, y_pred)\n",
    "roc_auc = auc(fpr, tpr)\n",
    "display = RocCurveDisplay(fpr=fpr, tpr=tpr, roc_auc=roc_auc, estimator_name='ROC curve')\n",
    "display.plot()\n",
    "plt.show()"
   ]
  },
  {
   "cell_type": "markdown",
   "id": "5ed660f5",
   "metadata": {
    "papermill": {
     "duration": 0.020672,
     "end_time": "2022-09-25T07:57:07.187889",
     "exception": false,
     "start_time": "2022-09-25T07:57:07.167217",
     "status": "completed"
    },
    "tags": []
   },
   "source": [
    "### **XGBoost**"
   ]
  },
  {
   "cell_type": "code",
   "execution_count": 31,
   "id": "3c5caca6",
   "metadata": {
    "execution": {
     "iopub.execute_input": "2022-09-25T07:57:07.229932Z",
     "iopub.status.busy": "2022-09-25T07:57:07.229531Z",
     "iopub.status.idle": "2022-09-25T07:57:08.363847Z",
     "shell.execute_reply": "2022-09-25T07:57:08.362721Z"
    },
    "papermill": {
     "duration": 1.157976,
     "end_time": "2022-09-25T07:57:08.366140",
     "exception": false,
     "start_time": "2022-09-25T07:57:07.208164",
     "status": "completed"
    },
    "tags": []
   },
   "outputs": [
    {
     "name": "stdout",
     "output_type": "stream",
     "text": [
      "              precision    recall  f1-score   support\n",
      "\n",
      "           0       0.95      0.95      0.95      2004\n",
      "           1       0.95      0.95      0.95      1996\n",
      "\n",
      "    accuracy                           0.95      4000\n",
      "   macro avg       0.95      0.95      0.95      4000\n",
      "weighted avg       0.95      0.95      0.95      4000\n",
      "\n",
      "Model aniqligi: 0.94975\n"
     ]
    },
    {
     "data": {
      "image/png": "[encoded data removed]",
      "text/plain": [
       "<Figure size 432x288 with 2 Axes>"
      ]
     },
     "metadata": {
      "needs_background": "light"
     },
     "output_type": "display_data"
    },
    {
     "data": {
      "image/png": "[encoded data removed]",
      "text/plain": [
       "<Figure size 432x288 with 1 Axes>"
      ]
     },
     "metadata": {
      "needs_background": "light"
     },
     "output_type": "display_data"
    }
   ],
   "source": [
    "# Model tuzamiz (training)\n",
    "xgb_model = XGBClassifier()\n",
    "xgb_model.fit(X_prepared, y)\n",
    "\n",
    "# Modelni baholaymiz\n",
    "y_pred = xgb_model.predict(X_test_prepared)\n",
    "print(classification_report(y_test, y_pred))\n",
    "print(\"Model aniqligi:\", accuracy_score(y_test,y_pred))\n",
    "\n",
    "## confusion matrix\n",
    "conf_mat = confusion_matrix(y_test, y_pred)\n",
    "sns.heatmap(conf_mat, annot=True,fmt=\"g\")\n",
    "plt.show()\n",
    "\n",
    "## ROC curve\n",
    "fpr, tpr, thresholds = roc_curve(y_test, y_pred)\n",
    "roc_auc = auc(fpr, tpr)\n",
    "display = RocCurveDisplay(fpr=fpr, tpr=tpr, roc_auc=roc_auc, estimator_name='ROC curve')\n",
    "display.plot()\n",
    "plt.show()"
   ]
  },
  {
   "cell_type": "markdown",
   "id": "69fa463c",
   "metadata": {
    "papermill": {
     "duration": 0.020498,
     "end_time": "2022-09-25T07:57:08.407820",
     "exception": false,
     "start_time": "2022-09-25T07:57:08.387322",
     "status": "completed"
    },
    "tags": []
   },
   "source": [
    "### **Baholash**"
   ]
  },
  {
   "cell_type": "markdown",
   "id": "654fa016",
   "metadata": {
    "papermill": {
     "duration": 0.020302,
     "end_time": "2022-09-25T07:57:08.448686",
     "exception": false,
     "start_time": "2022-09-25T07:57:08.428384",
     "status": "completed"
    },
    "tags": []
   },
   "source": [
    "### **Jaccard index**"
   ]
  },
  {
   "cell_type": "code",
   "execution_count": 32,
   "id": "656b4820",
   "metadata": {
    "execution": {
     "iopub.execute_input": "2022-09-25T07:57:08.492594Z",
     "iopub.status.busy": "2022-09-25T07:57:08.491306Z",
     "iopub.status.idle": "2022-09-25T07:57:08.501613Z",
     "shell.execute_reply": "2022-09-25T07:57:08.500724Z"
    },
    "papermill": {
     "duration": 0.034635,
     "end_time": "2022-09-25T07:57:08.503819",
     "exception": false,
     "start_time": "2022-09-25T07:57:08.469184",
     "status": "completed"
    },
    "tags": []
   },
   "outputs": [
    {
     "data": {
      "text/plain": [
       "0.816452686638136"
      ]
     },
     "execution_count": 32,
     "metadata": {},
     "output_type": "execute_result"
    }
   ],
   "source": [
    "jaccard_score(y_test, y_predict)"
   ]
  },
  {
   "cell_type": "markdown",
   "id": "33eb6624",
   "metadata": {
    "papermill": {
     "duration": 0.020449,
     "end_time": "2022-09-25T07:57:08.545061",
     "exception": false,
     "start_time": "2022-09-25T07:57:08.524612",
     "status": "completed"
    },
    "tags": []
   },
   "source": [
    "### **Confusion matrix**"
   ]
  },
  {
   "cell_type": "code",
   "execution_count": 33,
   "id": "534a7664",
   "metadata": {
    "execution": {
     "iopub.execute_input": "2022-09-25T07:57:08.588903Z",
     "iopub.status.busy": "2022-09-25T07:57:08.587880Z",
     "iopub.status.idle": "2022-09-25T07:57:08.806783Z",
     "shell.execute_reply": "2022-09-25T07:57:08.805589Z"
    },
    "papermill": {
     "duration": 0.243613,
     "end_time": "2022-09-25T07:57:08.809472",
     "exception": false,
     "start_time": "2022-09-25T07:57:08.565859",
     "status": "completed"
    },
    "tags": []
   },
   "outputs": [
    {
     "name": "stdout",
     "output_type": "stream",
     "text": [
      "Model aniqligi: 0.9035\n"
     ]
    },
    {
     "data": {
      "image/png": "[encoded data removed]",
      "text/plain": [
       "<Figure size 432x288 with 2 Axes>"
      ]
     },
     "metadata": {
      "needs_background": "light"
     },
     "output_type": "display_data"
    }
   ],
   "source": [
    "sns.heatmap(confusion_matrix(y_test,y_predict), annot=True)\n",
    "print(\"Model aniqligi:\", accuracy_score(y_test,y_predict))\n",
    "plt.show()"
   ]
  },
  {
   "cell_type": "markdown",
   "id": "621584b5",
   "metadata": {
    "papermill": {
     "duration": 0.020686,
     "end_time": "2022-09-25T07:57:08.851951",
     "exception": false,
     "start_time": "2022-09-25T07:57:08.831265",
     "status": "completed"
    },
    "tags": []
   },
   "source": [
    "### **Precision, recall, F1**"
   ]
  },
  {
   "cell_type": "code",
   "execution_count": 34,
   "id": "b9f244ca",
   "metadata": {
    "execution": {
     "iopub.execute_input": "2022-09-25T07:57:08.895984Z",
     "iopub.status.busy": "2022-09-25T07:57:08.895551Z",
     "iopub.status.idle": "2022-09-25T07:57:08.912096Z",
     "shell.execute_reply": "2022-09-25T07:57:08.910550Z"
    },
    "papermill": {
     "duration": 0.04141,
     "end_time": "2022-09-25T07:57:08.914501",
     "exception": false,
     "start_time": "2022-09-25T07:57:08.873091",
     "status": "completed"
    },
    "tags": []
   },
   "outputs": [
    {
     "name": "stdout",
     "output_type": "stream",
     "text": [
      "precision: 0.9413377192982456\n",
      "recall: 0.8602204408817635\n",
      "f1: 0.8989528795811518\n",
      "accuracy: 0.9035\n"
     ]
    }
   ],
   "source": [
    "precision = precision_score(y_test,y_predict)\n",
    "recall = recall_score(y_test,y_predict)\n",
    "f1 = f1_score(y_test,y_predict)\n",
    "accuracy = accuracy_score(y_test,y_predict)\n",
    "print('precision:',precision)\n",
    "print('recall:',recall)\n",
    "print('f1:',f1)\n",
    "print('accuracy:',accuracy)"
   ]
  },
  {
   "cell_type": "code",
   "execution_count": 35,
   "id": "fe6a5a31",
   "metadata": {
    "execution": {
     "iopub.execute_input": "2022-09-25T07:57:08.958365Z",
     "iopub.status.busy": "2022-09-25T07:57:08.957978Z",
     "iopub.status.idle": "2022-09-25T07:57:08.975132Z",
     "shell.execute_reply": "2022-09-25T07:57:08.973722Z"
    },
    "papermill": {
     "duration": 0.041921,
     "end_time": "2022-09-25T07:57:08.977634",
     "exception": false,
     "start_time": "2022-09-25T07:57:08.935713",
     "status": "completed"
    },
    "tags": []
   },
   "outputs": [
    {
     "name": "stdout",
     "output_type": "stream",
     "text": [
      "              precision    recall  f1-score   support\n",
      "\n",
      "           0       0.87      0.95      0.91      2004\n",
      "           1       0.94      0.86      0.90      1996\n",
      "\n",
      "    accuracy                           0.90      4000\n",
      "   macro avg       0.91      0.90      0.90      4000\n",
      "weighted avg       0.91      0.90      0.90      4000\n",
      "\n"
     ]
    }
   ],
   "source": [
    "print(classification_report(y_test,y_predict))"
   ]
  },
  {
   "cell_type": "markdown",
   "id": "1371144b",
   "metadata": {
    "papermill": {
     "duration": 0.021166,
     "end_time": "2022-09-25T07:57:09.020235",
     "exception": false,
     "start_time": "2022-09-25T07:57:08.999069",
     "status": "completed"
    },
    "tags": []
   },
   "source": [
    "### **Cross-validation yordamida tekshiramiz**"
   ]
  },
  {
   "cell_type": "code",
   "execution_count": 36,
   "id": "ec71eec7",
   "metadata": {
    "execution": {
     "iopub.execute_input": "2022-09-25T07:57:09.064781Z",
     "iopub.status.busy": "2022-09-25T07:57:09.064280Z",
     "iopub.status.idle": "2022-09-25T07:57:09.643255Z",
     "shell.execute_reply": "2022-09-25T07:57:09.642029Z"
    },
    "papermill": {
     "duration": 0.605885,
     "end_time": "2022-09-25T07:57:09.647607",
     "exception": false,
     "start_time": "2022-09-25T07:57:09.041722",
     "status": "completed"
    },
    "tags": []
   },
   "outputs": [
    {
     "name": "stdout",
     "output_type": "stream",
     "text": [
      "Model aniqligi: 0.94975\n",
      "Classification Report: \n",
      "               precision    recall  f1-score   support\n",
      "\n",
      "           0       0.87      0.94      0.90      2004\n",
      "           1       0.94      0.85      0.89      1996\n",
      "\n",
      "    accuracy                           0.90      4000\n",
      "   macro avg       0.90      0.90      0.90      4000\n",
      "weighted avg       0.90      0.90      0.90      4000\n",
      "\n"
     ]
    }
   ],
   "source": [
    "# Cross validation\n",
    "from sklearn.model_selection import cross_val_predict\n",
    "predict = cross_val_predict(estimator = knn, X = X_test_prepared, y = y_test, cv = 5)\n",
    "\n",
    "\n",
    "#Modelni baholash\n",
    "print(\"Model aniqligi:\", accuracy_score(y_test,y_pred))\n",
    "print('Classification Report: \\n', classification_report(y_test, predict))"
   ]
  },
  {
   "cell_type": "markdown",
   "id": "1f50fdc6",
   "metadata": {
    "papermill": {
     "duration": 0.021199,
     "end_time": "2022-09-25T07:57:09.691429",
     "exception": false,
     "start_time": "2022-09-25T07:57:09.670230",
     "status": "completed"
    },
    "tags": []
   },
   "source": [
    "### **Eng yaxshi model**"
   ]
  },
  {
   "cell_type": "markdown",
   "id": "b7cf0d9e",
   "metadata": {
    "papermill": {
     "duration": 0.021102,
     "end_time": "2022-09-25T07:57:09.733766",
     "exception": false,
     "start_time": "2022-09-25T07:57:09.712664",
     "status": "completed"
    },
    "tags": []
   },
   "source": [
    "### **XGBoost**"
   ]
  },
  {
   "cell_type": "code",
   "execution_count": 37,
   "id": "79ef3147",
   "metadata": {
    "execution": {
     "iopub.execute_input": "2022-09-25T07:57:09.778385Z",
     "iopub.status.busy": "2022-09-25T07:57:09.777585Z",
     "iopub.status.idle": "2022-09-25T07:57:10.944586Z",
     "shell.execute_reply": "2022-09-25T07:57:10.943699Z"
    },
    "papermill": {
     "duration": 1.191854,
     "end_time": "2022-09-25T07:57:10.946859",
     "exception": false,
     "start_time": "2022-09-25T07:57:09.755005",
     "status": "completed"
    },
    "tags": []
   },
   "outputs": [
    {
     "name": "stdout",
     "output_type": "stream",
     "text": [
      "              precision    recall  f1-score   support\n",
      "\n",
      "           0       0.50      0.50      0.50      2004\n",
      "           1       0.49      0.49      0.49      1996\n",
      "\n",
      "    accuracy                           0.49      4000\n",
      "   macro avg       0.49      0.49      0.49      4000\n",
      "weighted avg       0.49      0.49      0.49      4000\n",
      "\n",
      "Model aniqligi: 0.494\n"
     ]
    },
    {
     "data": {
      "image/png": "[encoded data removed]",
      "text/plain": [
       "<Figure size 432x288 with 2 Axes>"
      ]
     },
     "metadata": {
      "needs_background": "light"
     },
     "output_type": "display_data"
    },
    {
     "data": {
      "image/png": "[encoded data removed]",
      "text/plain": [
       "<Figure size 432x288 with 1 Axes>"
      ]
     },
     "metadata": {
      "needs_background": "light"
     },
     "output_type": "display_data"
    }
   ],
   "source": [
    "# Modelni tuzamiz (training)\n",
    "xgb_model = XGBClassifier()\n",
    "xgb_model.fit(X_prepared, y)\n",
    "\n",
    "# Modelni baholaymiz\n",
    "X_test_prepared = pipeline.fit_transform(df2)\n",
    "y_pred_xgb = xgb_model.predict(X_test_prepared)\n",
    "print(classification_report(y_test, y_pred_xgb))\n",
    "print(\"Model aniqligi:\", accuracy_score(y_test,y_pred_xgb))\n",
    "\n",
    "## confusion matrix\n",
    "conf_mat = confusion_matrix(y_test, y_pred_xgb)\n",
    "sns.heatmap(conf_mat, annot=True,fmt=\"g\")\n",
    "plt.show()\n",
    "\n",
    "## ROC curve\n",
    "fpr, tpr, thresholds = roc_curve(y_test, y_pred_xgb)\n",
    "roc_auc = auc(fpr, tpr)\n",
    "display = RocCurveDisplay(fpr=fpr, tpr=tpr, roc_auc=roc_auc, estimator_name='ROC curve')\n",
    "display.plot()\n",
    "plt.show()"
   ]
  },
  {
   "cell_type": "code",
   "execution_count": 38,
   "id": "586eea01",
   "metadata": {
    "execution": {
     "iopub.execute_input": "2022-09-25T07:57:10.992569Z",
     "iopub.status.busy": "2022-09-25T07:57:10.992164Z",
     "iopub.status.idle": "2022-09-25T07:57:11.012604Z",
     "shell.execute_reply": "2022-09-25T07:57:11.011805Z"
    },
    "papermill": {
     "duration": 0.045867,
     "end_time": "2022-09-25T07:57:11.014859",
     "exception": false,
     "start_time": "2022-09-25T07:57:10.968992",
     "status": "completed"
    },
    "tags": []
   },
   "outputs": [
    {
     "data": {
      "text/html": [
       "<div>\n",
       "<style scoped>\n",
       "    .dataframe tbody tr th:only-of-type {\n",
       "        vertical-align: middle;\n",
       "    }\n",
       "\n",
       "    .dataframe tbody tr th {\n",
       "        vertical-align: top;\n",
       "    }\n",
       "\n",
       "    .dataframe thead th {\n",
       "        text-align: right;\n",
       "    }\n",
       "</style>\n",
       "<table border=\"1\" class=\"dataframe\">\n",
       "  <thead>\n",
       "    <tr style=\"text-align: right;\">\n",
       "      <th></th>\n",
       "      <th>id</th>\n",
       "      <th>satisfaction</th>\n",
       "    </tr>\n",
       "  </thead>\n",
       "  <tbody>\n",
       "    <tr>\n",
       "      <th>0</th>\n",
       "      <td>1</td>\n",
       "      <td>0</td>\n",
       "    </tr>\n",
       "    <tr>\n",
       "      <th>1</th>\n",
       "      <td>2</td>\n",
       "      <td>1</td>\n",
       "    </tr>\n",
       "    <tr>\n",
       "      <th>2</th>\n",
       "      <td>3</td>\n",
       "      <td>1</td>\n",
       "    </tr>\n",
       "    <tr>\n",
       "      <th>3</th>\n",
       "      <td>4</td>\n",
       "      <td>1</td>\n",
       "    </tr>\n",
       "    <tr>\n",
       "      <th>4</th>\n",
       "      <td>5</td>\n",
       "      <td>0</td>\n",
       "    </tr>\n",
       "    <tr>\n",
       "      <th>...</th>\n",
       "      <td>...</td>\n",
       "      <td>...</td>\n",
       "    </tr>\n",
       "    <tr>\n",
       "      <th>3995</th>\n",
       "      <td>3996</td>\n",
       "      <td>1</td>\n",
       "    </tr>\n",
       "    <tr>\n",
       "      <th>3996</th>\n",
       "      <td>3997</td>\n",
       "      <td>0</td>\n",
       "    </tr>\n",
       "    <tr>\n",
       "      <th>3997</th>\n",
       "      <td>3998</td>\n",
       "      <td>0</td>\n",
       "    </tr>\n",
       "    <tr>\n",
       "      <th>3998</th>\n",
       "      <td>3999</td>\n",
       "      <td>1</td>\n",
       "    </tr>\n",
       "    <tr>\n",
       "      <th>3999</th>\n",
       "      <td>4000</td>\n",
       "      <td>0</td>\n",
       "    </tr>\n",
       "  </tbody>\n",
       "</table>\n",
       "<p>4000 rows × 2 columns</p>\n",
       "</div>"
      ],
      "text/plain": [
       "        id  satisfaction\n",
       "0        1             0\n",
       "1        2             1\n",
       "2        3             1\n",
       "3        4             1\n",
       "4        5             0\n",
       "...    ...           ...\n",
       "3995  3996             1\n",
       "3996  3997             0\n",
       "3997  3998             0\n",
       "3998  3999             1\n",
       "3999  4000             0\n",
       "\n",
       "[4000 rows x 2 columns]"
      ]
     },
     "execution_count": 38,
     "metadata": {},
     "output_type": "execute_result"
    }
   ],
   "source": [
    "sample_submission['satisfaction'] = y_pred_xgb\n",
    "sample_submission.to_csv(\"submission.csv\", index=False)\n",
    "\n",
    "pd.read_csv('submission.csv')"
   ]
  },
  {
   "cell_type": "code",
   "execution_count": null,
   "id": "6161e6f9",
   "metadata": {
    "papermill": {
     "duration": 0.021998,
     "end_time": "2022-09-25T07:57:11.059152",
     "exception": false,
     "start_time": "2022-09-25T07:57:11.037154",
     "status": "completed"
    },
    "tags": []
   },
   "outputs": [],
   "source": []
  }
 ],
 "metadata": {
  "kernelspec": {
   "display_name": "Python 3",
   "language": "python",
   "name": "python3"
  },
  "language_info": {
   "codemirror_mode": {
    "name": "ipython",
    "version": 3
   },
   "file_extension": ".py",
   "mimetype": "text/x-python",
   "name": "python",
   "nbconvert_exporter": "python",
   "pygments_lexer": "ipython3",
   "version": "3.7.12"
  },
  "papermill": {
   "default_parameters": {},
   "duration": 94.219658,
   "end_time": "2022-09-25T07:57:11.803262",
   "environment_variables": {},
   "exception": null,
   "input_path": "__notebook__.ipynb",
   "output_path": "__notebook__.ipynb",
   "parameters": {},
   "start_time": "2022-09-25T07:55:37.583604",
   "version": "2.3.4"
  }
 },
 "nbformat": 4,
 "nbformat_minor": 5
}
