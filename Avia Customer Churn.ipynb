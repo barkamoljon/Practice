{
 "cells": [
  {
   "cell_type": "code",
   "execution_count": 1,
   "id": "8e23b51d",
   "metadata": {
    "_cell_guid": "b1076dfc-b9ad-4769-8c92-a6c4dae69d19",
    "_uuid": "8f2839f25d086af736a60e9eeb907d3b93b6e0e5",
    "execution": {
     "iopub.execute_input": "2022-09-25T08:40:00.734584Z",
     "iopub.status.busy": "2022-09-25T08:40:00.734003Z",
     "iopub.status.idle": "2022-09-25T08:40:02.555843Z",
     "shell.execute_reply": "2022-09-25T08:40:02.554442Z"
    },
    "papermill": {
     "duration": 1.840652,
     "end_time": "2022-09-25T08:40:02.559029",
     "exception": false,
     "start_time": "2022-09-25T08:40:00.718377",
     "status": "completed"
    },
    "tags": []
   },
   "outputs": [
    {
     "name": "stdout",
     "output_type": "stream",
     "text": [
      "/kaggle/input/aviakompaniya/sample_submission.csv\n",
      "/kaggle/input/aviakompaniya/train_dataset.csv\n",
      "/kaggle/input/aviakompaniya/test_dataset.csv\n"
     ]
    }
   ],
   "source": [
    "# This Python 3 environment comes with many helpful analytics libraries installed\n",
    "# It is defined by the kaggle/python Docker image: https://github.com/kaggle/docker-python\n",
    "# For example, here's several helpful packages to load\n",
    "\n",
    "import numpy as np # linear algebra\n",
    "import pandas as pd # data processing, CSV file I/O (e.g. pd.read_csv)\n",
    "import matplotlib.pyplot as plt\n",
    "import seaborn as sns\n",
    "\n",
    "from sklearn.preprocessing import StandardScaler\n",
    "from sklearn.model_selection import train_test_split\n",
    "\n",
    "from sklearn.linear_model import LogisticRegression\n",
    "from sklearn.tree import DecisionTreeClassifier, plot_tree\n",
    "from sklearn.ensemble import RandomForestClassifier\n",
    "from sklearn.svm import SVC\n",
    "from xgboost import XGBClassifier\n",
    "from sklearn.naive_bayes import GaussianNB\n",
    "from sklearn.neighbors import KNeighborsClassifier\n",
    "\n",
    "from sklearn.pipeline import Pipeline\n",
    "from sklearn import metrics\n",
    "\n",
    "from sklearn.metrics import classification_report\n",
    "from sklearn.metrics import confusion_matrix\n",
    "from sklearn.metrics import precision_score, recall_score, f1_score, accuracy_score\n",
    "from sklearn.metrics import jaccard_score\n",
    "from sklearn.metrics import roc_curve, roc_auc_score,auc,RocCurveDisplay\n",
    "\n",
    "# Input data files are available in the read-only \"../input/\" directory\n",
    "# For example, running this (by clicking run or pressing Shift+Enter) will list all files under the input directory\n",
    "\n",
    "import os\n",
    "for dirname, _, filenames in os.walk('/kaggle/input'):\n",
    "    for filename in filenames:\n",
    "        print(os.path.join(dirname, filename))\n",
    "\n",
    "# You can write up to 20GB to the current directory (/kaggle/working/) that gets preserved as output when you create a version using \"Save & Run All\" \n",
    "# You can also write temporary files to /kaggle/temp/, but they won't be saved outside of the current session"
   ]
  },
  {
   "cell_type": "code",
   "execution_count": 2,
   "id": "f4a57142",
   "metadata": {
    "execution": {
     "iopub.execute_input": "2022-09-25T08:40:02.586313Z",
     "iopub.status.busy": "2022-09-25T08:40:02.585474Z",
     "iopub.status.idle": "2022-09-25T08:40:02.713394Z",
     "shell.execute_reply": "2022-09-25T08:40:02.712053Z"
    },
    "papermill": {
     "duration": 0.144163,
     "end_time": "2022-09-25T08:40:02.715957",
     "exception": false,
     "start_time": "2022-09-25T08:40:02.571794",
     "status": "completed"
    },
    "tags": []
   },
   "outputs": [
    {
     "data": {
      "text/html": [
       "<div>\n",
       "<style scoped>\n",
       "    .dataframe tbody tr th:only-of-type {\n",
       "        vertical-align: middle;\n",
       "    }\n",
       "\n",
       "    .dataframe tbody tr th {\n",
       "        vertical-align: top;\n",
       "    }\n",
       "\n",
       "    .dataframe thead th {\n",
       "        text-align: right;\n",
       "    }\n",
       "</style>\n",
       "<table border=\"1\" class=\"dataframe\">\n",
       "  <thead>\n",
       "    <tr style=\"text-align: right;\">\n",
       "      <th></th>\n",
       "      <th>id</th>\n",
       "      <th>Gender</th>\n",
       "      <th>Customer Type</th>\n",
       "      <th>Age</th>\n",
       "      <th>Type of Travel</th>\n",
       "      <th>Class</th>\n",
       "      <th>Flight Distance</th>\n",
       "      <th>Inflight wifi service</th>\n",
       "      <th>Departure/Arrival time convenient</th>\n",
       "      <th>Ease of Online booking</th>\n",
       "      <th>...</th>\n",
       "      <th>Inflight entertainment</th>\n",
       "      <th>On-board service</th>\n",
       "      <th>Leg room service</th>\n",
       "      <th>Baggage handling</th>\n",
       "      <th>Checkin service</th>\n",
       "      <th>Inflight service</th>\n",
       "      <th>Cleanliness</th>\n",
       "      <th>Departure Delay in Minutes</th>\n",
       "      <th>Arrival Delay in Minutes</th>\n",
       "      <th>satisfaction</th>\n",
       "    </tr>\n",
       "  </thead>\n",
       "  <tbody>\n",
       "    <tr>\n",
       "      <th>0</th>\n",
       "      <td>1</td>\n",
       "      <td>Male</td>\n",
       "      <td>disloyal Customer</td>\n",
       "      <td>33</td>\n",
       "      <td>Business travel</td>\n",
       "      <td>Eco</td>\n",
       "      <td>571</td>\n",
       "      <td>2</td>\n",
       "      <td>3</td>\n",
       "      <td>2</td>\n",
       "      <td>...</td>\n",
       "      <td>4</td>\n",
       "      <td>3</td>\n",
       "      <td>1</td>\n",
       "      <td>3</td>\n",
       "      <td>4</td>\n",
       "      <td>3</td>\n",
       "      <td>4</td>\n",
       "      <td>10</td>\n",
       "      <td>3.0</td>\n",
       "      <td>0</td>\n",
       "    </tr>\n",
       "    <tr>\n",
       "      <th>1</th>\n",
       "      <td>2</td>\n",
       "      <td>Female</td>\n",
       "      <td>Loyal Customer</td>\n",
       "      <td>49</td>\n",
       "      <td>Business travel</td>\n",
       "      <td>Business</td>\n",
       "      <td>1431</td>\n",
       "      <td>4</td>\n",
       "      <td>1</td>\n",
       "      <td>4</td>\n",
       "      <td>...</td>\n",
       "      <td>5</td>\n",
       "      <td>5</td>\n",
       "      <td>5</td>\n",
       "      <td>5</td>\n",
       "      <td>3</td>\n",
       "      <td>5</td>\n",
       "      <td>3</td>\n",
       "      <td>0</td>\n",
       "      <td>0.0</td>\n",
       "      <td>1</td>\n",
       "    </tr>\n",
       "    <tr>\n",
       "      <th>2</th>\n",
       "      <td>3</td>\n",
       "      <td>Female</td>\n",
       "      <td>Loyal Customer</td>\n",
       "      <td>43</td>\n",
       "      <td>Business travel</td>\n",
       "      <td>Eco</td>\n",
       "      <td>867</td>\n",
       "      <td>1</td>\n",
       "      <td>4</td>\n",
       "      <td>4</td>\n",
       "      <td>...</td>\n",
       "      <td>1</td>\n",
       "      <td>1</td>\n",
       "      <td>1</td>\n",
       "      <td>1</td>\n",
       "      <td>1</td>\n",
       "      <td>1</td>\n",
       "      <td>2</td>\n",
       "      <td>0</td>\n",
       "      <td>18.0</td>\n",
       "      <td>0</td>\n",
       "    </tr>\n",
       "    <tr>\n",
       "      <th>3</th>\n",
       "      <td>4</td>\n",
       "      <td>Female</td>\n",
       "      <td>Loyal Customer</td>\n",
       "      <td>27</td>\n",
       "      <td>Business travel</td>\n",
       "      <td>Business</td>\n",
       "      <td>1550</td>\n",
       "      <td>3</td>\n",
       "      <td>3</td>\n",
       "      <td>3</td>\n",
       "      <td>...</td>\n",
       "      <td>2</td>\n",
       "      <td>4</td>\n",
       "      <td>4</td>\n",
       "      <td>5</td>\n",
       "      <td>5</td>\n",
       "      <td>4</td>\n",
       "      <td>2</td>\n",
       "      <td>0</td>\n",
       "      <td>0.0</td>\n",
       "      <td>1</td>\n",
       "    </tr>\n",
       "    <tr>\n",
       "      <th>4</th>\n",
       "      <td>5</td>\n",
       "      <td>Male</td>\n",
       "      <td>Loyal Customer</td>\n",
       "      <td>11</td>\n",
       "      <td>Personal Travel</td>\n",
       "      <td>Eco</td>\n",
       "      <td>526</td>\n",
       "      <td>3</td>\n",
       "      <td>4</td>\n",
       "      <td>3</td>\n",
       "      <td>...</td>\n",
       "      <td>4</td>\n",
       "      <td>5</td>\n",
       "      <td>2</td>\n",
       "      <td>5</td>\n",
       "      <td>3</td>\n",
       "      <td>5</td>\n",
       "      <td>4</td>\n",
       "      <td>0</td>\n",
       "      <td>10.0</td>\n",
       "      <td>0</td>\n",
       "    </tr>\n",
       "  </tbody>\n",
       "</table>\n",
       "<p>5 rows × 24 columns</p>\n",
       "</div>"
      ],
      "text/plain": [
       "   id  Gender      Customer Type  Age   Type of Travel     Class  \\\n",
       "0   1    Male  disloyal Customer   33  Business travel       Eco   \n",
       "1   2  Female     Loyal Customer   49  Business travel  Business   \n",
       "2   3  Female     Loyal Customer   43  Business travel       Eco   \n",
       "3   4  Female     Loyal Customer   27  Business travel  Business   \n",
       "4   5    Male     Loyal Customer   11  Personal Travel       Eco   \n",
       "\n",
       "   Flight Distance  Inflight wifi service  Departure/Arrival time convenient  \\\n",
       "0              571                      2                                  3   \n",
       "1             1431                      4                                  1   \n",
       "2              867                      1                                  4   \n",
       "3             1550                      3                                  3   \n",
       "4              526                      3                                  4   \n",
       "\n",
       "   Ease of Online booking  ...  Inflight entertainment  On-board service  \\\n",
       "0                       2  ...                       4                 3   \n",
       "1                       4  ...                       5                 5   \n",
       "2                       4  ...                       1                 1   \n",
       "3                       3  ...                       2                 4   \n",
       "4                       3  ...                       4                 5   \n",
       "\n",
       "   Leg room service  Baggage handling  Checkin service  Inflight service  \\\n",
       "0                 1                 3                4                 3   \n",
       "1                 5                 5                3                 5   \n",
       "2                 1                 1                1                 1   \n",
       "3                 4                 5                5                 4   \n",
       "4                 2                 5                3                 5   \n",
       "\n",
       "   Cleanliness  Departure Delay in Minutes  Arrival Delay in Minutes  \\\n",
       "0            4                          10                       3.0   \n",
       "1            3                           0                       0.0   \n",
       "2            2                           0                      18.0   \n",
       "3            2                           0                       0.0   \n",
       "4            4                           0                      10.0   \n",
       "\n",
       "   satisfaction  \n",
       "0             0  \n",
       "1             1  \n",
       "2             0  \n",
       "3             1  \n",
       "4             0  \n",
       "\n",
       "[5 rows x 24 columns]"
      ]
     },
     "execution_count": 2,
     "metadata": {},
     "output_type": "execute_result"
    }
   ],
   "source": [
    "df = pd.read_csv(\"../input/aviakompaniya/train_dataset.csv\")\n",
    "df2 = pd.read_csv(\"../input/aviakompaniya/test_dataset.csv\")\n",
    "sample_submission = pd.read_csv('../input/aviakompaniya/sample_submission.csv')\n",
    "df.head()"
   ]
  },
  {
   "cell_type": "code",
   "execution_count": 3,
   "id": "f189f0ca",
   "metadata": {
    "execution": {
     "iopub.execute_input": "2022-09-25T08:40:02.745800Z",
     "iopub.status.busy": "2022-09-25T08:40:02.745351Z",
     "iopub.status.idle": "2022-09-25T08:40:02.784382Z",
     "shell.execute_reply": "2022-09-25T08:40:02.783083Z"
    },
    "papermill": {
     "duration": 0.057624,
     "end_time": "2022-09-25T08:40:02.787144",
     "exception": false,
     "start_time": "2022-09-25T08:40:02.729520",
     "status": "completed"
    },
    "tags": []
   },
   "outputs": [
    {
     "data": {
      "text/html": [
       "<div>\n",
       "<style scoped>\n",
       "    .dataframe tbody tr th:only-of-type {\n",
       "        vertical-align: middle;\n",
       "    }\n",
       "\n",
       "    .dataframe tbody tr th {\n",
       "        vertical-align: top;\n",
       "    }\n",
       "\n",
       "    .dataframe thead th {\n",
       "        text-align: right;\n",
       "    }\n",
       "</style>\n",
       "<table border=\"1\" class=\"dataframe\">\n",
       "  <thead>\n",
       "    <tr style=\"text-align: right;\">\n",
       "      <th></th>\n",
       "      <th>id</th>\n",
       "      <th>Gender</th>\n",
       "      <th>Customer Type</th>\n",
       "      <th>Age</th>\n",
       "      <th>Type of Travel</th>\n",
       "      <th>Class</th>\n",
       "      <th>Flight Distance</th>\n",
       "      <th>Inflight wifi service</th>\n",
       "      <th>Departure/Arrival time convenient</th>\n",
       "      <th>Ease of Online booking</th>\n",
       "      <th>...</th>\n",
       "      <th>Inflight entertainment</th>\n",
       "      <th>On-board service</th>\n",
       "      <th>Leg room service</th>\n",
       "      <th>Baggage handling</th>\n",
       "      <th>Checkin service</th>\n",
       "      <th>Inflight service</th>\n",
       "      <th>Cleanliness</th>\n",
       "      <th>Departure Delay in Minutes</th>\n",
       "      <th>Arrival Delay in Minutes</th>\n",
       "      <th>satisfaction</th>\n",
       "    </tr>\n",
       "  </thead>\n",
       "  <tbody>\n",
       "    <tr>\n",
       "      <th>0</th>\n",
       "      <td>1</td>\n",
       "      <td>Male</td>\n",
       "      <td>disloyal Customer</td>\n",
       "      <td>33</td>\n",
       "      <td>Business travel</td>\n",
       "      <td>Eco</td>\n",
       "      <td>571</td>\n",
       "      <td>2</td>\n",
       "      <td>3</td>\n",
       "      <td>2</td>\n",
       "      <td>...</td>\n",
       "      <td>4</td>\n",
       "      <td>3</td>\n",
       "      <td>1</td>\n",
       "      <td>3</td>\n",
       "      <td>4</td>\n",
       "      <td>3</td>\n",
       "      <td>4</td>\n",
       "      <td>10</td>\n",
       "      <td>3.0</td>\n",
       "      <td>0</td>\n",
       "    </tr>\n",
       "    <tr>\n",
       "      <th>1</th>\n",
       "      <td>2</td>\n",
       "      <td>Female</td>\n",
       "      <td>Loyal Customer</td>\n",
       "      <td>49</td>\n",
       "      <td>Business travel</td>\n",
       "      <td>Business</td>\n",
       "      <td>1431</td>\n",
       "      <td>4</td>\n",
       "      <td>1</td>\n",
       "      <td>4</td>\n",
       "      <td>...</td>\n",
       "      <td>5</td>\n",
       "      <td>5</td>\n",
       "      <td>5</td>\n",
       "      <td>5</td>\n",
       "      <td>3</td>\n",
       "      <td>5</td>\n",
       "      <td>3</td>\n",
       "      <td>0</td>\n",
       "      <td>0.0</td>\n",
       "      <td>1</td>\n",
       "    </tr>\n",
       "    <tr>\n",
       "      <th>2</th>\n",
       "      <td>3</td>\n",
       "      <td>Female</td>\n",
       "      <td>Loyal Customer</td>\n",
       "      <td>43</td>\n",
       "      <td>Business travel</td>\n",
       "      <td>Eco</td>\n",
       "      <td>867</td>\n",
       "      <td>1</td>\n",
       "      <td>4</td>\n",
       "      <td>4</td>\n",
       "      <td>...</td>\n",
       "      <td>1</td>\n",
       "      <td>1</td>\n",
       "      <td>1</td>\n",
       "      <td>1</td>\n",
       "      <td>1</td>\n",
       "      <td>1</td>\n",
       "      <td>2</td>\n",
       "      <td>0</td>\n",
       "      <td>18.0</td>\n",
       "      <td>0</td>\n",
       "    </tr>\n",
       "    <tr>\n",
       "      <th>3</th>\n",
       "      <td>4</td>\n",
       "      <td>Female</td>\n",
       "      <td>Loyal Customer</td>\n",
       "      <td>27</td>\n",
       "      <td>Business travel</td>\n",
       "      <td>Business</td>\n",
       "      <td>1550</td>\n",
       "      <td>3</td>\n",
       "      <td>3</td>\n",
       "      <td>3</td>\n",
       "      <td>...</td>\n",
       "      <td>2</td>\n",
       "      <td>4</td>\n",
       "      <td>4</td>\n",
       "      <td>5</td>\n",
       "      <td>5</td>\n",
       "      <td>4</td>\n",
       "      <td>2</td>\n",
       "      <td>0</td>\n",
       "      <td>0.0</td>\n",
       "      <td>1</td>\n",
       "    </tr>\n",
       "    <tr>\n",
       "      <th>4</th>\n",
       "      <td>5</td>\n",
       "      <td>Male</td>\n",
       "      <td>Loyal Customer</td>\n",
       "      <td>11</td>\n",
       "      <td>Personal Travel</td>\n",
       "      <td>Eco</td>\n",
       "      <td>526</td>\n",
       "      <td>3</td>\n",
       "      <td>4</td>\n",
       "      <td>3</td>\n",
       "      <td>...</td>\n",
       "      <td>4</td>\n",
       "      <td>5</td>\n",
       "      <td>2</td>\n",
       "      <td>5</td>\n",
       "      <td>3</td>\n",
       "      <td>5</td>\n",
       "      <td>4</td>\n",
       "      <td>0</td>\n",
       "      <td>10.0</td>\n",
       "      <td>0</td>\n",
       "    </tr>\n",
       "    <tr>\n",
       "      <th>...</th>\n",
       "      <td>...</td>\n",
       "      <td>...</td>\n",
       "      <td>...</td>\n",
       "      <td>...</td>\n",
       "      <td>...</td>\n",
       "      <td>...</td>\n",
       "      <td>...</td>\n",
       "      <td>...</td>\n",
       "      <td>...</td>\n",
       "      <td>...</td>\n",
       "      <td>...</td>\n",
       "      <td>...</td>\n",
       "      <td>...</td>\n",
       "      <td>...</td>\n",
       "      <td>...</td>\n",
       "      <td>...</td>\n",
       "      <td>...</td>\n",
       "      <td>...</td>\n",
       "      <td>...</td>\n",
       "      <td>...</td>\n",
       "      <td>...</td>\n",
       "    </tr>\n",
       "    <tr>\n",
       "      <th>9995</th>\n",
       "      <td>9996</td>\n",
       "      <td>Female</td>\n",
       "      <td>Loyal Customer</td>\n",
       "      <td>54</td>\n",
       "      <td>Personal Travel</td>\n",
       "      <td>Eco</td>\n",
       "      <td>1068</td>\n",
       "      <td>1</td>\n",
       "      <td>4</td>\n",
       "      <td>1</td>\n",
       "      <td>...</td>\n",
       "      <td>4</td>\n",
       "      <td>4</td>\n",
       "      <td>1</td>\n",
       "      <td>4</td>\n",
       "      <td>4</td>\n",
       "      <td>4</td>\n",
       "      <td>3</td>\n",
       "      <td>21</td>\n",
       "      <td>12.0</td>\n",
       "      <td>0</td>\n",
       "    </tr>\n",
       "    <tr>\n",
       "      <th>9996</th>\n",
       "      <td>9997</td>\n",
       "      <td>Female</td>\n",
       "      <td>Loyal Customer</td>\n",
       "      <td>54</td>\n",
       "      <td>Business travel</td>\n",
       "      <td>Eco Plus</td>\n",
       "      <td>1399</td>\n",
       "      <td>4</td>\n",
       "      <td>1</td>\n",
       "      <td>1</td>\n",
       "      <td>...</td>\n",
       "      <td>4</td>\n",
       "      <td>4</td>\n",
       "      <td>4</td>\n",
       "      <td>4</td>\n",
       "      <td>1</td>\n",
       "      <td>4</td>\n",
       "      <td>4</td>\n",
       "      <td>34</td>\n",
       "      <td>21.0</td>\n",
       "      <td>0</td>\n",
       "    </tr>\n",
       "    <tr>\n",
       "      <th>9997</th>\n",
       "      <td>9998</td>\n",
       "      <td>Male</td>\n",
       "      <td>Loyal Customer</td>\n",
       "      <td>46</td>\n",
       "      <td>Business travel</td>\n",
       "      <td>Business</td>\n",
       "      <td>1440</td>\n",
       "      <td>3</td>\n",
       "      <td>3</td>\n",
       "      <td>2</td>\n",
       "      <td>...</td>\n",
       "      <td>4</td>\n",
       "      <td>4</td>\n",
       "      <td>4</td>\n",
       "      <td>4</td>\n",
       "      <td>3</td>\n",
       "      <td>4</td>\n",
       "      <td>3</td>\n",
       "      <td>37</td>\n",
       "      <td>38.0</td>\n",
       "      <td>1</td>\n",
       "    </tr>\n",
       "    <tr>\n",
       "      <th>9998</th>\n",
       "      <td>9999</td>\n",
       "      <td>Female</td>\n",
       "      <td>Loyal Customer</td>\n",
       "      <td>41</td>\n",
       "      <td>Business travel</td>\n",
       "      <td>Business</td>\n",
       "      <td>90</td>\n",
       "      <td>4</td>\n",
       "      <td>1</td>\n",
       "      <td>4</td>\n",
       "      <td>...</td>\n",
       "      <td>3</td>\n",
       "      <td>4</td>\n",
       "      <td>5</td>\n",
       "      <td>5</td>\n",
       "      <td>5</td>\n",
       "      <td>4</td>\n",
       "      <td>5</td>\n",
       "      <td>64</td>\n",
       "      <td>210.0</td>\n",
       "      <td>1</td>\n",
       "    </tr>\n",
       "    <tr>\n",
       "      <th>9999</th>\n",
       "      <td>10000</td>\n",
       "      <td>Male</td>\n",
       "      <td>Loyal Customer</td>\n",
       "      <td>41</td>\n",
       "      <td>Business travel</td>\n",
       "      <td>Business</td>\n",
       "      <td>1747</td>\n",
       "      <td>3</td>\n",
       "      <td>3</td>\n",
       "      <td>3</td>\n",
       "      <td>...</td>\n",
       "      <td>4</td>\n",
       "      <td>4</td>\n",
       "      <td>4</td>\n",
       "      <td>4</td>\n",
       "      <td>3</td>\n",
       "      <td>4</td>\n",
       "      <td>5</td>\n",
       "      <td>2</td>\n",
       "      <td>0.0</td>\n",
       "      <td>1</td>\n",
       "    </tr>\n",
       "  </tbody>\n",
       "</table>\n",
       "<p>10000 rows × 24 columns</p>\n",
       "</div>"
      ],
      "text/plain": [
       "         id  Gender      Customer Type  Age   Type of Travel     Class  \\\n",
       "0         1    Male  disloyal Customer   33  Business travel       Eco   \n",
       "1         2  Female     Loyal Customer   49  Business travel  Business   \n",
       "2         3  Female     Loyal Customer   43  Business travel       Eco   \n",
       "3         4  Female     Loyal Customer   27  Business travel  Business   \n",
       "4         5    Male     Loyal Customer   11  Personal Travel       Eco   \n",
       "...     ...     ...                ...  ...              ...       ...   \n",
       "9995   9996  Female     Loyal Customer   54  Personal Travel       Eco   \n",
       "9996   9997  Female     Loyal Customer   54  Business travel  Eco Plus   \n",
       "9997   9998    Male     Loyal Customer   46  Business travel  Business   \n",
       "9998   9999  Female     Loyal Customer   41  Business travel  Business   \n",
       "9999  10000    Male     Loyal Customer   41  Business travel  Business   \n",
       "\n",
       "      Flight Distance  Inflight wifi service  \\\n",
       "0                 571                      2   \n",
       "1                1431                      4   \n",
       "2                 867                      1   \n",
       "3                1550                      3   \n",
       "4                 526                      3   \n",
       "...               ...                    ...   \n",
       "9995             1068                      1   \n",
       "9996             1399                      4   \n",
       "9997             1440                      3   \n",
       "9998               90                      4   \n",
       "9999             1747                      3   \n",
       "\n",
       "      Departure/Arrival time convenient  Ease of Online booking  ...  \\\n",
       "0                                     3                       2  ...   \n",
       "1                                     1                       4  ...   \n",
       "2                                     4                       4  ...   \n",
       "3                                     3                       3  ...   \n",
       "4                                     4                       3  ...   \n",
       "...                                 ...                     ...  ...   \n",
       "9995                                  4                       1  ...   \n",
       "9996                                  1                       1  ...   \n",
       "9997                                  3                       2  ...   \n",
       "9998                                  1                       4  ...   \n",
       "9999                                  3                       3  ...   \n",
       "\n",
       "      Inflight entertainment  On-board service  Leg room service  \\\n",
       "0                          4                 3                 1   \n",
       "1                          5                 5                 5   \n",
       "2                          1                 1                 1   \n",
       "3                          2                 4                 4   \n",
       "4                          4                 5                 2   \n",
       "...                      ...               ...               ...   \n",
       "9995                       4                 4                 1   \n",
       "9996                       4                 4                 4   \n",
       "9997                       4                 4                 4   \n",
       "9998                       3                 4                 5   \n",
       "9999                       4                 4                 4   \n",
       "\n",
       "      Baggage handling  Checkin service  Inflight service  Cleanliness  \\\n",
       "0                    3                4                 3            4   \n",
       "1                    5                3                 5            3   \n",
       "2                    1                1                 1            2   \n",
       "3                    5                5                 4            2   \n",
       "4                    5                3                 5            4   \n",
       "...                ...              ...               ...          ...   \n",
       "9995                 4                4                 4            3   \n",
       "9996                 4                1                 4            4   \n",
       "9997                 4                3                 4            3   \n",
       "9998                 5                5                 4            5   \n",
       "9999                 4                3                 4            5   \n",
       "\n",
       "      Departure Delay in Minutes  Arrival Delay in Minutes  satisfaction  \n",
       "0                             10                       3.0             0  \n",
       "1                              0                       0.0             1  \n",
       "2                              0                      18.0             0  \n",
       "3                              0                       0.0             1  \n",
       "4                              0                      10.0             0  \n",
       "...                          ...                       ...           ...  \n",
       "9995                          21                      12.0             0  \n",
       "9996                          34                      21.0             0  \n",
       "9997                          37                      38.0             1  \n",
       "9998                          64                     210.0             1  \n",
       "9999                           2                       0.0             1  \n",
       "\n",
       "[10000 rows x 24 columns]"
      ]
     },
     "execution_count": 3,
     "metadata": {},
     "output_type": "execute_result"
    }
   ],
   "source": [
    "df"
   ]
  },
  {
   "cell_type": "markdown",
   "id": "b61365bd",
   "metadata": {
    "papermill": {
     "duration": 0.014038,
     "end_time": "2022-09-25T08:40:02.815540",
     "exception": false,
     "start_time": "2022-09-25T08:40:02.801502",
     "status": "completed"
    },
    "tags": []
   },
   "source": [
    "## Ma'lumotlarni tahlil qilamiz"
   ]
  },
  {
   "cell_type": "code",
   "execution_count": 4,
   "id": "fb260738",
   "metadata": {
    "execution": {
     "iopub.execute_input": "2022-09-25T08:40:02.843765Z",
     "iopub.status.busy": "2022-09-25T08:40:02.843354Z",
     "iopub.status.idle": "2022-09-25T08:40:02.876010Z",
     "shell.execute_reply": "2022-09-25T08:40:02.874275Z"
    },
    "papermill": {
     "duration": 0.050244,
     "end_time": "2022-09-25T08:40:02.878975",
     "exception": false,
     "start_time": "2022-09-25T08:40:02.828731",
     "status": "completed"
    },
    "tags": []
   },
   "outputs": [
    {
     "name": "stdout",
     "output_type": "stream",
     "text": [
      "<class 'pandas.core.frame.DataFrame'>\n",
      "RangeIndex: 10000 entries, 0 to 9999\n",
      "Data columns (total 24 columns):\n",
      " #   Column                             Non-Null Count  Dtype  \n",
      "---  ------                             --------------  -----  \n",
      " 0   id                                 10000 non-null  int64  \n",
      " 1   Gender                             10000 non-null  object \n",
      " 2   Customer Type                      10000 non-null  object \n",
      " 3   Age                                10000 non-null  int64  \n",
      " 4   Type of Travel                     10000 non-null  object \n",
      " 5   Class                              10000 non-null  object \n",
      " 6   Flight Distance                    10000 non-null  int64  \n",
      " 7   Inflight wifi service              10000 non-null  int64  \n",
      " 8   Departure/Arrival time convenient  10000 non-null  int64  \n",
      " 9   Ease of Online booking             10000 non-null  int64  \n",
      " 10  Gate location                      10000 non-null  int64  \n",
      " 11  Food and drink                     10000 non-null  int64  \n",
      " 12  Online boarding                    10000 non-null  int64  \n",
      " 13  Seat comfort                       10000 non-null  int64  \n",
      " 14  Inflight entertainment             10000 non-null  int64  \n",
      " 15  On-board service                   10000 non-null  int64  \n",
      " 16  Leg room service                   10000 non-null  int64  \n",
      " 17  Baggage handling                   10000 non-null  int64  \n",
      " 18  Checkin service                    10000 non-null  int64  \n",
      " 19  Inflight service                   10000 non-null  int64  \n",
      " 20  Cleanliness                        10000 non-null  int64  \n",
      " 21  Departure Delay in Minutes         10000 non-null  int64  \n",
      " 22  Arrival Delay in Minutes           9972 non-null   float64\n",
      " 23  satisfaction                       10000 non-null  int64  \n",
      "dtypes: float64(1), int64(19), object(4)\n",
      "memory usage: 1.8+ MB\n"
     ]
    }
   ],
   "source": [
    "df.info()"
   ]
  },
  {
   "cell_type": "code",
   "execution_count": 5,
   "id": "49b843c6",
   "metadata": {
    "execution": {
     "iopub.execute_input": "2022-09-25T08:40:02.907808Z",
     "iopub.status.busy": "2022-09-25T08:40:02.907431Z",
     "iopub.status.idle": "2022-09-25T08:40:02.916760Z",
     "shell.execute_reply": "2022-09-25T08:40:02.915526Z"
    },
    "papermill": {
     "duration": 0.026498,
     "end_time": "2022-09-25T08:40:02.919169",
     "exception": false,
     "start_time": "2022-09-25T08:40:02.892671",
     "status": "completed"
    },
    "tags": []
   },
   "outputs": [
    {
     "data": {
      "text/plain": [
       "Business    5048\n",
       "Eco         4251\n",
       "Eco Plus     701\n",
       "Name: Class, dtype: int64"
      ]
     },
     "execution_count": 5,
     "metadata": {},
     "output_type": "execute_result"
    }
   ],
   "source": [
    "df['Class'].value_counts()"
   ]
  },
  {
   "cell_type": "code",
   "execution_count": 6,
   "id": "7784ddba",
   "metadata": {
    "execution": {
     "iopub.execute_input": "2022-09-25T08:40:02.949539Z",
     "iopub.status.busy": "2022-09-25T08:40:02.949114Z",
     "iopub.status.idle": "2022-09-25T08:40:02.958455Z",
     "shell.execute_reply": "2022-09-25T08:40:02.957128Z"
    },
    "papermill": {
     "duration": 0.027211,
     "end_time": "2022-09-25T08:40:02.960956",
     "exception": false,
     "start_time": "2022-09-25T08:40:02.933745",
     "status": "completed"
    },
    "tags": []
   },
   "outputs": [
    {
     "data": {
      "text/plain": [
       "Female    5169\n",
       "Male      4831\n",
       "Name: Gender, dtype: int64"
      ]
     },
     "execution_count": 6,
     "metadata": {},
     "output_type": "execute_result"
    }
   ],
   "source": [
    "df['Gender'].value_counts()"
   ]
  },
  {
   "cell_type": "code",
   "execution_count": 7,
   "id": "ea6f2e3b",
   "metadata": {
    "execution": {
     "iopub.execute_input": "2022-09-25T08:40:02.991129Z",
     "iopub.status.busy": "2022-09-25T08:40:02.990714Z",
     "iopub.status.idle": "2022-09-25T08:40:02.998564Z",
     "shell.execute_reply": "2022-09-25T08:40:02.997739Z"
    },
    "papermill": {
     "duration": 0.025759,
     "end_time": "2022-09-25T08:40:03.000669",
     "exception": false,
     "start_time": "2022-09-25T08:40:02.974910",
     "status": "completed"
    },
    "tags": []
   },
   "outputs": [
    {
     "data": {
      "text/plain": [
       "Loyal Customer       8307\n",
       "disloyal Customer    1693\n",
       "Name: Customer Type, dtype: int64"
      ]
     },
     "execution_count": 7,
     "metadata": {},
     "output_type": "execute_result"
    }
   ],
   "source": [
    "df['Customer Type'].value_counts()"
   ]
  },
  {
   "cell_type": "code",
   "execution_count": 8,
   "id": "0b8b1aeb",
   "metadata": {
    "execution": {
     "iopub.execute_input": "2022-09-25T08:40:03.029695Z",
     "iopub.status.busy": "2022-09-25T08:40:03.029292Z",
     "iopub.status.idle": "2022-09-25T08:40:03.039395Z",
     "shell.execute_reply": "2022-09-25T08:40:03.038075Z"
    },
    "papermill": {
     "duration": 0.027598,
     "end_time": "2022-09-25T08:40:03.041968",
     "exception": false,
     "start_time": "2022-09-25T08:40:03.014370",
     "status": "completed"
    },
    "tags": []
   },
   "outputs": [
    {
     "data": {
      "text/plain": [
       "Business travel    7079\n",
       "Personal Travel    2921\n",
       "Name: Type of Travel, dtype: int64"
      ]
     },
     "execution_count": 8,
     "metadata": {},
     "output_type": "execute_result"
    }
   ],
   "source": [
    "df['Type of Travel'].value_counts()"
   ]
  },
  {
   "cell_type": "code",
   "execution_count": 9,
   "id": "d1dbae45",
   "metadata": {
    "execution": {
     "iopub.execute_input": "2022-09-25T08:40:03.072936Z",
     "iopub.status.busy": "2022-09-25T08:40:03.071956Z",
     "iopub.status.idle": "2022-09-25T08:40:03.089116Z",
     "shell.execute_reply": "2022-09-25T08:40:03.087386Z"
    },
    "papermill": {
     "duration": 0.035847,
     "end_time": "2022-09-25T08:40:03.092432",
     "exception": false,
     "start_time": "2022-09-25T08:40:03.056585",
     "status": "completed"
    },
    "tags": []
   },
   "outputs": [
    {
     "name": "stdout",
     "output_type": "stream",
     "text": [
      "<class 'pandas.core.frame.DataFrame'>\n",
      "RangeIndex: 4000 entries, 0 to 3999\n",
      "Data columns (total 23 columns):\n",
      " #   Column                             Non-Null Count  Dtype  \n",
      "---  ------                             --------------  -----  \n",
      " 0   id                                 4000 non-null   int64  \n",
      " 1   Gender                             4000 non-null   object \n",
      " 2   Customer Type                      4000 non-null   object \n",
      " 3   Age                                4000 non-null   int64  \n",
      " 4   Type of Travel                     4000 non-null   object \n",
      " 5   Class                              4000 non-null   object \n",
      " 6   Flight Distance                    4000 non-null   int64  \n",
      " 7   Inflight wifi service              4000 non-null   int64  \n",
      " 8   Departure/Arrival time convenient  4000 non-null   int64  \n",
      " 9   Ease of Online booking             4000 non-null   int64  \n",
      " 10  Gate location                      4000 non-null   int64  \n",
      " 11  Food and drink                     4000 non-null   int64  \n",
      " 12  Online boarding                    4000 non-null   int64  \n",
      " 13  Seat comfort                       4000 non-null   int64  \n",
      " 14  Inflight entertainment             4000 non-null   int64  \n",
      " 15  On-board service                   4000 non-null   int64  \n",
      " 16  Leg room service                   4000 non-null   int64  \n",
      " 17  Baggage handling                   4000 non-null   int64  \n",
      " 18  Checkin service                    4000 non-null   int64  \n",
      " 19  Inflight service                   4000 non-null   int64  \n",
      " 20  Cleanliness                        4000 non-null   int64  \n",
      " 21  Departure Delay in Minutes         4000 non-null   int64  \n",
      " 22  Arrival Delay in Minutes           3981 non-null   float64\n",
      "dtypes: float64(1), int64(18), object(4)\n",
      "memory usage: 718.9+ KB\n"
     ]
    }
   ],
   "source": [
    "df2.info()"
   ]
  },
  {
   "cell_type": "code",
   "execution_count": 10,
   "id": "42894f64",
   "metadata": {
    "execution": {
     "iopub.execute_input": "2022-09-25T08:40:03.124017Z",
     "iopub.status.busy": "2022-09-25T08:40:03.123609Z",
     "iopub.status.idle": "2022-09-25T08:40:03.147058Z",
     "shell.execute_reply": "2022-09-25T08:40:03.145826Z"
    },
    "papermill": {
     "duration": 0.041727,
     "end_time": "2022-09-25T08:40:03.149412",
     "exception": false,
     "start_time": "2022-09-25T08:40:03.107685",
     "status": "completed"
    },
    "tags": []
   },
   "outputs": [
    {
     "data": {
      "text/plain": [
       "satisfaction                         1.000000\n",
       "Online boarding                      0.504986\n",
       "Inflight entertainment               0.400900\n",
       "Seat comfort                         0.342294\n",
       "On-board service                     0.326426\n",
       "Leg room service                     0.324368\n",
       "Cleanliness                          0.310338\n",
       "Flight Distance                      0.298703\n",
       "Inflight wifi service                0.277395\n",
       "Baggage handling                     0.247965\n",
       "Inflight service                     0.240584\n",
       "Checkin service                      0.232359\n",
       "Food and drink                       0.207854\n",
       "Ease of Online booking               0.164662\n",
       "Age                                  0.144302\n",
       "Departure/Arrival time convenient    0.067638\n",
       "Arrival Delay in Minutes             0.048650\n",
       "Departure Delay in Minutes           0.042960\n",
       "Gate location                        0.007169\n",
       "id                                   0.002931\n",
       "dtype: float64"
      ]
     },
     "execution_count": 10,
     "metadata": {},
     "output_type": "execute_result"
    }
   ],
   "source": [
    "df.corrwith(df['satisfaction']).abs().sort_values(ascending=False)"
   ]
  },
  {
   "cell_type": "markdown",
   "id": "8463b590",
   "metadata": {
    "papermill": {
     "duration": 0.013717,
     "end_time": "2022-09-25T08:40:03.177826",
     "exception": false,
     "start_time": "2022-09-25T08:40:03.164109",
     "status": "completed"
    },
    "tags": []
   },
   "source": [
    "## Ma'lumotlarga ishlov berish"
   ]
  },
  {
   "cell_type": "code",
   "execution_count": 11,
   "id": "e76d75dc",
   "metadata": {
    "execution": {
     "iopub.execute_input": "2022-09-25T08:40:03.209137Z",
     "iopub.status.busy": "2022-09-25T08:40:03.208744Z",
     "iopub.status.idle": "2022-09-25T08:40:03.218020Z",
     "shell.execute_reply": "2022-09-25T08:40:03.216696Z"
    },
    "papermill": {
     "duration": 0.028614,
     "end_time": "2022-09-25T08:40:03.220793",
     "exception": false,
     "start_time": "2022-09-25T08:40:03.192179",
     "status": "completed"
    },
    "tags": []
   },
   "outputs": [
    {
     "data": {
      "text/plain": [
       "0    0.5\n",
       "1    0.5\n",
       "Name: satisfaction, dtype: float64"
      ]
     },
     "execution_count": 11,
     "metadata": {},
     "output_type": "execute_result"
    }
   ],
   "source": [
    "df['satisfaction'].value_counts()/len(df)"
   ]
  },
  {
   "cell_type": "markdown",
   "id": "40f843d7",
   "metadata": {
    "papermill": {
     "duration": 0.014602,
     "end_time": "2022-09-25T08:40:03.251611",
     "exception": false,
     "start_time": "2022-09-25T08:40:03.237009",
     "status": "completed"
    },
    "tags": []
   },
   "source": [
    "Ma'lumotlar juda yaxshi.\n"
   ]
  },
  {
   "cell_type": "code",
   "execution_count": 12,
   "id": "1fc50367",
   "metadata": {
    "execution": {
     "iopub.execute_input": "2022-09-25T08:40:03.283307Z",
     "iopub.status.busy": "2022-09-25T08:40:03.282851Z",
     "iopub.status.idle": "2022-09-25T08:40:03.291820Z",
     "shell.execute_reply": "2022-09-25T08:40:03.290517Z"
    },
    "papermill": {
     "duration": 0.028629,
     "end_time": "2022-09-25T08:40:03.294624",
     "exception": false,
     "start_time": "2022-09-25T08:40:03.265995",
     "status": "completed"
    },
    "tags": []
   },
   "outputs": [],
   "source": [
    "df = df.drop(columns=['id','Gate location','Departure Delay in Minutes'],axis=1)\n",
    "df2 = df2.drop(columns=['id','Gate location','Departure Delay in Minutes'],axis=1)\n"
   ]
  },
  {
   "cell_type": "code",
   "execution_count": 13,
   "id": "d38d2c98",
   "metadata": {
    "execution": {
     "iopub.execute_input": "2022-09-25T08:40:03.325385Z",
     "iopub.status.busy": "2022-09-25T08:40:03.324949Z",
     "iopub.status.idle": "2022-09-25T08:40:03.340335Z",
     "shell.execute_reply": "2022-09-25T08:40:03.338683Z"
    },
    "papermill": {
     "duration": 0.034371,
     "end_time": "2022-09-25T08:40:03.343252",
     "exception": false,
     "start_time": "2022-09-25T08:40:03.308881",
     "status": "completed"
    },
    "tags": []
   },
   "outputs": [
    {
     "name": "stdout",
     "output_type": "stream",
     "text": [
      "2    5048\n",
      "0    4251\n",
      "1     701\n",
      "Name: Class, dtype: int64\n",
      "2    2030\n",
      "0    1691\n",
      "1     279\n",
      "Name: Class, dtype: int64\n"
     ]
    }
   ],
   "source": [
    "dict = {'Eco':0, 'Eco Plus':1, 'Business':2}\n",
    "df['Class']=df['Class'].map(dict)\n",
    "print(df['Class'].value_counts())\n",
    "\n",
    "dict = {'Eco':0, 'Eco Plus':1, 'Business':2}\n",
    "df2['Class']=df2['Class'].map(dict)\n",
    "print(df2['Class'].value_counts())\n"
   ]
  },
  {
   "cell_type": "code",
   "execution_count": 14,
   "id": "1ea32a1e",
   "metadata": {
    "execution": {
     "iopub.execute_input": "2022-09-25T08:40:03.374174Z",
     "iopub.status.busy": "2022-09-25T08:40:03.373773Z",
     "iopub.status.idle": "2022-09-25T08:40:03.387867Z",
     "shell.execute_reply": "2022-09-25T08:40:03.386506Z"
    },
    "papermill": {
     "duration": 0.032626,
     "end_time": "2022-09-25T08:40:03.390559",
     "exception": false,
     "start_time": "2022-09-25T08:40:03.357933",
     "status": "completed"
    },
    "tags": []
   },
   "outputs": [
    {
     "name": "stdout",
     "output_type": "stream",
     "text": [
      "0    5169\n",
      "1    4831\n",
      "Name: Gender, dtype: int64\n",
      "1    2013\n",
      "0    1987\n",
      "Name: Gender, dtype: int64\n"
     ]
    }
   ],
   "source": [
    "dict = {'Female':0, 'Male':1}\n",
    "df['Gender']=df['Gender'].map(dict)\n",
    "print(df['Gender'].value_counts())\n",
    "\n",
    "dict = {'Female':0, 'Male':1}\n",
    "df2['Gender']=df2['Gender'].map(dict)\n",
    "print(df2['Gender'].value_counts())"
   ]
  },
  {
   "cell_type": "code",
   "execution_count": 15,
   "id": "400bf7ad",
   "metadata": {
    "execution": {
     "iopub.execute_input": "2022-09-25T08:40:03.421336Z",
     "iopub.status.busy": "2022-09-25T08:40:03.420410Z",
     "iopub.status.idle": "2022-09-25T08:40:03.433517Z",
     "shell.execute_reply": "2022-09-25T08:40:03.432275Z"
    },
    "papermill": {
     "duration": 0.031368,
     "end_time": "2022-09-25T08:40:03.436281",
     "exception": false,
     "start_time": "2022-09-25T08:40:03.404913",
     "status": "completed"
    },
    "tags": []
   },
   "outputs": [
    {
     "name": "stdout",
     "output_type": "stream",
     "text": [
      "1    8307\n",
      "0    1693\n",
      "Name: Customer Type, dtype: int64\n",
      "1    3264\n",
      "0     736\n",
      "Name: Customer Type, dtype: int64\n"
     ]
    }
   ],
   "source": [
    "dict = {'disloyal Customer':0, 'Loyal Customer':1}\n",
    "df['Customer Type'] = df['Customer Type'].map(dict)\n",
    "print(df['Customer Type'].value_counts())\n",
    "\n",
    "dict = {'disloyal Customer':0, 'Loyal Customer':1}\n",
    "df2['Customer Type'] = df2['Customer Type'].map(dict)\n",
    "print(df2['Customer Type'].value_counts())"
   ]
  },
  {
   "cell_type": "code",
   "execution_count": 16,
   "id": "9f71bd16",
   "metadata": {
    "execution": {
     "iopub.execute_input": "2022-09-25T08:40:03.467720Z",
     "iopub.status.busy": "2022-09-25T08:40:03.467300Z",
     "iopub.status.idle": "2022-09-25T08:40:03.480151Z",
     "shell.execute_reply": "2022-09-25T08:40:03.478785Z"
    },
    "papermill": {
     "duration": 0.031313,
     "end_time": "2022-09-25T08:40:03.482565",
     "exception": false,
     "start_time": "2022-09-25T08:40:03.451252",
     "status": "completed"
    },
    "tags": []
   },
   "outputs": [
    {
     "name": "stdout",
     "output_type": "stream",
     "text": [
      "1    7079\n",
      "0    2921\n",
      "Name: Type of Travel, dtype: int64\n",
      "1    2871\n",
      "0    1129\n",
      "Name: Type of Travel, dtype: int64\n"
     ]
    }
   ],
   "source": [
    "dict = {'Personal Travel':0, 'Business travel':1}\n",
    "df['Type of Travel'] = df['Type of Travel'].map(dict)\n",
    "print(df['Type of Travel'].value_counts())\n",
    "\n",
    "dict = {'Personal Travel':0, 'Business travel':1}\n",
    "df2['Type of Travel'] = df2['Type of Travel'].map(dict)\n",
    "print(df2['Type of Travel'].value_counts())"
   ]
  },
  {
   "cell_type": "code",
   "execution_count": 17,
   "id": "40b1d602",
   "metadata": {
    "execution": {
     "iopub.execute_input": "2022-09-25T08:40:03.513333Z",
     "iopub.status.busy": "2022-09-25T08:40:03.512899Z",
     "iopub.status.idle": "2022-09-25T08:40:03.524424Z",
     "shell.execute_reply": "2022-09-25T08:40:03.523391Z"
    },
    "papermill": {
     "duration": 0.029592,
     "end_time": "2022-09-25T08:40:03.526701",
     "exception": false,
     "start_time": "2022-09-25T08:40:03.497109",
     "status": "completed"
    },
    "tags": []
   },
   "outputs": [
    {
     "data": {
      "text/plain": [
       "Gender                                0\n",
       "Customer Type                         0\n",
       "Age                                   0\n",
       "Type of Travel                        0\n",
       "Class                                 0\n",
       "Flight Distance                       0\n",
       "Inflight wifi service                 0\n",
       "Departure/Arrival time convenient     0\n",
       "Ease of Online booking                0\n",
       "Food and drink                        0\n",
       "Online boarding                       0\n",
       "Seat comfort                          0\n",
       "Inflight entertainment                0\n",
       "On-board service                      0\n",
       "Leg room service                      0\n",
       "Baggage handling                      0\n",
       "Checkin service                       0\n",
       "Inflight service                      0\n",
       "Cleanliness                           0\n",
       "Arrival Delay in Minutes             28\n",
       "satisfaction                          0\n",
       "dtype: int64"
      ]
     },
     "execution_count": 17,
     "metadata": {},
     "output_type": "execute_result"
    }
   ],
   "source": [
    "df.isnull().sum()"
   ]
  },
  {
   "cell_type": "code",
   "execution_count": 18,
   "id": "9135af8f",
   "metadata": {
    "execution": {
     "iopub.execute_input": "2022-09-25T08:40:03.558441Z",
     "iopub.status.busy": "2022-09-25T08:40:03.558005Z",
     "iopub.status.idle": "2022-09-25T08:40:03.569285Z",
     "shell.execute_reply": "2022-09-25T08:40:03.567975Z"
    },
    "papermill": {
     "duration": 0.030285,
     "end_time": "2022-09-25T08:40:03.571631",
     "exception": false,
     "start_time": "2022-09-25T08:40:03.541346",
     "status": "completed"
    },
    "tags": []
   },
   "outputs": [
    {
     "data": {
      "text/plain": [
       "Gender                                0\n",
       "Customer Type                         0\n",
       "Age                                   0\n",
       "Type of Travel                        0\n",
       "Class                                 0\n",
       "Flight Distance                       0\n",
       "Inflight wifi service                 0\n",
       "Departure/Arrival time convenient     0\n",
       "Ease of Online booking                0\n",
       "Food and drink                        0\n",
       "Online boarding                       0\n",
       "Seat comfort                          0\n",
       "Inflight entertainment                0\n",
       "On-board service                      0\n",
       "Leg room service                      0\n",
       "Baggage handling                      0\n",
       "Checkin service                       0\n",
       "Inflight service                      0\n",
       "Cleanliness                           0\n",
       "Arrival Delay in Minutes             19\n",
       "dtype: int64"
      ]
     },
     "execution_count": 18,
     "metadata": {},
     "output_type": "execute_result"
    }
   ],
   "source": [
    "df2.isnull().sum()"
   ]
  },
  {
   "cell_type": "markdown",
   "id": "8081df06",
   "metadata": {
    "papermill": {
     "duration": 0.01464,
     "end_time": "2022-09-25T08:40:03.601041",
     "exception": false,
     "start_time": "2022-09-25T08:40:03.586401",
     "status": "completed"
    },
    "tags": []
   },
   "source": [
    "## ML ga tayyorgarlik"
   ]
  },
  {
   "cell_type": "code",
   "execution_count": 19,
   "id": "192e4f82",
   "metadata": {
    "execution": {
     "iopub.execute_input": "2022-09-25T08:40:03.632979Z",
     "iopub.status.busy": "2022-09-25T08:40:03.632191Z",
     "iopub.status.idle": "2022-09-25T08:40:03.653708Z",
     "shell.execute_reply": "2022-09-25T08:40:03.652750Z"
    },
    "papermill": {
     "duration": 0.040106,
     "end_time": "2022-09-25T08:40:03.656181",
     "exception": false,
     "start_time": "2022-09-25T08:40:03.616075",
     "status": "completed"
    },
    "tags": []
   },
   "outputs": [],
   "source": [
    "from sklearn.model_selection import StratifiedShuffleSplit\n",
    "stratified_split = StratifiedShuffleSplit(n_splits=1, test_size=0.4, random_state=42)\n",
    "# stratified_split.split funksiyasi indekslar qaytaradi\n",
    "for train_index,test_index in stratified_split.split(df, df['Gender']):\n",
    "  strat_train = df.loc[train_index]\n",
    "  strat_test = df.loc[test_index]\n",
    "\n",
    "X_train = strat_train.drop('satisfaction',axis=1)\n",
    "y = strat_train['satisfaction'].copy()\n",
    "X_test = strat_test.drop('satisfaction', axis=1)\n",
    "y_test = strat_test['satisfaction'].copy()"
   ]
  },
  {
   "cell_type": "code",
   "execution_count": 20,
   "id": "9d6832a8",
   "metadata": {
    "execution": {
     "iopub.execute_input": "2022-09-25T08:40:03.687964Z",
     "iopub.status.busy": "2022-09-25T08:40:03.687111Z",
     "iopub.status.idle": "2022-09-25T08:40:03.711255Z",
     "shell.execute_reply": "2022-09-25T08:40:03.710038Z"
    },
    "papermill": {
     "duration": 0.042868,
     "end_time": "2022-09-25T08:40:03.713917",
     "exception": false,
     "start_time": "2022-09-25T08:40:03.671049",
     "status": "completed"
    },
    "tags": []
   },
   "outputs": [
    {
     "data": {
      "text/html": [
       "<div>\n",
       "<style scoped>\n",
       "    .dataframe tbody tr th:only-of-type {\n",
       "        vertical-align: middle;\n",
       "    }\n",
       "\n",
       "    .dataframe tbody tr th {\n",
       "        vertical-align: top;\n",
       "    }\n",
       "\n",
       "    .dataframe thead th {\n",
       "        text-align: right;\n",
       "    }\n",
       "</style>\n",
       "<table border=\"1\" class=\"dataframe\">\n",
       "  <thead>\n",
       "    <tr style=\"text-align: right;\">\n",
       "      <th></th>\n",
       "      <th>Gender</th>\n",
       "      <th>Customer Type</th>\n",
       "      <th>Age</th>\n",
       "      <th>Type of Travel</th>\n",
       "      <th>Class</th>\n",
       "      <th>Flight Distance</th>\n",
       "      <th>Inflight wifi service</th>\n",
       "      <th>Departure/Arrival time convenient</th>\n",
       "      <th>Ease of Online booking</th>\n",
       "      <th>Food and drink</th>\n",
       "      <th>Online boarding</th>\n",
       "      <th>Seat comfort</th>\n",
       "      <th>Inflight entertainment</th>\n",
       "      <th>On-board service</th>\n",
       "      <th>Leg room service</th>\n",
       "      <th>Baggage handling</th>\n",
       "      <th>Checkin service</th>\n",
       "      <th>Inflight service</th>\n",
       "      <th>Cleanliness</th>\n",
       "      <th>Arrival Delay in Minutes</th>\n",
       "    </tr>\n",
       "  </thead>\n",
       "  <tbody>\n",
       "    <tr>\n",
       "      <th>5489</th>\n",
       "      <td>0</td>\n",
       "      <td>1</td>\n",
       "      <td>22</td>\n",
       "      <td>1</td>\n",
       "      <td>0</td>\n",
       "      <td>351</td>\n",
       "      <td>1</td>\n",
       "      <td>5</td>\n",
       "      <td>5</td>\n",
       "      <td>1</td>\n",
       "      <td>1</td>\n",
       "      <td>2</td>\n",
       "      <td>1</td>\n",
       "      <td>2</td>\n",
       "      <td>5</td>\n",
       "      <td>2</td>\n",
       "      <td>2</td>\n",
       "      <td>2</td>\n",
       "      <td>1</td>\n",
       "      <td>0.0</td>\n",
       "    </tr>\n",
       "    <tr>\n",
       "      <th>1961</th>\n",
       "      <td>0</td>\n",
       "      <td>1</td>\n",
       "      <td>44</td>\n",
       "      <td>1</td>\n",
       "      <td>1</td>\n",
       "      <td>216</td>\n",
       "      <td>1</td>\n",
       "      <td>2</td>\n",
       "      <td>2</td>\n",
       "      <td>5</td>\n",
       "      <td>3</td>\n",
       "      <td>2</td>\n",
       "      <td>1</td>\n",
       "      <td>1</td>\n",
       "      <td>1</td>\n",
       "      <td>1</td>\n",
       "      <td>2</td>\n",
       "      <td>1</td>\n",
       "      <td>4</td>\n",
       "      <td>0.0</td>\n",
       "    </tr>\n",
       "    <tr>\n",
       "      <th>8502</th>\n",
       "      <td>0</td>\n",
       "      <td>1</td>\n",
       "      <td>43</td>\n",
       "      <td>1</td>\n",
       "      <td>2</td>\n",
       "      <td>3487</td>\n",
       "      <td>5</td>\n",
       "      <td>5</td>\n",
       "      <td>5</td>\n",
       "      <td>5</td>\n",
       "      <td>5</td>\n",
       "      <td>4</td>\n",
       "      <td>4</td>\n",
       "      <td>4</td>\n",
       "      <td>4</td>\n",
       "      <td>4</td>\n",
       "      <td>5</td>\n",
       "      <td>4</td>\n",
       "      <td>3</td>\n",
       "      <td>0.0</td>\n",
       "    </tr>\n",
       "    <tr>\n",
       "      <th>1014</th>\n",
       "      <td>0</td>\n",
       "      <td>1</td>\n",
       "      <td>50</td>\n",
       "      <td>0</td>\n",
       "      <td>0</td>\n",
       "      <td>164</td>\n",
       "      <td>3</td>\n",
       "      <td>1</td>\n",
       "      <td>3</td>\n",
       "      <td>1</td>\n",
       "      <td>1</td>\n",
       "      <td>2</td>\n",
       "      <td>1</td>\n",
       "      <td>1</td>\n",
       "      <td>3</td>\n",
       "      <td>1</td>\n",
       "      <td>3</td>\n",
       "      <td>1</td>\n",
       "      <td>1</td>\n",
       "      <td>0.0</td>\n",
       "    </tr>\n",
       "    <tr>\n",
       "      <th>4709</th>\n",
       "      <td>1</td>\n",
       "      <td>1</td>\n",
       "      <td>29</td>\n",
       "      <td>1</td>\n",
       "      <td>2</td>\n",
       "      <td>2566</td>\n",
       "      <td>1</td>\n",
       "      <td>1</td>\n",
       "      <td>1</td>\n",
       "      <td>5</td>\n",
       "      <td>5</td>\n",
       "      <td>5</td>\n",
       "      <td>5</td>\n",
       "      <td>3</td>\n",
       "      <td>5</td>\n",
       "      <td>5</td>\n",
       "      <td>5</td>\n",
       "      <td>4</td>\n",
       "      <td>5</td>\n",
       "      <td>0.0</td>\n",
       "    </tr>\n",
       "    <tr>\n",
       "      <th>...</th>\n",
       "      <td>...</td>\n",
       "      <td>...</td>\n",
       "      <td>...</td>\n",
       "      <td>...</td>\n",
       "      <td>...</td>\n",
       "      <td>...</td>\n",
       "      <td>...</td>\n",
       "      <td>...</td>\n",
       "      <td>...</td>\n",
       "      <td>...</td>\n",
       "      <td>...</td>\n",
       "      <td>...</td>\n",
       "      <td>...</td>\n",
       "      <td>...</td>\n",
       "      <td>...</td>\n",
       "      <td>...</td>\n",
       "      <td>...</td>\n",
       "      <td>...</td>\n",
       "      <td>...</td>\n",
       "      <td>...</td>\n",
       "    </tr>\n",
       "    <tr>\n",
       "      <th>9183</th>\n",
       "      <td>1</td>\n",
       "      <td>1</td>\n",
       "      <td>48</td>\n",
       "      <td>1</td>\n",
       "      <td>0</td>\n",
       "      <td>954</td>\n",
       "      <td>5</td>\n",
       "      <td>4</td>\n",
       "      <td>4</td>\n",
       "      <td>5</td>\n",
       "      <td>5</td>\n",
       "      <td>5</td>\n",
       "      <td>5</td>\n",
       "      <td>5</td>\n",
       "      <td>5</td>\n",
       "      <td>1</td>\n",
       "      <td>1</td>\n",
       "      <td>3</td>\n",
       "      <td>5</td>\n",
       "      <td>0.0</td>\n",
       "    </tr>\n",
       "    <tr>\n",
       "      <th>199</th>\n",
       "      <td>1</td>\n",
       "      <td>1</td>\n",
       "      <td>58</td>\n",
       "      <td>1</td>\n",
       "      <td>1</td>\n",
       "      <td>160</td>\n",
       "      <td>5</td>\n",
       "      <td>1</td>\n",
       "      <td>1</td>\n",
       "      <td>5</td>\n",
       "      <td>5</td>\n",
       "      <td>5</td>\n",
       "      <td>5</td>\n",
       "      <td>5</td>\n",
       "      <td>3</td>\n",
       "      <td>3</td>\n",
       "      <td>4</td>\n",
       "      <td>3</td>\n",
       "      <td>5</td>\n",
       "      <td>0.0</td>\n",
       "    </tr>\n",
       "    <tr>\n",
       "      <th>2436</th>\n",
       "      <td>0</td>\n",
       "      <td>1</td>\n",
       "      <td>10</td>\n",
       "      <td>1</td>\n",
       "      <td>1</td>\n",
       "      <td>2419</td>\n",
       "      <td>2</td>\n",
       "      <td>4</td>\n",
       "      <td>4</td>\n",
       "      <td>2</td>\n",
       "      <td>4</td>\n",
       "      <td>2</td>\n",
       "      <td>2</td>\n",
       "      <td>5</td>\n",
       "      <td>3</td>\n",
       "      <td>3</td>\n",
       "      <td>2</td>\n",
       "      <td>4</td>\n",
       "      <td>2</td>\n",
       "      <td>0.0</td>\n",
       "    </tr>\n",
       "    <tr>\n",
       "      <th>2486</th>\n",
       "      <td>0</td>\n",
       "      <td>1</td>\n",
       "      <td>15</td>\n",
       "      <td>0</td>\n",
       "      <td>0</td>\n",
       "      <td>254</td>\n",
       "      <td>2</td>\n",
       "      <td>3</td>\n",
       "      <td>0</td>\n",
       "      <td>3</td>\n",
       "      <td>0</td>\n",
       "      <td>3</td>\n",
       "      <td>3</td>\n",
       "      <td>3</td>\n",
       "      <td>3</td>\n",
       "      <td>3</td>\n",
       "      <td>3</td>\n",
       "      <td>3</td>\n",
       "      <td>3</td>\n",
       "      <td>40.0</td>\n",
       "    </tr>\n",
       "    <tr>\n",
       "      <th>3190</th>\n",
       "      <td>1</td>\n",
       "      <td>1</td>\n",
       "      <td>51</td>\n",
       "      <td>1</td>\n",
       "      <td>2</td>\n",
       "      <td>1182</td>\n",
       "      <td>2</td>\n",
       "      <td>2</td>\n",
       "      <td>2</td>\n",
       "      <td>2</td>\n",
       "      <td>5</td>\n",
       "      <td>4</td>\n",
       "      <td>2</td>\n",
       "      <td>2</td>\n",
       "      <td>2</td>\n",
       "      <td>2</td>\n",
       "      <td>4</td>\n",
       "      <td>2</td>\n",
       "      <td>4</td>\n",
       "      <td>27.0</td>\n",
       "    </tr>\n",
       "  </tbody>\n",
       "</table>\n",
       "<p>6000 rows × 20 columns</p>\n",
       "</div>"
      ],
      "text/plain": [
       "      Gender  Customer Type  Age  Type of Travel  Class  Flight Distance  \\\n",
       "5489       0              1   22               1      0              351   \n",
       "1961       0              1   44               1      1              216   \n",
       "8502       0              1   43               1      2             3487   \n",
       "1014       0              1   50               0      0              164   \n",
       "4709       1              1   29               1      2             2566   \n",
       "...      ...            ...  ...             ...    ...              ...   \n",
       "9183       1              1   48               1      0              954   \n",
       "199        1              1   58               1      1              160   \n",
       "2436       0              1   10               1      1             2419   \n",
       "2486       0              1   15               0      0              254   \n",
       "3190       1              1   51               1      2             1182   \n",
       "\n",
       "      Inflight wifi service  Departure/Arrival time convenient  \\\n",
       "5489                      1                                  5   \n",
       "1961                      1                                  2   \n",
       "8502                      5                                  5   \n",
       "1014                      3                                  1   \n",
       "4709                      1                                  1   \n",
       "...                     ...                                ...   \n",
       "9183                      5                                  4   \n",
       "199                       5                                  1   \n",
       "2436                      2                                  4   \n",
       "2486                      2                                  3   \n",
       "3190                      2                                  2   \n",
       "\n",
       "      Ease of Online booking  Food and drink  Online boarding  Seat comfort  \\\n",
       "5489                       5               1                1             2   \n",
       "1961                       2               5                3             2   \n",
       "8502                       5               5                5             4   \n",
       "1014                       3               1                1             2   \n",
       "4709                       1               5                5             5   \n",
       "...                      ...             ...              ...           ...   \n",
       "9183                       4               5                5             5   \n",
       "199                        1               5                5             5   \n",
       "2436                       4               2                4             2   \n",
       "2486                       0               3                0             3   \n",
       "3190                       2               2                5             4   \n",
       "\n",
       "      Inflight entertainment  On-board service  Leg room service  \\\n",
       "5489                       1                 2                 5   \n",
       "1961                       1                 1                 1   \n",
       "8502                       4                 4                 4   \n",
       "1014                       1                 1                 3   \n",
       "4709                       5                 3                 5   \n",
       "...                      ...               ...               ...   \n",
       "9183                       5                 5                 5   \n",
       "199                        5                 5                 3   \n",
       "2436                       2                 5                 3   \n",
       "2486                       3                 3                 3   \n",
       "3190                       2                 2                 2   \n",
       "\n",
       "      Baggage handling  Checkin service  Inflight service  Cleanliness  \\\n",
       "5489                 2                2                 2            1   \n",
       "1961                 1                2                 1            4   \n",
       "8502                 4                5                 4            3   \n",
       "1014                 1                3                 1            1   \n",
       "4709                 5                5                 4            5   \n",
       "...                ...              ...               ...          ...   \n",
       "9183                 1                1                 3            5   \n",
       "199                  3                4                 3            5   \n",
       "2436                 3                2                 4            2   \n",
       "2486                 3                3                 3            3   \n",
       "3190                 2                4                 2            4   \n",
       "\n",
       "      Arrival Delay in Minutes  \n",
       "5489                       0.0  \n",
       "1961                       0.0  \n",
       "8502                       0.0  \n",
       "1014                       0.0  \n",
       "4709                       0.0  \n",
       "...                        ...  \n",
       "9183                       0.0  \n",
       "199                        0.0  \n",
       "2436                       0.0  \n",
       "2486                      40.0  \n",
       "3190                      27.0  \n",
       "\n",
       "[6000 rows x 20 columns]"
      ]
     },
     "execution_count": 20,
     "metadata": {},
     "output_type": "execute_result"
    }
   ],
   "source": [
    "X_train"
   ]
  },
  {
   "cell_type": "markdown",
   "id": "af5850fb",
   "metadata": {
    "papermill": {
     "duration": 0.017795,
     "end_time": "2022-09-25T08:40:03.748246",
     "exception": false,
     "start_time": "2022-09-25T08:40:03.730451",
     "status": "completed"
    },
    "tags": []
   },
   "source": [
    "## **Pipeline**"
   ]
  },
  {
   "cell_type": "markdown",
   "id": "7174b399",
   "metadata": {
    "papermill": {
     "duration": 0.014863,
     "end_time": "2022-09-25T08:40:03.778860",
     "exception": false,
     "start_time": "2022-09-25T08:40:03.763997",
     "status": "completed"
    },
    "tags": []
   },
   "source": [
    "### **To'liq pipeline**"
   ]
  },
  {
   "cell_type": "code",
   "execution_count": 21,
   "id": "8ac67d45",
   "metadata": {
    "execution": {
     "iopub.execute_input": "2022-09-25T08:40:03.811285Z",
     "iopub.status.busy": "2022-09-25T08:40:03.810794Z",
     "iopub.status.idle": "2022-09-25T08:40:03.828272Z",
     "shell.execute_reply": "2022-09-25T08:40:03.827003Z"
    },
    "papermill": {
     "duration": 0.037046,
     "end_time": "2022-09-25T08:40:03.831150",
     "exception": false,
     "start_time": "2022-09-25T08:40:03.794104",
     "status": "completed"
    },
    "tags": []
   },
   "outputs": [],
   "source": [
    "from sklearn.compose import ColumnTransformer\n",
    "from sklearn.pipeline import Pipeline\n",
    "from sklearn.impute import SimpleImputer\n",
    "from sklearn.preprocessing import OneHotEncoder, StandardScaler\n",
    "\n",
    "pipeline = Pipeline([\n",
    "          ('std_scaler', StandardScaler()),\n",
    "          ('imputer', SimpleImputer(strategy='median'))])\n",
    "    \n",
    "#full_pipeline = ColumnTransformer([\n",
    "#   ('num', num_pipeline)])\n",
    "\n",
    "        "
   ]
  },
  {
   "cell_type": "code",
   "execution_count": 22,
   "id": "ff0e4808",
   "metadata": {
    "execution": {
     "iopub.execute_input": "2022-09-25T08:40:03.864951Z",
     "iopub.status.busy": "2022-09-25T08:40:03.864505Z",
     "iopub.status.idle": "2022-09-25T08:40:03.906377Z",
     "shell.execute_reply": "2022-09-25T08:40:03.905148Z"
    },
    "papermill": {
     "duration": 0.061584,
     "end_time": "2022-09-25T08:40:03.908862",
     "exception": false,
     "start_time": "2022-09-25T08:40:03.847278",
     "status": "completed"
    },
    "tags": []
   },
   "outputs": [
    {
     "data": {
      "text/plain": [
       "array([[-0.96688144,  0.45256964, -1.16723006, ..., -1.42912895,\n",
       "        -1.76534147, -0.38219285],\n",
       "       [-0.96688144,  0.45256964,  0.31730897, ..., -2.27803239,\n",
       "         0.52433618, -0.38219285],\n",
       "       [-0.96688144,  0.45256964,  0.24982992, ...,  0.26867794,\n",
       "        -0.2388897 , -0.38219285],\n",
       "       ...,\n",
       "       [-0.96688144,  0.45256964, -1.97697862, ...,  0.26867794,\n",
       "        -1.00211559, -0.38219285],\n",
       "       [-0.96688144,  0.45256964, -1.63958339, ..., -0.5802255 ,\n",
       "        -0.2388897 ,  0.66189386],\n",
       "       [ 1.03425297,  0.45256964,  0.7896623 , ..., -1.42912895,\n",
       "         0.52433618,  0.32256568]])"
      ]
     },
     "execution_count": 22,
     "metadata": {},
     "output_type": "execute_result"
    }
   ],
   "source": [
    "X_prepared = pipeline.fit_transform(X_train)\n",
    "X_test_prepared = pipeline.fit_transform(X_test)\n",
    "\n",
    "X_prepared"
   ]
  },
  {
   "cell_type": "markdown",
   "id": "492d0783",
   "metadata": {
    "papermill": {
     "duration": 0.016253,
     "end_time": "2022-09-25T08:40:03.941019",
     "exception": false,
     "start_time": "2022-09-25T08:40:03.924766",
     "status": "completed"
    },
    "tags": []
   },
   "source": [
    "## **Eng yaxshi k ni topish**\n",
    "\n",
    "### **`for` yordamida**"
   ]
  },
  {
   "cell_type": "code",
   "execution_count": 23,
   "id": "6932d0ad",
   "metadata": {
    "execution": {
     "iopub.execute_input": "2022-09-25T08:40:03.974188Z",
     "iopub.status.busy": "2022-09-25T08:40:03.973766Z",
     "iopub.status.idle": "2022-09-25T08:41:08.485527Z",
     "shell.execute_reply": "2022-09-25T08:41:08.484005Z"
    },
    "papermill": {
     "duration": 64.544672,
     "end_time": "2022-09-25T08:41:08.501449",
     "exception": false,
     "start_time": "2022-09-25T08:40:03.956777",
     "status": "completed"
    },
    "tags": []
   },
   "outputs": [
    {
     "data": {
      "image/png": "[encoded data removed]",
      "text/plain": [
       "<Figure size 720x432 with 1 Axes>"
      ]
     },
     "metadata": {
      "needs_background": "light"
     },
     "output_type": "display_data"
    }
   ],
   "source": [
    "f1 = []\n",
    "for k in range(1,100):\n",
    "  knn = KNeighborsClassifier(n_neighbors=k)\n",
    "  knn.fit(X_prepared, y)\n",
    "  y_predict = knn.predict(X_test_prepared)\n",
    "  f1.append(f1_score(y_test, y_predict))\n",
    "\n",
    "plt.figure(figsize=(10,6))\n",
    "plt.plot(range(1,100),f1)\n",
    "plt.grid()\n",
    "plt.show()"
   ]
  },
  {
   "cell_type": "code",
   "execution_count": 24,
   "id": "31f15407",
   "metadata": {
    "execution": {
     "iopub.execute_input": "2022-09-25T08:41:08.535328Z",
     "iopub.status.busy": "2022-09-25T08:41:08.534902Z",
     "iopub.status.idle": "2022-09-25T08:41:18.202743Z",
     "shell.execute_reply": "2022-09-25T08:41:18.200577Z"
    },
    "papermill": {
     "duration": 9.688821,
     "end_time": "2022-09-25T08:41:18.206345",
     "exception": false,
     "start_time": "2022-09-25T08:41:08.517524",
     "status": "completed"
    },
    "tags": []
   },
   "outputs": [
    {
     "data": {
      "image/png": "[encoded data removed]",
      "text/plain": [
       "<Figure size 720x432 with 1 Axes>"
      ]
     },
     "metadata": {
      "needs_background": "light"
     },
     "output_type": "display_data"
    }
   ],
   "source": [
    "# Yaqinlashtirib ko'ramiz\n",
    "f1 = []\n",
    "for k in range(5,20):\n",
    "  knn = KNeighborsClassifier(n_neighbors=k)\n",
    "  knn.fit(X_prepared, y)\n",
    "  y_predict = knn.predict(X_test_prepared)\n",
    "  f1.append(f1_score(y_test, y_predict))\n",
    "\n",
    "plt.figure(figsize=(10,6))\n",
    "plt.plot(range(5,20),f1)\n",
    "plt.grid()\n",
    "plt.show()"
   ]
  },
  {
   "cell_type": "markdown",
   "id": "40e26b03",
   "metadata": {
    "papermill": {
     "duration": 0.017064,
     "end_time": "2022-09-25T08:41:18.246690",
     "exception": false,
     "start_time": "2022-09-25T08:41:18.229626",
     "status": "completed"
    },
    "tags": []
   },
   "source": [
    "## **ML**"
   ]
  },
  {
   "cell_type": "markdown",
   "id": "f85dc322",
   "metadata": {
    "papermill": {
     "duration": 0.016245,
     "end_time": "2022-09-25T08:41:18.280180",
     "exception": false,
     "start_time": "2022-09-25T08:41:18.263935",
     "status": "completed"
    },
    "tags": []
   },
   "source": [
    "### **KNN**"
   ]
  },
  {
   "cell_type": "code",
   "execution_count": 25,
   "id": "9ea783ae",
   "metadata": {
    "execution": {
     "iopub.execute_input": "2022-09-25T08:41:18.314492Z",
     "iopub.status.busy": "2022-09-25T08:41:18.314058Z",
     "iopub.status.idle": "2022-09-25T08:41:19.401519Z",
     "shell.execute_reply": "2022-09-25T08:41:19.400304Z"
    },
    "papermill": {
     "duration": 1.107664,
     "end_time": "2022-09-25T08:41:19.404151",
     "exception": false,
     "start_time": "2022-09-25T08:41:18.296487",
     "status": "completed"
    },
    "tags": []
   },
   "outputs": [
    {
     "name": "stdout",
     "output_type": "stream",
     "text": [
      "              precision    recall  f1-score   support\n",
      "\n",
      "           0       0.88      0.94      0.91      2004\n",
      "           1       0.94      0.87      0.91      1996\n",
      "\n",
      "    accuracy                           0.91      4000\n",
      "   macro avg       0.91      0.91      0.91      4000\n",
      "weighted avg       0.91      0.91      0.91      4000\n",
      "\n",
      "Model aniqligi: 0.90925\n"
     ]
    },
    {
     "data": {
      "image/png": "[encoded data removed]",
      "text/plain": [
       "<Figure size 432x288 with 2 Axes>"
      ]
     },
     "metadata": {
      "needs_background": "light"
     },
     "output_type": "display_data"
    },
    {
     "data": {
      "image/png": "[encoded data removed]",
      "text/plain": [
       "<Figure size 432x288 with 1 Axes>"
      ]
     },
     "metadata": {
      "needs_background": "light"
     },
     "output_type": "display_data"
    }
   ],
   "source": [
    "#k-NN\n",
    "knn = KNeighborsClassifier(n_neighbors=7)#k ni qiymati\n",
    "knn.fit(X_prepared, y)\n",
    "X_test_prepared = pipeline.transform(X_test)\n",
    "y_pred = knn.predict(X_test_prepared)\n",
    "print(classification_report(y_test, y_pred))\n",
    "print(\"Model aniqligi:\", accuracy_score(y_test,y_pred))\n",
    "\n",
    "## confusion matrix\n",
    "conf_mat = confusion_matrix(y_test, y_pred)\n",
    "sns.heatmap(conf_mat, annot=True,fmt=\"g\")\n",
    "plt.show()\n",
    "\n",
    "## ROC curve\n",
    "fpr, tpr, thresholds = roc_curve(y_test, y_pred)\n",
    "roc_auc = auc(fpr, tpr)\n",
    "display = RocCurveDisplay(fpr=fpr, tpr=tpr, roc_auc=roc_auc, estimator_name='ROC curve')\n",
    "display.plot()\n",
    "plt.show()\n",
    "\n"
   ]
  },
  {
   "cell_type": "markdown",
   "id": "97ec6630",
   "metadata": {
    "papermill": {
     "duration": 0.017895,
     "end_time": "2022-09-25T08:41:19.439340",
     "exception": false,
     "start_time": "2022-09-25T08:41:19.421445",
     "status": "completed"
    },
    "tags": []
   },
   "source": [
    "### **Logistic Regression**"
   ]
  },
  {
   "cell_type": "code",
   "execution_count": 26,
   "id": "42e6f37d",
   "metadata": {
    "execution": {
     "iopub.execute_input": "2022-09-25T08:41:19.475631Z",
     "iopub.status.busy": "2022-09-25T08:41:19.475204Z",
     "iopub.status.idle": "2022-09-25T08:41:20.025667Z",
     "shell.execute_reply": "2022-09-25T08:41:20.024274Z"
    },
    "papermill": {
     "duration": 0.572143,
     "end_time": "2022-09-25T08:41:20.028507",
     "exception": false,
     "start_time": "2022-09-25T08:41:19.456364",
     "status": "completed"
    },
    "tags": []
   },
   "outputs": [
    {
     "name": "stdout",
     "output_type": "stream",
     "text": [
      "              precision    recall  f1-score   support\n",
      "\n",
      "           0       0.86      0.87      0.86      2004\n",
      "           1       0.87      0.85      0.86      1996\n",
      "\n",
      "    accuracy                           0.86      4000\n",
      "   macro avg       0.86      0.86      0.86      4000\n",
      "weighted avg       0.86      0.86      0.86      4000\n",
      "\n",
      "Model aniqligi: 0.863\n"
     ]
    },
    {
     "data": {
      "image/png": "[encoded data removed]",
      "text/plain": [
       "<Figure size 432x288 with 2 Axes>"
      ]
     },
     "metadata": {
      "needs_background": "light"
     },
     "output_type": "display_data"
    },
    {
     "data": {
      "image/png": "[encoded data removed]",
      "text/plain": [
       "<Figure size 432x288 with 1 Axes>"
      ]
     },
     "metadata": {
      "needs_background": "light"
     },
     "output_type": "display_data"
    }
   ],
   "source": [
    "# Modelni tuzamiz (training)\n",
    "LR_model = LogisticRegression()\n",
    "LR_model.fit(X_prepared, y)\n",
    "\n",
    "# Modelni baholaymiz\n",
    "y_pred = LR_model.predict(X_test_prepared)\n",
    "print(classification_report(y_test, y_pred))\n",
    "print(\"Model aniqligi:\", metrics.accuracy_score(y_test,y_pred))\n",
    "\n",
    "## confusion matrix\n",
    "conf_mat = metrics.confusion_matrix(y_test, y_pred)\n",
    "sns.heatmap(conf_mat, annot=True,fmt=\"g\")\n",
    "plt.show()\n",
    "\n",
    "## ROC curve\n",
    "fpr, tpr, thresholds = metrics.roc_curve(y_test, y_pred)\n",
    "roc_auc = metrics.auc(fpr, tpr)\n",
    "display = metrics.RocCurveDisplay(fpr=fpr, tpr=tpr, roc_auc=roc_auc, estimator_name='ROC curve')\n",
    "display.plot()\n",
    "plt.show()"
   ]
  },
  {
   "cell_type": "markdown",
   "id": "1c5b28ef",
   "metadata": {
    "papermill": {
     "duration": 0.018109,
     "end_time": "2022-09-25T08:41:20.064683",
     "exception": false,
     "start_time": "2022-09-25T08:41:20.046574",
     "status": "completed"
    },
    "tags": []
   },
   "source": [
    "### **Support Vector Machines**"
   ]
  },
  {
   "cell_type": "code",
   "execution_count": 27,
   "id": "f2b8446d",
   "metadata": {
    "execution": {
     "iopub.execute_input": "2022-09-25T08:41:20.102894Z",
     "iopub.status.busy": "2022-09-25T08:41:20.102484Z",
     "iopub.status.idle": "2022-09-25T08:41:21.620621Z",
     "shell.execute_reply": "2022-09-25T08:41:21.619181Z"
    },
    "papermill": {
     "duration": 1.540565,
     "end_time": "2022-09-25T08:41:21.622964",
     "exception": false,
     "start_time": "2022-09-25T08:41:20.082399",
     "status": "completed"
    },
    "tags": []
   },
   "outputs": [
    {
     "name": "stdout",
     "output_type": "stream",
     "text": [
      "              precision    recall  f1-score   support\n",
      "\n",
      "           0       0.93      0.94      0.94      2004\n",
      "           1       0.94      0.93      0.93      1996\n",
      "\n",
      "    accuracy                           0.94      4000\n",
      "   macro avg       0.94      0.94      0.94      4000\n",
      "weighted avg       0.94      0.94      0.94      4000\n",
      "\n",
      "Model aniqligi: 0.9355\n"
     ]
    },
    {
     "data": {
      "image/png": "[encoded data removed]",
      "text/plain": [
       "<Figure size 432x288 with 2 Axes>"
      ]
     },
     "metadata": {
      "needs_background": "light"
     },
     "output_type": "display_data"
    },
    {
     "data": {
      "image/png": "[encoded data removed]",
      "text/plain": [
       "<Figure size 432x288 with 1 Axes>"
      ]
     },
     "metadata": {
      "needs_background": "light"
     },
     "output_type": "display_data"
    }
   ],
   "source": [
    "svm_model = SVC()\n",
    "svm_model.fit(X_prepared, y)\n",
    "\n",
    "# Modelni baholaymiz\n",
    "y_pred = svm_model.predict(X_test_prepared)\n",
    "print(classification_report(y_test, y_pred))\n",
    "print(\"Model aniqligi:\", accuracy_score(y_test,y_pred))\n",
    "\n",
    "## confusion matrix\n",
    "conf_mat = confusion_matrix(y_test, y_pred)\n",
    "sns.heatmap(conf_mat, annot=True,fmt=\"g\")\n",
    "plt.show()\n",
    "\n",
    "## ROC curve\n",
    "fpr, tpr, thresholds = metrics.roc_curve(y_test, y_pred)\n",
    "roc_auc = metrics.auc(fpr, tpr)\n",
    "display = metrics.RocCurveDisplay(fpr=fpr, tpr=tpr, roc_auc=roc_auc, estimator_name='ROC curve')\n",
    "display.plot()\n",
    "plt.show()"
   ]
  },
  {
   "cell_type": "markdown",
   "id": "1c4948c9",
   "metadata": {
    "papermill": {
     "duration": 0.017839,
     "end_time": "2022-09-25T08:41:21.659257",
     "exception": false,
     "start_time": "2022-09-25T08:41:21.641418",
     "status": "completed"
    },
    "tags": []
   },
   "source": [
    "### **Decision Tree**"
   ]
  },
  {
   "cell_type": "code",
   "execution_count": 28,
   "id": "842fbce2",
   "metadata": {
    "execution": {
     "iopub.execute_input": "2022-09-25T08:41:21.698753Z",
     "iopub.status.busy": "2022-09-25T08:41:21.698356Z",
     "iopub.status.idle": "2022-09-25T08:41:22.191455Z",
     "shell.execute_reply": "2022-09-25T08:41:22.189975Z"
    },
    "papermill": {
     "duration": 0.515901,
     "end_time": "2022-09-25T08:41:22.194090",
     "exception": false,
     "start_time": "2022-09-25T08:41:21.678189",
     "status": "completed"
    },
    "tags": []
   },
   "outputs": [
    {
     "name": "stdout",
     "output_type": "stream",
     "text": [
      "              precision    recall  f1-score   support\n",
      "\n",
      "           0       0.92      0.92      0.92      2004\n",
      "           1       0.92      0.92      0.92      1996\n",
      "\n",
      "    accuracy                           0.92      4000\n",
      "   macro avg       0.92      0.92      0.92      4000\n",
      "weighted avg       0.92      0.92      0.92      4000\n",
      "\n",
      "Model aniqligi: 0.92375\n"
     ]
    },
    {
     "data": {
      "image/png": "[encoded data removed]",
      "text/plain": [
       "<Figure size 432x288 with 2 Axes>"
      ]
     },
     "metadata": {
      "needs_background": "light"
     },
     "output_type": "display_data"
    },
    {
     "data": {
      "image/png": "[encoded data removed]",
      "text/plain": [
       "<Figure size 432x288 with 1 Axes>"
      ]
     },
     "metadata": {
      "needs_background": "light"
     },
     "output_type": "display_data"
    }
   ],
   "source": [
    "# Model tuzamiz (training)\n",
    "tree_model = DecisionTreeClassifier()\n",
    "tree_model.fit(X_prepared, y)\n",
    "\n",
    "# Modelni baholaymiz\n",
    "y_pred = tree_model.predict(X_test_prepared)\n",
    "print(classification_report(y_test, y_pred))\n",
    "print(\"Model aniqligi:\", accuracy_score(y_test,y_pred))\n",
    "\n",
    "## confusion matrix\n",
    "conf_mat = confusion_matrix(y_test, y_pred)\n",
    "sns.heatmap(conf_mat, annot=True,fmt=\"g\")\n",
    "plt.show()\n",
    "\n",
    "## ROC curve\n",
    "fpr, tpr, thresholds = roc_curve(y_test, y_pred)\n",
    "roc_auc = auc(fpr, tpr)\n",
    "display = RocCurveDisplay(fpr=fpr, tpr=tpr, roc_auc=roc_auc, estimator_name='ROC curve')\n",
    "display.plot()\n",
    "plt.show()"
   ]
  },
  {
   "cell_type": "markdown",
   "id": "e899d40f",
   "metadata": {
    "papermill": {
     "duration": 0.018809,
     "end_time": "2022-09-25T08:41:22.232261",
     "exception": false,
     "start_time": "2022-09-25T08:41:22.213452",
     "status": "completed"
    },
    "tags": []
   },
   "source": [
    "### **Random Forest**"
   ]
  },
  {
   "cell_type": "code",
   "execution_count": 29,
   "id": "04e2e92b",
   "metadata": {
    "execution": {
     "iopub.execute_input": "2022-09-25T08:41:22.272923Z",
     "iopub.status.busy": "2022-09-25T08:41:22.272187Z",
     "iopub.status.idle": "2022-09-25T08:41:22.943434Z",
     "shell.execute_reply": "2022-09-25T08:41:22.942166Z"
    },
    "papermill": {
     "duration": 0.694392,
     "end_time": "2022-09-25T08:41:22.945964",
     "exception": false,
     "start_time": "2022-09-25T08:41:22.251572",
     "status": "completed"
    },
    "tags": []
   },
   "outputs": [
    {
     "name": "stdout",
     "output_type": "stream",
     "text": [
      "              precision    recall  f1-score   support\n",
      "\n",
      "           0       0.93      0.94      0.94      2004\n",
      "           1       0.94      0.93      0.94      1996\n",
      "\n",
      "    accuracy                           0.94      4000\n",
      "   macro avg       0.94      0.94      0.94      4000\n",
      "weighted avg       0.94      0.94      0.94      4000\n",
      "\n",
      "Model aniqligi: 0.93575\n"
     ]
    },
    {
     "data": {
      "image/png": "[encoded data removed]",
      "text/plain": [
       "<Figure size 432x288 with 2 Axes>"
      ]
     },
     "metadata": {
      "needs_background": "light"
     },
     "output_type": "display_data"
    },
    {
     "data": {
      "image/png": "[encoded data removed]",
      "text/plain": [
       "<Figure size 432x288 with 1 Axes>"
      ]
     },
     "metadata": {
      "needs_background": "light"
     },
     "output_type": "display_data"
    }
   ],
   "source": [
    "# Modelni tuzamiz (training)\n",
    "RF_model = RandomForestClassifier(n_estimators=9)\n",
    "RF_model.fit(X_prepared, y)\n",
    "\n",
    "# Modelni baholaymiz\n",
    "y_pred = RF_model.predict(X_test_prepared)\n",
    "print(classification_report(y_test, y_pred))\n",
    "print(\"Model aniqligi:\", accuracy_score(y_test,y_pred))\n",
    "\n",
    "## confusion matrix\n",
    "conf_mat = confusion_matrix(y_test, y_pred)\n",
    "sns.heatmap(conf_mat, annot=True,fmt=\"g\")\n",
    "plt.show()\n",
    "\n",
    "## ROC curve\n",
    "fpr, tpr, thresholds = roc_curve(y_test, y_pred)\n",
    "roc_auc = auc(fpr, tpr)\n",
    "display = RocCurveDisplay(fpr=fpr, tpr=tpr, roc_auc=roc_auc, estimator_name='ROC curve')\n",
    "display.plot()\n",
    "plt.show()"
   ]
  },
  {
   "cell_type": "markdown",
   "id": "76aa355d",
   "metadata": {
    "papermill": {
     "duration": 0.019286,
     "end_time": "2022-09-25T08:41:22.985866",
     "exception": false,
     "start_time": "2022-09-25T08:41:22.966580",
     "status": "completed"
    },
    "tags": []
   },
   "source": [
    "### **Navie Bayes**"
   ]
  },
  {
   "cell_type": "code",
   "execution_count": 30,
   "id": "53d1d2fd",
   "metadata": {
    "execution": {
     "iopub.execute_input": "2022-09-25T08:41:23.027466Z",
     "iopub.status.busy": "2022-09-25T08:41:23.027039Z",
     "iopub.status.idle": "2022-09-25T08:41:23.479914Z",
     "shell.execute_reply": "2022-09-25T08:41:23.479079Z"
    },
    "papermill": {
     "duration": 0.47653,
     "end_time": "2022-09-25T08:41:23.481944",
     "exception": false,
     "start_time": "2022-09-25T08:41:23.005414",
     "status": "completed"
    },
    "tags": []
   },
   "outputs": [
    {
     "name": "stdout",
     "output_type": "stream",
     "text": [
      "              precision    recall  f1-score   support\n",
      "\n",
      "           0       0.84      0.89      0.86      2004\n",
      "           1       0.88      0.83      0.85      1996\n",
      "\n",
      "    accuracy                           0.86      4000\n",
      "   macro avg       0.86      0.86      0.86      4000\n",
      "weighted avg       0.86      0.86      0.86      4000\n",
      "\n",
      "Model aniqligi: 0.85625\n"
     ]
    },
    {
     "data": {
      "image/png": "[encoded data removed]",
      "text/plain": [
       "<Figure size 432x288 with 2 Axes>"
      ]
     },
     "metadata": {
      "needs_background": "light"
     },
     "output_type": "display_data"
    },
    {
     "data": {
      "image/png": "[encoded data removed]",
      "text/plain": [
       "<Figure size 432x288 with 1 Axes>"
      ]
     },
     "metadata": {
      "needs_background": "light"
     },
     "output_type": "display_data"
    }
   ],
   "source": [
    "# Modelni tuzamiz\n",
    "nb_model = GaussianNB()\n",
    "nb_model.fit(X_prepared,y)\n",
    "\n",
    "# Modelni baholaymiz\n",
    "y_pred = nb_model.predict(X_test_prepared)\n",
    "print(classification_report(y_test, y_pred))\n",
    "print(\"Model aniqligi:\", accuracy_score(y_test,y_pred))\n",
    "\n",
    "## confusion matrix\n",
    "conf_mat = confusion_matrix(y_test, y_pred)\n",
    "sns.heatmap(conf_mat, annot=True,fmt=\"g\")\n",
    "plt.show()\n",
    "\n",
    "## ROC curve\n",
    "fpr, tpr, thresholds = roc_curve(y_test, y_pred)\n",
    "roc_auc = auc(fpr, tpr)\n",
    "display = RocCurveDisplay(fpr=fpr, tpr=tpr, roc_auc=roc_auc, estimator_name='ROC curve')\n",
    "display.plot()\n",
    "plt.show()"
   ]
  },
  {
   "cell_type": "markdown",
   "id": "41e24dbc",
   "metadata": {
    "papermill": {
     "duration": 0.022139,
     "end_time": "2022-09-25T08:41:23.524823",
     "exception": false,
     "start_time": "2022-09-25T08:41:23.502684",
     "status": "completed"
    },
    "tags": []
   },
   "source": [
    "### **XGBoost**"
   ]
  },
  {
   "cell_type": "code",
   "execution_count": 31,
   "id": "7c4c8afb",
   "metadata": {
    "execution": {
     "iopub.execute_input": "2022-09-25T08:41:23.568548Z",
     "iopub.status.busy": "2022-09-25T08:41:23.567412Z",
     "iopub.status.idle": "2022-09-25T08:41:24.847894Z",
     "shell.execute_reply": "2022-09-25T08:41:24.846619Z"
    },
    "papermill": {
     "duration": 1.304814,
     "end_time": "2022-09-25T08:41:24.850453",
     "exception": false,
     "start_time": "2022-09-25T08:41:23.545639",
     "status": "completed"
    },
    "tags": []
   },
   "outputs": [
    {
     "name": "stdout",
     "output_type": "stream",
     "text": [
      "              precision    recall  f1-score   support\n",
      "\n",
      "           0       0.95      0.95      0.95      2004\n",
      "           1       0.95      0.95      0.95      1996\n",
      "\n",
      "    accuracy                           0.95      4000\n",
      "   macro avg       0.95      0.95      0.95      4000\n",
      "weighted avg       0.95      0.95      0.95      4000\n",
      "\n",
      "Model aniqligi: 0.94975\n"
     ]
    },
    {
     "data": {
      "image/png": "[encoded data removed]",
      "text/plain": [
       "<Figure size 432x288 with 2 Axes>"
      ]
     },
     "metadata": {
      "needs_background": "light"
     },
     "output_type": "display_data"
    },
    {
     "data": {
      "image/png": "[encoded data removed]",
      "text/plain": [
       "<Figure size 432x288 with 1 Axes>"
      ]
     },
     "metadata": {
      "needs_background": "light"
     },
     "output_type": "display_data"
    }
   ],
   "source": [
    "# Model tuzamiz (training)\n",
    "xgb_model = XGBClassifier()\n",
    "xgb_model.fit(X_prepared, y)\n",
    "\n",
    "# Modelni baholaymiz\n",
    "y_pred = xgb_model.predict(X_test_prepared)\n",
    "print(classification_report(y_test, y_pred))\n",
    "print(\"Model aniqligi:\", accuracy_score(y_test,y_pred))\n",
    "\n",
    "## confusion matrix\n",
    "conf_mat = confusion_matrix(y_test, y_pred)\n",
    "sns.heatmap(conf_mat, annot=True,fmt=\"g\")\n",
    "plt.show()\n",
    "\n",
    "## ROC curve\n",
    "fpr, tpr, thresholds = roc_curve(y_test, y_pred)\n",
    "roc_auc = auc(fpr, tpr)\n",
    "display = RocCurveDisplay(fpr=fpr, tpr=tpr, roc_auc=roc_auc, estimator_name='ROC curve')\n",
    "display.plot()\n",
    "plt.show()"
   ]
  },
  {
   "cell_type": "markdown",
   "id": "f67c84b0",
   "metadata": {
    "papermill": {
     "duration": 0.020639,
     "end_time": "2022-09-25T08:41:24.891986",
     "exception": false,
     "start_time": "2022-09-25T08:41:24.871347",
     "status": "completed"
    },
    "tags": []
   },
   "source": [
    "### **Baholash**"
   ]
  },
  {
   "cell_type": "markdown",
   "id": "16e212a8",
   "metadata": {
    "papermill": {
     "duration": 0.020487,
     "end_time": "2022-09-25T08:41:24.933306",
     "exception": false,
     "start_time": "2022-09-25T08:41:24.912819",
     "status": "completed"
    },
    "tags": []
   },
   "source": [
    "### **Jaccard index**"
   ]
  },
  {
   "cell_type": "code",
   "execution_count": 32,
   "id": "44edd8e6",
   "metadata": {
    "execution": {
     "iopub.execute_input": "2022-09-25T08:41:24.977496Z",
     "iopub.status.busy": "2022-09-25T08:41:24.976172Z",
     "iopub.status.idle": "2022-09-25T08:41:24.985896Z",
     "shell.execute_reply": "2022-09-25T08:41:24.984735Z"
    },
    "papermill": {
     "duration": 0.034275,
     "end_time": "2022-09-25T08:41:24.988345",
     "exception": false,
     "start_time": "2022-09-25T08:41:24.954070",
     "status": "completed"
    },
    "tags": []
   },
   "outputs": [
    {
     "data": {
      "text/plain": [
       "0.816452686638136"
      ]
     },
     "execution_count": 32,
     "metadata": {},
     "output_type": "execute_result"
    }
   ],
   "source": [
    "jaccard_score(y_test, y_predict)"
   ]
  },
  {
   "cell_type": "markdown",
   "id": "e981aa94",
   "metadata": {
    "papermill": {
     "duration": 0.02052,
     "end_time": "2022-09-25T08:41:25.029702",
     "exception": false,
     "start_time": "2022-09-25T08:41:25.009182",
     "status": "completed"
    },
    "tags": []
   },
   "source": [
    "### **Confusion matrix**"
   ]
  },
  {
   "cell_type": "code",
   "execution_count": 33,
   "id": "345bb06d",
   "metadata": {
    "execution": {
     "iopub.execute_input": "2022-09-25T08:41:25.073595Z",
     "iopub.status.busy": "2022-09-25T08:41:25.072560Z",
     "iopub.status.idle": "2022-09-25T08:41:25.315124Z",
     "shell.execute_reply": "2022-09-25T08:41:25.313927Z"
    },
    "papermill": {
     "duration": 0.266873,
     "end_time": "2022-09-25T08:41:25.317405",
     "exception": false,
     "start_time": "2022-09-25T08:41:25.050532",
     "status": "completed"
    },
    "tags": []
   },
   "outputs": [
    {
     "name": "stdout",
     "output_type": "stream",
     "text": [
      "Model aniqligi: 0.9035\n"
     ]
    },
    {
     "data": {
      "image/png": "[encoded data removed]",
      "text/plain": [
       "<Figure size 432x288 with 2 Axes>"
      ]
     },
     "metadata": {
      "needs_background": "light"
     },
     "output_type": "display_data"
    }
   ],
   "source": [
    "sns.heatmap(confusion_matrix(y_test,y_predict), annot=True)\n",
    "print(\"Model aniqligi:\", accuracy_score(y_test,y_predict))\n",
    "plt.show()"
   ]
  },
  {
   "cell_type": "markdown",
   "id": "637c6109",
   "metadata": {
    "papermill": {
     "duration": 0.021704,
     "end_time": "2022-09-25T08:41:25.361205",
     "exception": false,
     "start_time": "2022-09-25T08:41:25.339501",
     "status": "completed"
    },
    "tags": []
   },
   "source": [
    "### **Precision, recall, F1**"
   ]
  },
  {
   "cell_type": "code",
   "execution_count": 34,
   "id": "40e021ab",
   "metadata": {
    "execution": {
     "iopub.execute_input": "2022-09-25T08:41:25.408335Z",
     "iopub.status.busy": "2022-09-25T08:41:25.406823Z",
     "iopub.status.idle": "2022-09-25T08:41:25.423625Z",
     "shell.execute_reply": "2022-09-25T08:41:25.422205Z"
    },
    "papermill": {
     "duration": 0.042717,
     "end_time": "2022-09-25T08:41:25.426047",
     "exception": false,
     "start_time": "2022-09-25T08:41:25.383330",
     "status": "completed"
    },
    "tags": []
   },
   "outputs": [
    {
     "name": "stdout",
     "output_type": "stream",
     "text": [
      "precision: 0.9413377192982456\n",
      "recall: 0.8602204408817635\n",
      "f1: 0.8989528795811518\n",
      "accuracy: 0.9035\n"
     ]
    }
   ],
   "source": [
    "precision = precision_score(y_test,y_predict)\n",
    "recall = recall_score(y_test,y_predict)\n",
    "f1 = f1_score(y_test,y_predict)\n",
    "accuracy = accuracy_score(y_test,y_predict)\n",
    "print('precision:',precision)\n",
    "print('recall:',recall)\n",
    "print('f1:',f1)\n",
    "print('accuracy:',accuracy)"
   ]
  },
  {
   "cell_type": "code",
   "execution_count": 35,
   "id": "f6cb3139",
   "metadata": {
    "execution": {
     "iopub.execute_input": "2022-09-25T08:41:25.471513Z",
     "iopub.status.busy": "2022-09-25T08:41:25.470167Z",
     "iopub.status.idle": "2022-09-25T08:41:25.488389Z",
     "shell.execute_reply": "2022-09-25T08:41:25.486608Z"
    },
    "papermill": {
     "duration": 0.043515,
     "end_time": "2022-09-25T08:41:25.491079",
     "exception": false,
     "start_time": "2022-09-25T08:41:25.447564",
     "status": "completed"
    },
    "tags": []
   },
   "outputs": [
    {
     "name": "stdout",
     "output_type": "stream",
     "text": [
      "              precision    recall  f1-score   support\n",
      "\n",
      "           0       0.87      0.95      0.91      2004\n",
      "           1       0.94      0.86      0.90      1996\n",
      "\n",
      "    accuracy                           0.90      4000\n",
      "   macro avg       0.91      0.90      0.90      4000\n",
      "weighted avg       0.91      0.90      0.90      4000\n",
      "\n"
     ]
    }
   ],
   "source": [
    "print(classification_report(y_test,y_predict))"
   ]
  },
  {
   "cell_type": "markdown",
   "id": "15e7830f",
   "metadata": {
    "papermill": {
     "duration": 0.020762,
     "end_time": "2022-09-25T08:41:25.532950",
     "exception": false,
     "start_time": "2022-09-25T08:41:25.512188",
     "status": "completed"
    },
    "tags": []
   },
   "source": [
    "### **Cross-validation yordamida tekshiramiz**"
   ]
  },
  {
   "cell_type": "code",
   "execution_count": 36,
   "id": "13aeea06",
   "metadata": {
    "execution": {
     "iopub.execute_input": "2022-09-25T08:41:25.578806Z",
     "iopub.status.busy": "2022-09-25T08:41:25.578036Z",
     "iopub.status.idle": "2022-09-25T08:41:26.284026Z",
     "shell.execute_reply": "2022-09-25T08:41:26.281860Z"
    },
    "papermill": {
     "duration": 0.73246,
     "end_time": "2022-09-25T08:41:26.287011",
     "exception": false,
     "start_time": "2022-09-25T08:41:25.554551",
     "status": "completed"
    },
    "tags": []
   },
   "outputs": [
    {
     "name": "stdout",
     "output_type": "stream",
     "text": [
      "Model aniqligi: 0.94975\n",
      "Classification Report: \n",
      "               precision    recall  f1-score   support\n",
      "\n",
      "           0       0.87      0.94      0.90      2004\n",
      "           1       0.94      0.85      0.89      1996\n",
      "\n",
      "    accuracy                           0.90      4000\n",
      "   macro avg       0.90      0.90      0.90      4000\n",
      "weighted avg       0.90      0.90      0.90      4000\n",
      "\n"
     ]
    }
   ],
   "source": [
    "# Cross validation\n",
    "from sklearn.model_selection import cross_val_predict\n",
    "predict = cross_val_predict(estimator = knn, X = X_test_prepared, y = y_test, cv = 5)\n",
    "\n",
    "\n",
    "#Modelni baholash\n",
    "print(\"Model aniqligi:\", accuracy_score(y_test,y_pred))\n",
    "print('Classification Report: \\n', classification_report(y_test, predict))"
   ]
  },
  {
   "cell_type": "markdown",
   "id": "8c5419e9",
   "metadata": {
    "papermill": {
     "duration": 0.021414,
     "end_time": "2022-09-25T08:41:26.330354",
     "exception": false,
     "start_time": "2022-09-25T08:41:26.308940",
     "status": "completed"
    },
    "tags": []
   },
   "source": [
    "### **Eng yaxshi model**"
   ]
  },
  {
   "cell_type": "markdown",
   "id": "b0c2a07e",
   "metadata": {
    "papermill": {
     "duration": 0.021199,
     "end_time": "2022-09-25T08:41:26.373029",
     "exception": false,
     "start_time": "2022-09-25T08:41:26.351830",
     "status": "completed"
    },
    "tags": []
   },
   "source": [
    "### **XGBoost**"
   ]
  },
  {
   "cell_type": "code",
   "execution_count": 37,
   "id": "7aa20346",
   "metadata": {
    "execution": {
     "iopub.execute_input": "2022-09-25T08:41:26.417946Z",
     "iopub.status.busy": "2022-09-25T08:41:26.417530Z",
     "iopub.status.idle": "2022-09-25T08:41:27.233955Z",
     "shell.execute_reply": "2022-09-25T08:41:27.232826Z"
    },
    "papermill": {
     "duration": 0.842546,
     "end_time": "2022-09-25T08:41:27.236828",
     "exception": false,
     "start_time": "2022-09-25T08:41:26.394282",
     "status": "completed"
    },
    "tags": []
   },
   "outputs": [],
   "source": [
    "# Modelni tuzamiz (training)\n",
    "xgb_model = XGBClassifier()\n",
    "xgb_model.fit(X_prepared, y)\n",
    "\n",
    "# Modelni baholaymiz\n",
    "X_test_prepared = pipeline.fit_transform(df2)\n",
    "y_pred_xgb = xgb_model.predict(X_test_prepared)"
   ]
  },
  {
   "cell_type": "code",
   "execution_count": 38,
   "id": "1c8611fe",
   "metadata": {
    "execution": {
     "iopub.execute_input": "2022-09-25T08:41:27.283903Z",
     "iopub.status.busy": "2022-09-25T08:41:27.283450Z",
     "iopub.status.idle": "2022-09-25T08:41:27.305630Z",
     "shell.execute_reply": "2022-09-25T08:41:27.304525Z"
    },
    "papermill": {
     "duration": 0.047128,
     "end_time": "2022-09-25T08:41:27.307882",
     "exception": false,
     "start_time": "2022-09-25T08:41:27.260754",
     "status": "completed"
    },
    "tags": []
   },
   "outputs": [
    {
     "data": {
      "text/html": [
       "<div>\n",
       "<style scoped>\n",
       "    .dataframe tbody tr th:only-of-type {\n",
       "        vertical-align: middle;\n",
       "    }\n",
       "\n",
       "    .dataframe tbody tr th {\n",
       "        vertical-align: top;\n",
       "    }\n",
       "\n",
       "    .dataframe thead th {\n",
       "        text-align: right;\n",
       "    }\n",
       "</style>\n",
       "<table border=\"1\" class=\"dataframe\">\n",
       "  <thead>\n",
       "    <tr style=\"text-align: right;\">\n",
       "      <th></th>\n",
       "      <th>id</th>\n",
       "      <th>satisfaction</th>\n",
       "    </tr>\n",
       "  </thead>\n",
       "  <tbody>\n",
       "    <tr>\n",
       "      <th>0</th>\n",
       "      <td>1</td>\n",
       "      <td>0</td>\n",
       "    </tr>\n",
       "    <tr>\n",
       "      <th>1</th>\n",
       "      <td>2</td>\n",
       "      <td>1</td>\n",
       "    </tr>\n",
       "    <tr>\n",
       "      <th>2</th>\n",
       "      <td>3</td>\n",
       "      <td>1</td>\n",
       "    </tr>\n",
       "    <tr>\n",
       "      <th>3</th>\n",
       "      <td>4</td>\n",
       "      <td>1</td>\n",
       "    </tr>\n",
       "    <tr>\n",
       "      <th>4</th>\n",
       "      <td>5</td>\n",
       "      <td>0</td>\n",
       "    </tr>\n",
       "    <tr>\n",
       "      <th>...</th>\n",
       "      <td>...</td>\n",
       "      <td>...</td>\n",
       "    </tr>\n",
       "    <tr>\n",
       "      <th>3995</th>\n",
       "      <td>3996</td>\n",
       "      <td>1</td>\n",
       "    </tr>\n",
       "    <tr>\n",
       "      <th>3996</th>\n",
       "      <td>3997</td>\n",
       "      <td>0</td>\n",
       "    </tr>\n",
       "    <tr>\n",
       "      <th>3997</th>\n",
       "      <td>3998</td>\n",
       "      <td>0</td>\n",
       "    </tr>\n",
       "    <tr>\n",
       "      <th>3998</th>\n",
       "      <td>3999</td>\n",
       "      <td>1</td>\n",
       "    </tr>\n",
       "    <tr>\n",
       "      <th>3999</th>\n",
       "      <td>4000</td>\n",
       "      <td>0</td>\n",
       "    </tr>\n",
       "  </tbody>\n",
       "</table>\n",
       "<p>4000 rows × 2 columns</p>\n",
       "</div>"
      ],
      "text/plain": [
       "        id  satisfaction\n",
       "0        1             0\n",
       "1        2             1\n",
       "2        3             1\n",
       "3        4             1\n",
       "4        5             0\n",
       "...    ...           ...\n",
       "3995  3996             1\n",
       "3996  3997             0\n",
       "3997  3998             0\n",
       "3998  3999             1\n",
       "3999  4000             0\n",
       "\n",
       "[4000 rows x 2 columns]"
      ]
     },
     "execution_count": 38,
     "metadata": {},
     "output_type": "execute_result"
    }
   ],
   "source": [
    "sample_submission['satisfaction'] = y_pred_xgb\n",
    "sample_submission.to_csv(\"submission.csv\", index=False)\n",
    "\n",
    "pd.read_csv('submission.csv')"
   ]
  },
  {
   "cell_type": "code",
   "execution_count": null,
   "id": "8d5d4562",
   "metadata": {
    "papermill": {
     "duration": 0.022031,
     "end_time": "2022-09-25T08:41:27.352376",
     "exception": false,
     "start_time": "2022-09-25T08:41:27.330345",
     "status": "completed"
    },
    "tags": []
   },
   "outputs": [],
   "source": []
  }
 ],
 "metadata": {
  "kernelspec": {
   "display_name": "Python 3",
   "language": "python",
   "name": "python3"
  },
  "language_info": {
   "codemirror_mode": {
    "name": "ipython",
    "version": 3
   },
   "file_extension": ".py",
   "mimetype": "text/x-python",
   "name": "python",
   "nbconvert_exporter": "python",
   "pygments_lexer": "ipython3",
   "version": "3.7.12"
  },
  "papermill": {
   "default_parameters": {},
   "duration": 96.855049,
   "end_time": "2022-09-25T08:41:28.196750",
   "environment_variables": {},
   "exception": null,
   "input_path": "__notebook__.ipynb",
   "output_path": "__notebook__.ipynb",
   "parameters": {},
   "start_time": "2022-09-25T08:39:51.341701",
   "version": "2.3.4"
  }
 },
 "nbformat": 4,
 "nbformat_minor": 5
}
